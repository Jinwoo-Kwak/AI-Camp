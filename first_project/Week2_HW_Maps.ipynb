{
  "nbformat": 4,
  "nbformat_minor": 0,
  "metadata": {
    "colab": {
      "provenance": [],
      "authorship_tag": "ABX9TyP2v6QYyXwDkbOVfPBXR4CE",
      "include_colab_link": true
    },
    "kernelspec": {
      "name": "python3",
      "display_name": "Python 3"
    },
    "language_info": {
      "name": "python"
    }
  },
  "cells": [
    {
      "cell_type": "markdown",
      "metadata": {
        "id": "view-in-github",
        "colab_type": "text"
      },
      "source": [
        "<a href=\"https://colab.research.google.com/github/rewardisenough/AI-Camp-Summer-2022/blob/main/first_project/Week2_HW_Maps.ipynb\" target=\"_parent\"><img src=\"https://colab.research.google.com/assets/colab-badge.svg\" alt=\"Open In Colab\"/></a>"
      ]
    },
    {
      "cell_type": "code",
      "execution_count": 1,
      "metadata": {
        "id": "EioPTYFRVdKL"
      },
      "outputs": [],
      "source": [
        "# Python map problems (17 problems)\n",
        "# Source: https://www.w3resource.com/python-exercises/map/index.php"
      ]
    }
  ]
}