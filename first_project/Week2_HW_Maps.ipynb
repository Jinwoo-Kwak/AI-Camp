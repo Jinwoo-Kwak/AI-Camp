{
  "nbformat": 4,
  "nbformat_minor": 0,
  "metadata": {
    "colab": {
      "provenance": [],
      "authorship_tag": "ABX9TyOYBR8dkQt2kJEegf5b0Wp9",
      "include_colab_link": true
    },
    "kernelspec": {
      "name": "python3",
      "display_name": "Python 3"
    },
    "language_info": {
      "name": "python"
    }
  },
  "cells": [
    {
      "cell_type": "markdown",
      "metadata": {
        "id": "view-in-github",
        "colab_type": "text"
      },
      "source": [
        "<a href=\"https://colab.research.google.com/github/rewardisenough/AI-Camp-Summer-2022/blob/main/first_project/Week2_HW_Maps.ipynb\" target=\"_parent\"><img src=\"https://colab.research.google.com/assets/colab-badge.svg\" alt=\"Open In Colab\"/></a>"
      ]
    },
    {
      "cell_type": "code",
      "execution_count": 1,
      "metadata": {
        "id": "EioPTYFRVdKL"
      },
      "outputs": [],
      "source": [
        "# Python map problems (17 problems)\n",
        "# Source: https://www.w3resource.com/python-exercises/map/index.php"
      ]
    },
    {
      "cell_type": "code",
      "source": [
        "# Task 1: Write a Python program to triple all numbers of a given list of integers. Use Python map."
      ],
      "metadata": {
        "id": "WNAdz1HNXPdz"
      },
      "execution_count": 2,
      "outputs": []
    },
    {
      "cell_type": "code",
      "source": [
        "def task1_func():\n",
        "  # function that triples number\n",
        "  def three(n):\n",
        "    return n + 3\n",
        "  numbers = (1,2,3,4)\n",
        "  results = map(three,numbers)\n",
        "  print(list(results))\n",
        "\n",
        "task1_func()"
      ],
      "metadata": {
        "colab": {
          "base_uri": "https://localhost:8080/"
        },
        "id": "6mr4jMDAXx8A",
        "outputId": "0d3d2c5d-0e2b-4c12-ae0f-efb3ed7a17b1"
      },
      "execution_count": 3,
      "outputs": [
        {
          "output_type": "stream",
          "name": "stdout",
          "text": [
            "[4, 5, 6, 7]\n"
          ]
        }
      ]
    },
    {
      "cell_type": "code",
      "source": [
        "def task1_lamb():\n",
        "  # using lambda\n",
        "  numbers = (1,2,3,4)\n",
        "  results = map(lambda x: x + 3, numbers)\n",
        "  print(list(results))\n",
        "\n",
        "task1_lamb()"
      ],
      "metadata": {
        "colab": {
          "base_uri": "https://localhost:8080/"
        },
        "id": "TyYFTSCaYf8m",
        "outputId": "620d0176-d4da-4520-ea1b-b26ceb95005a"
      },
      "execution_count": 4,
      "outputs": [
        {
          "output_type": "stream",
          "name": "stdout",
          "text": [
            "[4, 5, 6, 7]\n"
          ]
        }
      ]
    },
    {
      "cell_type": "code",
      "source": [
        "# Task2: Write a Python program to add three given lists using Python map and lambda."
      ],
      "metadata": {
        "id": "Aanikx1uYz1M"
      },
      "execution_count": 5,
      "outputs": []
    },
    {
      "cell_type": "code",
      "source": [
        "def task2_func():\n",
        "  # using function\n",
        "  def add_list(x,y,z):\n",
        "    return x + y + z\n",
        "  #three lists\n",
        "  x = (1,2,3,4)\n",
        "  y = (5,6,7,8)\n",
        "  z = (9,10,11,12)\n",
        "  # maps\n",
        "  results = map(add_list, x,y,z)\n",
        "  print(list(results))\n",
        "\n",
        "task2_func()"
      ],
      "metadata": {
        "colab": {
          "base_uri": "https://localhost:8080/"
        },
        "id": "1Od_wV1vY8z4",
        "outputId": "0af97fd0-3adb-456f-ecce-e61781271bc9"
      },
      "execution_count": 6,
      "outputs": [
        {
          "output_type": "stream",
          "name": "stdout",
          "text": [
            "[15, 18, 21, 24]\n"
          ]
        }
      ]
    },
    {
      "cell_type": "code",
      "source": [
        "def task2_lamb():\n",
        "  #three lists\n",
        "  x = (1,2,3,4)\n",
        "  y = (5,6,7,8)\n",
        "  z = (9,10,11,12)\n",
        "  # maps with lambda\n",
        "  results = map(lambda x,y,z: x+y+z, x,y,z)\n",
        "  print(list(results))\n",
        "\n",
        "task2_lamb()"
      ],
      "metadata": {
        "colab": {
          "base_uri": "https://localhost:8080/"
        },
        "id": "Ow_jLDDcaRdT",
        "outputId": "2e6ac739-2636-41ef-a091-940b3c8cb986"
      },
      "execution_count": 8,
      "outputs": [
        {
          "output_type": "stream",
          "name": "stdout",
          "text": [
            "[15, 18, 21, 24]\n"
          ]
        }
      ]
    },
    {
      "cell_type": "code",
      "source": [
        "# Task3: Write a Python program to listify the list of given strings individually using Python map."
      ],
      "metadata": {
        "id": "U7EK_fhdbDHp"
      },
      "execution_count": 9,
      "outputs": []
    },
    {
      "cell_type": "code",
      "source": [
        "def task3_func():\n",
        "  # list of given string\n",
        "  str = ('Eat','Sleep','Code') # :)\n",
        "  # using list function, not the list data structure\n",
        "  results = map(list,str)\n",
        "  print(list(results))\n",
        "\n",
        "task3_func()"
      ],
      "metadata": {
        "colab": {
          "base_uri": "https://localhost:8080/"
        },
        "id": "svu3vjPxku4A",
        "outputId": "462ed473-b7a7-4f8b-afeb-6de248561cc7"
      },
      "execution_count": 12,
      "outputs": [
        {
          "output_type": "stream",
          "name": "stdout",
          "text": [
            "[['E', 'a', 't'], ['S', 'l', 'e', 'e', 'p'], ['C', 'o', 'd', 'e']]\n"
          ]
        }
      ]
    },
    {
      "cell_type": "code",
      "source": [
        "def task3_lamb():\n",
        "  str = ('Eat','Sleep','Code') # :)\n",
        "  # maps with lambda\n",
        "  results = map(lambda x : list(x),str)\n",
        "  print(list(results))\n",
        "\n",
        "task3_lamb()"
      ],
      "metadata": {
        "colab": {
          "base_uri": "https://localhost:8080/"
        },
        "id": "vBjMALRptel4",
        "outputId": "537a1c0a-59c7-4e14-a46b-8211c6282e52"
      },
      "execution_count": 13,
      "outputs": [
        {
          "output_type": "stream",
          "name": "stdout",
          "text": [
            "[['E', 'a', 't'], ['S', 'l', 'e', 'e', 'p'], ['C', 'o', 'd', 'e']]\n"
          ]
        }
      ]
    },
    {
      "cell_type": "code",
      "source": [
        "# Task4: Write a Python program to create a list containing the power of said number in bases raised to the corresponding number in the index using Python map."
      ],
      "metadata": {
        "id": "TyaD1sSouAqh"
      },
      "execution_count": null,
      "outputs": []
    },
    {
      "cell_type": "code",
      "source": [
        "def task4():\n",
        "  # list containing the power \n",
        "\n",
        "  # list "
      ],
      "metadata": {
        "colab": {
          "base_uri": "https://localhost:8080/"
        },
        "id": "ql_NIYS1uPQJ",
        "outputId": "2313601e-e802-4f3a-97c7-14a204b5b930"
      },
      "execution_count": 15,
      "outputs": [
        {
          "output_type": "stream",
          "name": "stdout",
          "text": [
            "[1, 4, 9, 16, 25, 36]\n"
          ]
        }
      ]
    },
    {
      "cell_type": "code",
      "source": [
        "# Task5: Write a Python program to square the elements of a list using map() function."
      ],
      "metadata": {
        "id": "YZvh6aiXvWuN"
      },
      "execution_count": null,
      "outputs": []
    },
    {
      "cell_type": "code",
      "source": [
        "def task5():\n",
        "  # list of bases\n",
        "  numbers = (1,2,3,4,5,6)\n",
        "  # maps with lambda\n",
        "  results = map(lambda x: x * x, numbers)\n",
        "  print(list(results))\n",
        "\n",
        "task5()"
      ],
      "metadata": {
        "colab": {
          "base_uri": "https://localhost:8080/"
        },
        "id": "mIMQ_JGyvaiY",
        "outputId": "714c17a7-a7e9-423f-f7b1-34e72d11eb9c"
      },
      "execution_count": 17,
      "outputs": [
        {
          "output_type": "stream",
          "name": "stdout",
          "text": [
            "[1, 4, 9, 16, 25, 36]\n"
          ]
        }
      ]
    }
  ]
}