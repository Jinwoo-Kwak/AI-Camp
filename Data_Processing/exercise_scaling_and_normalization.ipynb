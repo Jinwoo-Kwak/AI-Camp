{
  "metadata": {
    "kernelspec": {
      "display_name": "Python 3",
      "language": "python",
      "name": "python3"
    },
    "language_info": {
      "codemirror_mode": {
        "name": "ipython",
        "version": 3
      },
      "file_extension": ".py",
      "mimetype": "text/x-python",
      "name": "python",
      "nbconvert_exporter": "python",
      "pygments_lexer": "ipython3",
      "version": "3.6.5"
    },
    "colab": {
      "name": "exercise_scaling_and_normalization.ipynb",
      "provenance": [],
      "collapsed_sections": []
    }
  },
  "nbformat_minor": 0,
  "nbformat": 4,
  "cells": [
    {
      "cell_type": "markdown",
      "source": [
        "In this exercise, you'll apply what you learned in the **Scaling and normalization** tutorial.\n",
        "\n",
        "\n"
      ],
      "metadata": {
        "id": "P9m4WNRF2mg5"
      }
    },
    {
      "cell_type": "markdown",
      "source": [
        "\n",
        "\n",
        "The next code cell loads in the libraries and dataset we'll be using. "
      ],
      "metadata": {
        "id": "xneK6mfD2mg6"
      }
    },
    {
      "cell_type": "code",
      "source": [
        "# modules we'll use\n",
        "import pandas as pd\n",
        "import numpy as np\n",
        "\n",
        "# for Box-Cox Transformation\n",
        "from scipy import stats\n",
        "\n",
        "# for min_max scaling\n",
        "from mlxtend.preprocessing import minmax_scaling\n",
        "\n",
        "# plotting modules\n",
        "import seaborn as sns\n",
        "import matplotlib.pyplot as plt\n",
        "\n",
        "# read in all our data\n",
        "kickstarters_2017 = pd.read_csv(\"ks-projects-201801.csv\")\n",
        "print(kickstarters_2017.head())\n",
        "\n",
        "# set seed for reproducibility\n",
        "np.random.seed(0)"
      ],
      "metadata": {
        "collapsed": true,
        "jupyter": {
          "outputs_hidden": true
        },
        "id": "DZnyjrZy2mg7",
        "colab": {
          "base_uri": "https://localhost:8080/"
        },
        "outputId": "a8aa49ce-e207-4786-f007-e1e2e20c3ccf"
      },
      "execution_count": null,
      "outputs": [
        {
          "output_type": "stream",
          "name": "stdout",
          "text": [
            "           ID                                               name  \\\n",
            "0  1000002330                    The Songs of Adelaide & Abullah   \n",
            "1  1000003930      Greeting From Earth: ZGAC Arts Capsule For ET   \n",
            "2  1000004038                                     Where is Hank?   \n",
            "3  1000007540  ToshiCapital Rekordz Needs Help to Complete Album   \n",
            "4  1000011046  Community Film Project: The Art of Neighborhoo...   \n",
            "\n",
            "         category main_category currency    deadline     goal  \\\n",
            "0          Poetry    Publishing      GBP  2015-10-09   1000.0   \n",
            "1  Narrative Film  Film & Video      USD  2017-11-01  30000.0   \n",
            "2  Narrative Film  Film & Video      USD  2013-02-26  45000.0   \n",
            "3           Music         Music      USD  2012-04-16   5000.0   \n",
            "4    Film & Video  Film & Video      USD  2015-08-29  19500.0   \n",
            "\n",
            "              launched  pledged     state  backers country  usd pledged  \\\n",
            "0  2015-08-11 12:12:28      0.0    failed        0      GB          0.0   \n",
            "1  2017-09-02 04:43:57   2421.0    failed       15      US        100.0   \n",
            "2  2013-01-12 00:20:50    220.0    failed        3      US        220.0   \n",
            "3  2012-03-17 03:24:11      1.0    failed        1      US          1.0   \n",
            "4  2015-07-04 08:35:03   1283.0  canceled       14      US       1283.0   \n",
            "\n",
            "   usd_pledged_real  usd_goal_real  \n",
            "0               0.0        1533.95  \n",
            "1            2421.0       30000.00  \n",
            "2             220.0       45000.00  \n",
            "3               1.0        5000.00  \n",
            "4            1283.0       19500.00  \n"
          ]
        }
      ]
    },
    {
      "cell_type": "markdown",
      "source": [
        "Let's start by scaling the goals of each campaign, which is how much money they were asking for.  After scaling, all values lie between 0 and 1."
      ],
      "metadata": {
        "id": "9GYh4ncr2mg7"
      }
    },
    {
      "cell_type": "code",
      "source": [
        "# select the usd_goal_real column\n",
        "original_data = pd.DataFrame(kickstarters_2017.usd_goal_real)\n",
        "\n",
        "# scale the goals from 0 to 1\n",
        "scaled_data = minmax_scaling(original_data, columns=['usd_goal_real'])\n",
        "\n",
        "print('Original data\\nPreview:\\n', original_data.head())\n",
        "print('Minimum value:', float(original_data.min()),\n",
        "      '\\nMaximum value:', float(original_data.max()))\n",
        "print('_'*30)\n",
        "\n",
        "print('\\nScaled data\\nPreview:\\n', scaled_data.head())\n",
        "print('Minimum value:', float(scaled_data.min()),\n",
        "      '\\nMaximum value:', float(scaled_data.max()))"
      ],
      "metadata": {
        "collapsed": true,
        "jupyter": {
          "outputs_hidden": true
        },
        "id": "CD_z105N2mg8",
        "colab": {
          "base_uri": "https://localhost:8080/"
        },
        "outputId": "d9e711e7-905f-4d8d-8045-8e6f20e6db23"
      },
      "execution_count": null,
      "outputs": [
        {
          "output_type": "stream",
          "name": "stdout",
          "text": [
            "Original data\n",
            "Preview:\n",
            "    usd_goal_real\n",
            "0        1533.95\n",
            "1       30000.00\n",
            "2       45000.00\n",
            "3        5000.00\n",
            "4       19500.00\n",
            "Minimum value: 0.01 \n",
            "Maximum value: 166361390.71\n",
            "______________________________\n",
            "\n",
            "Scaled data\n",
            "Preview:\n",
            "    usd_goal_real\n",
            "0       0.000009\n",
            "1       0.000180\n",
            "2       0.000270\n",
            "3       0.000030\n",
            "4       0.000117\n",
            "Minimum value: 0.0 \n",
            "Maximum value: 1.0\n"
          ]
        }
      ]
    },
    {
      "cell_type": "markdown",
      "source": [
        "# 1) Practice scaling\n",
        "\n",
        "We just scaled the \"usd_goal_real\" column. What about the \"goal\" column?\n",
        "\n",
        "Begin by running the code cell below to create a DataFrame `original_goal_data` containing the \"goal\" column."
      ],
      "metadata": {
        "id": "H_PMrdhz2mg8"
      }
    },
    {
      "cell_type": "code",
      "source": [
        "# select the usd_goal_real column\n",
        "original_goal_data = pd.DataFrame(kickstarters_2017.goal)\n",
        "scaled_goal_data = minmax_scaling(original_goal_data, columns=['goal'])\n",
        "print('\\nScaled data\\nPreview:\\n', scaled_goal_data.head())\n",
        "print('Minimum value:', float(scaled_goal_data.min()),\n",
        "      '\\nMaximum value:', float(scaled_goal_data.max()))"
      ],
      "metadata": {
        "id": "wVQ_xuff2mg8",
        "colab": {
          "base_uri": "https://localhost:8080/"
        },
        "outputId": "736e6d78-a8da-47f6-a26a-a766d3781fe4"
      },
      "execution_count": null,
      "outputs": [
        {
          "output_type": "stream",
          "name": "stdout",
          "text": [
            "\n",
            "Scaled data\n",
            "Preview:\n",
            "        goal\n",
            "0  0.000010\n",
            "1  0.000300\n",
            "2  0.000450\n",
            "3  0.000050\n",
            "4  0.000195\n",
            "Minimum value: 0.0 \n",
            "Maximum value: 1.0\n"
          ]
        }
      ]
    },
    {
      "cell_type": "markdown",
      "source": [
        "Use `original_goal_data` to create a new DataFrame `scaled_goal_data` with values scaled between 0 and 1. You must use the `minmax_scaling()` function."
      ],
      "metadata": {
        "id": "7-40Svm_2mg9"
      }
    },
    {
      "cell_type": "markdown",
      "source": [
        "# 2) Practice normalization\n",
        "\n",
        "Now you'll practice normalization. We begin by normalizing the amount of money pledged to each campaign."
      ],
      "metadata": {
        "id": "c4pbX2NR2mg-"
      }
    },
    {
      "cell_type": "code",
      "source": [
        "# get the index of all positive pledges (Box-Cox only takes positive values)\n",
        "#index_of_positive_pledges = kickstarters_2017.usd_pledged_real > 0\n",
        "\n",
        "# get only positive pledges (using their indexes)\n",
        "#positive_pledges = kickstarters_2017.usd_pledged_real.loc[index_of_positive_pledges]\n",
        "\n",
        "# normalize the pledges (w/ Box-Cox)\n",
        "#normalized_pledges = pd.Series(stats.boxcox(positive_pledges)[0], \n",
        "                               name='usd_pledged_real', index=positive_pledges.index)\n",
        "\n",
        "#print('Original data\\nPreview:\\n', positive_pledges.head())\n",
        "#print('Minimum value:', float(positive_pledges.min()),\n",
        "      '\\nMaximum value:', float(positive_pledges.max()))\n",
        "#print('_'*30)\n",
        "\n",
        "#print('\\nNormalized data\\nPreview:\\n', normalized_pledges.head())\n",
        "#print('Minimum value:', float(normalized_pledges.min()),\n",
        "      '\\nMaximum value:', float(normalized_pledges.max()))"
      ],
      "metadata": {
        "collapsed": true,
        "jupyter": {
          "outputs_hidden": true
        },
        "id": "4Uo5pqCH2mg-",
        "colab": {
          "base_uri": "https://localhost:8080/"
        },
        "outputId": "f208ca66-9617-4fd5-bd4f-b7eea79c0a83"
      },
      "execution_count": null,
      "outputs": [
        {
          "output_type": "stream",
          "name": "stdout",
          "text": [
            "Original data\n",
            "Preview:\n",
            " 1     2421.0\n",
            "2      220.0\n",
            "3        1.0\n",
            "4     1283.0\n",
            "5    52375.0\n",
            "Name: usd_pledged_real, dtype: float64\n",
            "Minimum value: 0.45 \n",
            "Maximum value: 20338986.27\n",
            "______________________________\n",
            "\n",
            "Normalized data\n",
            "Preview:\n",
            " 1    10.165142\n",
            "2     6.468598\n",
            "3     0.000000\n",
            "4     9.129277\n",
            "5    15.836853\n",
            "Name: usd_pledged_real, dtype: float64\n",
            "Minimum value: -0.7779954122762203 \n",
            "Maximum value: 30.69054020451361\n"
          ]
        }
      ]
    },
    {
      "cell_type": "markdown",
      "source": [
        "The values have changed significantly with normalization!\n",
        "\n",
        "In the next code cell, you'll take a look at the distribution of the normalized data, where it should now resemble a normal distribution."
      ],
      "metadata": {
        "id": "GzeurIJG2mg-"
      }
    },
    {
      "cell_type": "code",
      "source": [
        "# plot normalized data\n",
        "#ax = sns.histplot(normalized_pledges, kde=True)\n",
        "#ax.set_title(\"Normalized data\")\n",
        "#plt.show()"
      ],
      "metadata": {
        "id": "RAv3JkNH2mg_",
        "colab": {
          "base_uri": "https://localhost:8080/",
          "height": 296
        },
        "outputId": "0adc814f-d0e6-4340-e408-b950c669768b"
      },
      "execution_count": null,
      "outputs": [
        {
          "output_type": "display_data",
          "data": {
            "text/plain": [
              "<Figure size 432x288 with 1 Axes>"
            ],
            "image/png": "[encoded data removed]"
          },
          "metadata": {
            "needs_background": "light"
          }
        }
      ]
    },
    {
      "cell_type": "markdown",
      "source": [
        "We used the \"usd_pledged_real\" column. Follow the same process to normalize the \"pledged\" column. "
      ],
      "metadata": {
        "id": "qczxgsXy2mg_"
      }
    },
    {
      "cell_type": "code",
      "source": [
        "# TODO: Your code here!\n",
        "# get the index of all positive pledges (Box-Cox only takes positive values)\n",
        "index_of_positive_pledges = kickstarters_2017.pledged > 0\n",
        "\n",
        "# get only positive pledges (using their indexes)\n",
        "positive_pledges = kickstarters_2017.pledged.loc[index_of_positive_pledges]\n",
        "\n",
        "# normalize the pledges (w/ Box-Cox)\n",
        "normalized_pledges = pd.Series(stats.boxcox(positive_pledges)[0], \n",
        "                               name='usd_pledged', index=positive_pledges.index)\n",
        "\n",
        "print('Original data\\nPreview:\\n', positive_pledges.head())\n",
        "print('Minimum value:', float(positive_pledges.min()),\n",
        "      '\\nMaximum value:', float(positive_pledges.max()))\n",
        "print('_'*30)\n",
        "\n",
        "print('\\nNormalized data\\nPreview:\\n', normalized_pledges.head())\n",
        "print('Minimum value:', float(normalized_pledges.min()),\n",
        "      '\\nMaximum value:', float(normalized_pledges.max()))"
      ],
      "metadata": {
        "id": "rGRK5oAv2mg_",
        "colab": {
          "base_uri": "https://localhost:8080/"
        },
        "outputId": "4052e1c3-2cf0-47cb-ab1f-e6a8a57be058"
      },
      "execution_count": null,
      "outputs": [
        {
          "output_type": "stream",
          "name": "stdout",
          "text": [
            "Original data\n",
            "Preview:\n",
            " 1     2421.0\n",
            "2      220.0\n",
            "3        1.0\n",
            "4     1283.0\n",
            "5    52375.0\n",
            "Name: pledged, dtype: float64\n",
            "Minimum value: 1.0 \n",
            "Maximum value: 20338986.27\n",
            "______________________________\n",
            "\n",
            "Normalized data\n",
            "Preview:\n",
            " 1    10.013887\n",
            "2     6.403367\n",
            "3     0.000000\n",
            "4     9.005193\n",
            "5    15.499596\n",
            "Name: usd_pledged, dtype: float64\n",
            "Minimum value: 0.0 \n",
            "Maximum value: 29.63030787418848\n"
          ]
        }
      ]
    },
    {
      "cell_type": "code",
      "source": [
        "# plot normalized data\n",
        "ax = sns.histplot(normalized_pledges, kde=True)\n",
        "ax.set_title(\"Normalized data\")\n",
        "plt.show()"
      ],
      "metadata": {
        "colab": {
          "base_uri": "https://localhost:8080/",
          "height": 296
        },
        "id": "pptpft5s5-pZ",
        "outputId": "f7ee0ee8-80e3-452f-8dbd-ba06331b3f9d"
      },
      "execution_count": null,
      "outputs": [
        {
          "output_type": "display_data",
          "data": {
            "text/plain": [
              "<Figure size 432x288 with 1 Axes>"
            ],
            "image/png": "[encoded data removed]"
          },
          "metadata": {
            "needs_background": "light"
          }
        }
      ]
    },
    {
      "cell_type": "markdown",
      "source": [
        "How does the normalized \"usd_pledged_real\" column look different from when we normalized the \"pledged\" column?  Or, do they look mostly the same?\n",
        "\n",
        "Once you have an answer, run the code cell below."
      ],
      "metadata": {
        "id": "Le79cMW02mg_"
      }
    },
    {
      "cell_type": "markdown",
      "source": [
        "---\n",
        "\n",
        "\n",
        "\n",
        "\n",
        "*Have questions or comments? Visit the [course discussion forum](https://www.kaggle.com/learn/data-cleaning/discussion) to chat with other learners.*"
      ],
      "metadata": {
        "id": "XvSlAPtK2mhB"
      }
    }
  ]
}