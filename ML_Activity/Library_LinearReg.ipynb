{
  "nbformat": 4,
  "nbformat_minor": 0,
  "metadata": {
    "colab": {
      "name": "Library_LinearReg.ipynb",
      "provenance": [],
      "authorship_tag": "ABX9TyN3EcBvULGCXD0k6FeXDzgc",
      "include_colab_link": true
    },
    "kernelspec": {
      "name": "python3",
      "display_name": "Python 3"
    },
    "language_info": {
      "name": "python"
    }
  },
  "cells": [
    {
      "cell_type": "markdown",
      "metadata": {
        "id": "view-in-github",
        "colab_type": "text"
      },
      "source": [
        "<a href=\"https://colab.research.google.com/github/conuwoo/AI-Camp-Summer-2022/blob/main/ML_Activity/Library_LinearReg.ipynb\" target=\"_parent\"><img src=\"https://colab.research.google.com/assets/colab-badge.svg\" alt=\"Open In Colab\"/></a>"
      ]
    },
    {
      "cell_type": "code",
      "execution_count": 2,
      "metadata": {
        "id": "dQAj-6sRNja2"
      },
      "outputs": [],
      "source": [
        "import numpy as np\n",
        "import pandas as pd"
      ]
    },
    {
      "cell_type": "code",
      "source": [
        "train_data = pd.read_csv('train.csv')\n",
        "test_data = pd.read_csv('test.csv')\n",
        "data = pd.concat((train_data, test_data), sort=False)"
      ],
      "metadata": {
        "id": "A4YmLTlsN-dA"
      },
      "execution_count": 3,
      "outputs": []
    },
    {
      "cell_type": "markdown",
      "source": [
        "Preprocessing"
      ],
      "metadata": {
        "id": "Nn8gEnvkOBrj"
      }
    },
    {
      "cell_type": "code",
      "source": [
        "from sklearn.preprocessing import LabelEncoder\n",
        "for col in range(data.shape[1]):\n",
        "  encoder = LabelEncoder()\n",
        "  encoder.fit(data.iloc[:, col])\n",
        "  data.iloc[:, col] = encoder.transform(data.iloc[:, col])"
      ],
      "metadata": {
        "id": "3BJpnkzAOAHC"
      },
      "execution_count": 4,
      "outputs": []
    },
    {
      "cell_type": "code",
      "source": [
        "#filling Na with mean\n",
        "data = data.fillna(data.mean())"
      ],
      "metadata": {
        "id": "6Kpx2SQnODLv"
      },
      "execution_count": 5,
      "outputs": []
    },
    {
      "cell_type": "code",
      "source": [
        "data.isnull().sum().sum()"
      ],
      "metadata": {
        "colab": {
          "base_uri": "https://localhost:8080/"
        },
        "id": "6ytqeLTvOEyz",
        "outputId": "b071e27f-2ca7-462a-8698-195c685cc5ee"
      },
      "execution_count": 6,
      "outputs": [
        {
          "output_type": "execute_result",
          "data": {
            "text/plain": [
              "0"
            ]
          },
          "metadata": {},
          "execution_count": 6
        }
      ]
    },
    {
      "cell_type": "markdown",
      "source": [
        "Scaling"
      ],
      "metadata": {
        "id": "9O3YUxUZOHEI"
      }
    },
    {
      "cell_type": "code",
      "source": [
        "from sklearn.preprocessing import minmax_scale\n",
        "for col in data.columns:\n",
        "  data[col] = pd.Series(minmax_scale(data[col]), index=data.index)"
      ],
      "metadata": {
        "id": "5z5AIrKYOIFx"
      },
      "execution_count": 7,
      "outputs": []
    },
    {
      "cell_type": "markdown",
      "source": [
        "Split the data"
      ],
      "metadata": {
        "id": "VBAJqO3TOLHj"
      }
    },
    {
      "cell_type": "code",
      "source": [
        "X_train = data[:train_data.shape[0]]\n",
        "Y_train= X_train.SalePrice\n",
        "X_test = data[train_data.shape[0]:]"
      ],
      "metadata": {
        "id": "6ZMY7n3FOMSI"
      },
      "execution_count": 8,
      "outputs": []
    },
    {
      "cell_type": "markdown",
      "source": [
        "Linear reg function"
      ],
      "metadata": {
        "id": "FRTxwZBrOOzN"
      }
    },
    {
      "cell_type": "code",
      "source": [
        "def linear_reg(w, x, b):\n",
        "  return np.dot(w, x) + b"
      ],
      "metadata": {
        "id": "PlmzzJ3MORA0"
      },
      "execution_count": 9,
      "outputs": []
    },
    {
      "cell_type": "code",
      "source": [
        "print(X_train.shape)\n",
        "print(Y_train.shape)\n",
        "w = np.zeros((81,), dtype=int)\n",
        "print(w.shape)\n",
        "b = 0"
      ],
      "metadata": {
        "colab": {
          "base_uri": "https://localhost:8080/"
        },
        "id": "lGbsnFSvOSs9",
        "outputId": "c4dca3fa-ad6a-4478-974e-61aabf05b6f4"
      },
      "execution_count": 10,
      "outputs": [
        {
          "output_type": "stream",
          "name": "stdout",
          "text": [
            "(1460, 81)\n",
            "(1460,)\n",
            "(81,)\n"
          ]
        }
      ]
    },
    {
      "cell_type": "code",
      "source": [
        "X_train = X_train.to_numpy()\n",
        "Y_train = Y_train.to_numpy()"
      ],
      "metadata": {
        "id": "ZLhY3H5VOULP"
      },
      "execution_count": 11,
      "outputs": []
    },
    {
      "cell_type": "markdown",
      "source": [
        "Training"
      ],
      "metadata": {
        "id": "WKHvcLCuOW2o"
      }
    },
    {
      "cell_type": "code",
      "source": [
        "from sklearn.linear_model import LinearRegression\n",
        "\n",
        "model = LinearRegression()\n",
        "model.fit(X_train, Y_train)\n",
        "model.score(X_train, Y_train)"
      ],
      "metadata": {
        "colab": {
          "base_uri": "https://localhost:8080/"
        },
        "id": "OLa5VGrjOf9B",
        "outputId": "8d4617c8-61e0-4cb2-8822-25806e341988"
      },
      "execution_count": 12,
      "outputs": [
        {
          "output_type": "execute_result",
          "data": {
            "text/plain": [
              "1.0"
            ]
          },
          "metadata": {},
          "execution_count": 12
        }
      ]
    }
  ]
}