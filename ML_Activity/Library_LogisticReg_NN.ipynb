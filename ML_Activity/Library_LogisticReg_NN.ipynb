{
  "nbformat": 4,
  "nbformat_minor": 0,
  "metadata": {
    "colab": {
      "name": "Library_LogisticReg_NN.ipynb",
      "provenance": [],
      "authorship_tag": "ABX9TyPpLvGsIGZlFScnsfQBIRr7",
      "include_colab_link": true
    },
    "kernelspec": {
      "name": "python3",
      "display_name": "Python 3"
    },
    "language_info": {
      "name": "python"
    }
  },
  "cells": [
    {
      "cell_type": "markdown",
      "metadata": {
        "id": "view-in-github",
        "colab_type": "text"
      },
      "source": [
        "<a href=\"https://colab.research.google.com/github/bestgradient/AI-Camp-Summer-2022/blob/main/ML_Activity/Library_LogisticReg_NN.ipynb\" target=\"_parent\"><img src=\"https://colab.research.google.com/assets/colab-badge.svg\" alt=\"Open In Colab\"/></a>"
      ]
    },
    {
      "cell_type": "code",
      "execution_count": 1,
      "metadata": {
        "id": "dEh6SpOA9__m"
      },
      "outputs": [],
      "source": [
        "import numpy as np\n",
        "import pandas as pd"
      ]
    },
    {
      "cell_type": "code",
      "source": [
        "train_data = pd.read_csv(\"titanic_train.csv\")\n",
        "test_data = pd.read_csv(\"titanic_test.csv\")"
      ],
      "metadata": {
        "id": "HNvhKlafNR1t"
      },
      "execution_count": 2,
      "outputs": []
    },
    {
      "cell_type": "markdown",
      "source": [
        "Data Preprocessing"
      ],
      "metadata": {
        "id": "XeVFT3MaOCVv"
      }
    },
    {
      "cell_type": "code",
      "source": [
        "train_data = train_data.drop(['Ticket'], axis=1)\n",
        "test_data = test_data.drop(['Ticket'], axis=1)"
      ],
      "metadata": {
        "id": "W9rvW3pyNVBV"
      },
      "execution_count": 3,
      "outputs": []
    },
    {
      "cell_type": "code",
      "source": [
        "train_data = train_data.drop(['Name'], axis=1)\n",
        "test_data = test_data.drop(['Name'], axis=1)"
      ],
      "metadata": {
        "id": "rDJRszmcNZHj"
      },
      "execution_count": 4,
      "outputs": []
    },
    {
      "cell_type": "markdown",
      "source": [
        "Fill na values"
      ],
      "metadata": {
        "id": "tlqqbEBRP6jh"
      }
    },
    {
      "cell_type": "code",
      "source": [
        "#Check for na's\n",
        "train_data.isna().sum()"
      ],
      "metadata": {
        "colab": {
          "base_uri": "https://localhost:8080/"
        },
        "id": "6ZQFFzhbNekq",
        "outputId": "0e9defc9-d109-4b42-e552-7b5f4e118637"
      },
      "execution_count": 5,
      "outputs": [
        {
          "output_type": "execute_result",
          "data": {
            "text/plain": [
              "PassengerId      0\n",
              "Survived         0\n",
              "Pclass           0\n",
              "Sex              0\n",
              "Age            177\n",
              "SibSp            0\n",
              "Parch            0\n",
              "Fare             0\n",
              "Cabin          687\n",
              "Embarked         2\n",
              "dtype: int64"
            ]
          },
          "metadata": {},
          "execution_count": 5
        }
      ]
    },
    {
      "cell_type": "code",
      "source": [
        "test_data.isna().sum()"
      ],
      "metadata": {
        "colab": {
          "base_uri": "https://localhost:8080/"
        },
        "id": "Qi4JuiWLNhBf",
        "outputId": "f156c45b-2a8c-4c45-f4c0-ab3bd7b076d8"
      },
      "execution_count": 6,
      "outputs": [
        {
          "output_type": "execute_result",
          "data": {
            "text/plain": [
              "PassengerId      0\n",
              "Pclass           0\n",
              "Sex              0\n",
              "Age             86\n",
              "SibSp            0\n",
              "Parch            0\n",
              "Fare             1\n",
              "Cabin          327\n",
              "Embarked         0\n",
              "dtype: int64"
            ]
          },
          "metadata": {},
          "execution_count": 6
        }
      ]
    },
    {
      "cell_type": "code",
      "source": [
        "train_data['Age'] = train_data['Age'].replace(np.nan,train_data['Age'].mean())\n",
        "test_data['Age'] = test_data['Age'].replace(np.nan, test_data['Age'].mean())"
      ],
      "metadata": {
        "id": "fpJm-z3MNjgS"
      },
      "execution_count": 7,
      "outputs": []
    },
    {
      "cell_type": "code",
      "source": [
        "#Shows there is more than half of NA's for the column so we should drop it\n",
        "train_data = train_data.drop(['Cabin'], axis=1)\n",
        "test_data = test_data.drop(['Cabin'], axis=1)"
      ],
      "metadata": {
        "id": "7JOJMSGQNosw"
      },
      "execution_count": 8,
      "outputs": []
    },
    {
      "cell_type": "code",
      "source": [
        "train_data['Embarked'] = train_data['Embarked'].replace(np.nan,'Q')"
      ],
      "metadata": {
        "id": "tqX7ksDiNqMo"
      },
      "execution_count": 9,
      "outputs": []
    },
    {
      "cell_type": "code",
      "source": [
        "test_data['Fare'] = test_data['Fare'].replace(np.nan, test_data['Fare'].mean())"
      ],
      "metadata": {
        "id": "O-HiEtQVNsLI"
      },
      "execution_count": 10,
      "outputs": []
    },
    {
      "cell_type": "code",
      "source": [
        "#Check for na's\n",
        "train_data.isna().sum()"
      ],
      "metadata": {
        "colab": {
          "base_uri": "https://localhost:8080/"
        },
        "id": "cvbEYJvuNtlf",
        "outputId": "16486f6b-3e6c-4f0f-a14c-c023d18b415f"
      },
      "execution_count": 11,
      "outputs": [
        {
          "output_type": "execute_result",
          "data": {
            "text/plain": [
              "PassengerId    0\n",
              "Survived       0\n",
              "Pclass         0\n",
              "Sex            0\n",
              "Age            0\n",
              "SibSp          0\n",
              "Parch          0\n",
              "Fare           0\n",
              "Embarked       0\n",
              "dtype: int64"
            ]
          },
          "metadata": {},
          "execution_count": 11
        }
      ]
    },
    {
      "cell_type": "markdown",
      "source": [
        "Encode categorical variables"
      ],
      "metadata": {
        "id": "CoU5MqYgOKqf"
      }
    },
    {
      "cell_type": "code",
      "source": [
        "from sklearn.preprocessing import LabelEncoder\n",
        "\n",
        "#initialize label endoce as first step.\n",
        "le = LabelEncoder()\n",
        "\n",
        "train_data[\"Sex\"] = le.fit_transform(train_data[\"Sex\"].values)\n",
        "test_data[\"Sex\"] = le.fit_transform(test_data[\"Sex\"].values)\n",
        "\n",
        "train_data[\"Embarked\"] = le.fit_transform(train_data[\"Embarked\"].values)\n",
        "test_data[\"Embarked\"] = le.fit_transform(test_data[\"Embarked\"].values)"
      ],
      "metadata": {
        "id": "b6aMHAYUN0dX"
      },
      "execution_count": 12,
      "outputs": []
    },
    {
      "cell_type": "code",
      "source": [
        "from sklearn.model_selection import train_test_split\n",
        "features = [\"Pclass\",\"Sex\",\"Age\",\"SibSp\",\"Fare\"]\n",
        "X = train_data[features]\n",
        "y = train_data['Survived']\n",
        "\n",
        "X_train,X_test, y_train,y_test = train_test_split(X,y,test_size=0.2)\n",
        "\n",
        "from sklearn.preprocessing import MinMaxScaler\n",
        "min_max = MinMaxScaler()\n",
        "X_train = min_max.fit_transform(X_train)\n",
        "X_test = min_max.transform(X_test)"
      ],
      "metadata": {
        "id": "iN18FymnN3io"
      },
      "execution_count": 13,
      "outputs": []
    },
    {
      "cell_type": "markdown",
      "source": [
        "dense nerual network with relu activation except the last one being sigmoid activation."
      ],
      "metadata": {
        "id": "Ffvo3knxOT7R"
      }
    },
    {
      "cell_type": "code",
      "source": [
        "import keras \n",
        "from keras.models import Sequential # intitialize the ANN\n",
        "from keras.layers import Dense      # create layers"
      ],
      "metadata": {
        "id": "CQYclJjOPj-V"
      },
      "execution_count": 14,
      "outputs": []
    },
    {
      "cell_type": "code",
      "source": [
        "model = Sequential()\n",
        "\n",
        "# layers\n",
        "model.add(Dense(units = 11, activation = 'relu'))\n",
        "model.add(Dense(units = 9, activation = 'relu'))\n",
        "model.add(Dense(units = 9, activation = 'relu'))\n",
        "model.add(Dense(units = 5, activation = 'relu'))\n",
        "model.add(Dense(units = 1, activation = 'sigmoid'))\n",
        "\n",
        "model.compile(optimizer = 'adam', loss = 'binary_crossentropy', metrics = ['accuracy'])\n",
        "model.fit(X_train, y_train, batch_size = 40, epochs = 200)"
      ],
      "metadata": {
        "colab": {
          "base_uri": "https://localhost:8080/"
        },
        "id": "hFGggil2Og25",
        "outputId": "4efd558b-61e0-4368-e682-a57e95f2bc51"
      },
      "execution_count": 18,
      "outputs": [
        {
          "output_type": "stream",
          "name": "stdout",
          "text": [
            "Epoch 1/200\n",
            "18/18 [==============================] - 1s 4ms/step - loss: 0.7143 - accuracy: 0.3806\n",
            "Epoch 2/200\n",
            "18/18 [==============================] - 0s 4ms/step - loss: 0.6933 - accuracy: 0.5154\n",
            "Epoch 3/200\n",
            "18/18 [==============================] - 0s 3ms/step - loss: 0.6847 - accuracy: 0.6798\n",
            "Epoch 4/200\n",
            "18/18 [==============================] - 0s 4ms/step - loss: 0.6766 - accuracy: 0.7177\n",
            "Epoch 5/200\n",
            "18/18 [==============================] - 0s 3ms/step - loss: 0.6646 - accuracy: 0.7584\n",
            "Epoch 6/200\n",
            "18/18 [==============================] - 0s 4ms/step - loss: 0.6499 - accuracy: 0.7739\n",
            "Epoch 7/200\n",
            "18/18 [==============================] - 0s 4ms/step - loss: 0.6363 - accuracy: 0.7879\n",
            "Epoch 8/200\n",
            "18/18 [==============================] - 0s 4ms/step - loss: 0.6228 - accuracy: 0.7795\n",
            "Epoch 9/200\n",
            "18/18 [==============================] - 0s 4ms/step - loss: 0.6108 - accuracy: 0.7879\n",
            "Epoch 10/200\n",
            "18/18 [==============================] - 0s 3ms/step - loss: 0.5987 - accuracy: 0.7921\n",
            "Epoch 11/200\n",
            "18/18 [==============================] - 0s 4ms/step - loss: 0.5889 - accuracy: 0.7963\n",
            "Epoch 12/200\n",
            "18/18 [==============================] - 0s 4ms/step - loss: 0.5807 - accuracy: 0.7978\n",
            "Epoch 13/200\n",
            "18/18 [==============================] - 0s 4ms/step - loss: 0.5738 - accuracy: 0.7992\n",
            "Epoch 14/200\n",
            "18/18 [==============================] - 0s 4ms/step - loss: 0.5654 - accuracy: 0.8034\n",
            "Epoch 15/200\n",
            "18/18 [==============================] - 0s 3ms/step - loss: 0.5300 - accuracy: 0.7753\n",
            "Epoch 16/200\n",
            "18/18 [==============================] - 0s 4ms/step - loss: 0.4929 - accuracy: 0.8090\n",
            "Epoch 17/200\n",
            "18/18 [==============================] - 0s 4ms/step - loss: 0.4665 - accuracy: 0.7978\n",
            "Epoch 18/200\n",
            "18/18 [==============================] - 0s 4ms/step - loss: 0.4530 - accuracy: 0.7978\n",
            "Epoch 19/200\n",
            "18/18 [==============================] - 0s 2ms/step - loss: 0.4458 - accuracy: 0.8034\n",
            "Epoch 20/200\n",
            "18/18 [==============================] - 0s 2ms/step - loss: 0.4419 - accuracy: 0.8104\n",
            "Epoch 21/200\n",
            "18/18 [==============================] - 0s 3ms/step - loss: 0.4399 - accuracy: 0.8048\n",
            "Epoch 22/200\n",
            "18/18 [==============================] - 0s 2ms/step - loss: 0.4394 - accuracy: 0.8048\n",
            "Epoch 23/200\n",
            "18/18 [==============================] - 0s 2ms/step - loss: 0.4379 - accuracy: 0.8062\n",
            "Epoch 24/200\n",
            "18/18 [==============================] - 0s 2ms/step - loss: 0.4366 - accuracy: 0.8006\n",
            "Epoch 25/200\n",
            "18/18 [==============================] - 0s 2ms/step - loss: 0.4365 - accuracy: 0.8062\n",
            "Epoch 26/200\n",
            "18/18 [==============================] - 0s 2ms/step - loss: 0.4349 - accuracy: 0.8076\n",
            "Epoch 27/200\n",
            "18/18 [==============================] - 0s 2ms/step - loss: 0.4343 - accuracy: 0.8076\n",
            "Epoch 28/200\n",
            "18/18 [==============================] - 0s 2ms/step - loss: 0.4309 - accuracy: 0.8090\n",
            "Epoch 29/200\n",
            "18/18 [==============================] - 0s 2ms/step - loss: 0.4323 - accuracy: 0.8048\n",
            "Epoch 30/200\n",
            "18/18 [==============================] - 0s 3ms/step - loss: 0.4340 - accuracy: 0.8062\n",
            "Epoch 31/200\n",
            "18/18 [==============================] - 0s 2ms/step - loss: 0.4315 - accuracy: 0.8020\n",
            "Epoch 32/200\n",
            "18/18 [==============================] - 0s 3ms/step - loss: 0.4273 - accuracy: 0.8146\n",
            "Epoch 33/200\n",
            "18/18 [==============================] - 0s 2ms/step - loss: 0.4296 - accuracy: 0.8048\n",
            "Epoch 34/200\n",
            "18/18 [==============================] - 0s 2ms/step - loss: 0.4288 - accuracy: 0.8090\n",
            "Epoch 35/200\n",
            "18/18 [==============================] - 0s 2ms/step - loss: 0.4284 - accuracy: 0.8090\n",
            "Epoch 36/200\n",
            "18/18 [==============================] - 0s 2ms/step - loss: 0.4267 - accuracy: 0.8146\n",
            "Epoch 37/200\n",
            "18/18 [==============================] - 0s 2ms/step - loss: 0.4293 - accuracy: 0.8118\n",
            "Epoch 38/200\n",
            "18/18 [==============================] - 0s 2ms/step - loss: 0.4260 - accuracy: 0.8146\n",
            "Epoch 39/200\n",
            "18/18 [==============================] - 0s 3ms/step - loss: 0.4259 - accuracy: 0.8118\n",
            "Epoch 40/200\n",
            "18/18 [==============================] - 0s 3ms/step - loss: 0.4254 - accuracy: 0.8146\n",
            "Epoch 41/200\n",
            "18/18 [==============================] - 0s 2ms/step - loss: 0.4258 - accuracy: 0.8118\n",
            "Epoch 42/200\n",
            "18/18 [==============================] - 0s 2ms/step - loss: 0.4249 - accuracy: 0.8132\n",
            "Epoch 43/200\n",
            "18/18 [==============================] - 0s 2ms/step - loss: 0.4249 - accuracy: 0.8118\n",
            "Epoch 44/200\n",
            "18/18 [==============================] - 0s 2ms/step - loss: 0.4247 - accuracy: 0.8146\n",
            "Epoch 45/200\n",
            "18/18 [==============================] - 0s 2ms/step - loss: 0.4263 - accuracy: 0.8090\n",
            "Epoch 46/200\n",
            "18/18 [==============================] - 0s 2ms/step - loss: 0.4239 - accuracy: 0.8202\n",
            "Epoch 47/200\n",
            "18/18 [==============================] - 0s 2ms/step - loss: 0.4243 - accuracy: 0.8118\n",
            "Epoch 48/200\n",
            "18/18 [==============================] - 0s 2ms/step - loss: 0.4242 - accuracy: 0.8132\n",
            "Epoch 49/200\n",
            "18/18 [==============================] - 0s 2ms/step - loss: 0.4283 - accuracy: 0.8076\n",
            "Epoch 50/200\n",
            "18/18 [==============================] - 0s 2ms/step - loss: 0.4229 - accuracy: 0.8160\n",
            "Epoch 51/200\n",
            "18/18 [==============================] - 0s 2ms/step - loss: 0.4247 - accuracy: 0.8062\n",
            "Epoch 52/200\n",
            "18/18 [==============================] - 0s 2ms/step - loss: 0.4233 - accuracy: 0.8160\n",
            "Epoch 53/200\n",
            "18/18 [==============================] - 0s 2ms/step - loss: 0.4213 - accuracy: 0.8118\n",
            "Epoch 54/200\n",
            "18/18 [==============================] - 0s 2ms/step - loss: 0.4223 - accuracy: 0.8118\n",
            "Epoch 55/200\n",
            "18/18 [==============================] - 0s 2ms/step - loss: 0.4217 - accuracy: 0.8188\n",
            "Epoch 56/200\n",
            "18/18 [==============================] - 0s 2ms/step - loss: 0.4212 - accuracy: 0.8188\n",
            "Epoch 57/200\n",
            "18/18 [==============================] - 0s 2ms/step - loss: 0.4218 - accuracy: 0.8090\n",
            "Epoch 58/200\n",
            "18/18 [==============================] - 0s 2ms/step - loss: 0.4213 - accuracy: 0.8132\n",
            "Epoch 59/200\n",
            "18/18 [==============================] - 0s 2ms/step - loss: 0.4212 - accuracy: 0.8090\n",
            "Epoch 60/200\n",
            "18/18 [==============================] - 0s 3ms/step - loss: 0.4215 - accuracy: 0.8104\n",
            "Epoch 61/200\n",
            "18/18 [==============================] - 0s 2ms/step - loss: 0.4224 - accuracy: 0.8076\n",
            "Epoch 62/200\n",
            "18/18 [==============================] - 0s 2ms/step - loss: 0.4231 - accuracy: 0.8132\n",
            "Epoch 63/200\n",
            "18/18 [==============================] - 0s 2ms/step - loss: 0.4214 - accuracy: 0.8132\n",
            "Epoch 64/200\n",
            "18/18 [==============================] - 0s 3ms/step - loss: 0.4195 - accuracy: 0.8160\n",
            "Epoch 65/200\n",
            "18/18 [==============================] - 0s 2ms/step - loss: 0.4196 - accuracy: 0.8160\n",
            "Epoch 66/200\n",
            "18/18 [==============================] - 0s 2ms/step - loss: 0.4199 - accuracy: 0.8132\n",
            "Epoch 67/200\n",
            "18/18 [==============================] - 0s 2ms/step - loss: 0.4197 - accuracy: 0.8090\n",
            "Epoch 68/200\n",
            "18/18 [==============================] - 0s 2ms/step - loss: 0.4220 - accuracy: 0.8090\n",
            "Epoch 69/200\n",
            "18/18 [==============================] - 0s 2ms/step - loss: 0.4192 - accuracy: 0.8174\n",
            "Epoch 70/200\n",
            "18/18 [==============================] - 0s 3ms/step - loss: 0.4179 - accuracy: 0.8188\n",
            "Epoch 71/200\n",
            "18/18 [==============================] - 0s 2ms/step - loss: 0.4192 - accuracy: 0.8132\n",
            "Epoch 72/200\n",
            "18/18 [==============================] - 0s 2ms/step - loss: 0.4181 - accuracy: 0.8160\n",
            "Epoch 73/200\n",
            "18/18 [==============================] - 0s 3ms/step - loss: 0.4176 - accuracy: 0.8146\n",
            "Epoch 74/200\n",
            "18/18 [==============================] - 0s 2ms/step - loss: 0.4167 - accuracy: 0.8202\n",
            "Epoch 75/200\n",
            "18/18 [==============================] - 0s 2ms/step - loss: 0.4158 - accuracy: 0.8216\n",
            "Epoch 76/200\n",
            "18/18 [==============================] - 0s 2ms/step - loss: 0.4161 - accuracy: 0.8160\n",
            "Epoch 77/200\n",
            "18/18 [==============================] - 0s 3ms/step - loss: 0.4158 - accuracy: 0.8132\n",
            "Epoch 78/200\n",
            "18/18 [==============================] - 0s 3ms/step - loss: 0.4151 - accuracy: 0.8230\n",
            "Epoch 79/200\n",
            "18/18 [==============================] - 0s 2ms/step - loss: 0.4147 - accuracy: 0.8216\n",
            "Epoch 80/200\n",
            "18/18 [==============================] - 0s 3ms/step - loss: 0.4155 - accuracy: 0.8216\n",
            "Epoch 81/200\n",
            "18/18 [==============================] - 0s 3ms/step - loss: 0.4137 - accuracy: 0.8202\n",
            "Epoch 82/200\n",
            "18/18 [==============================] - 0s 2ms/step - loss: 0.4142 - accuracy: 0.8188\n",
            "Epoch 83/200\n",
            "18/18 [==============================] - 0s 2ms/step - loss: 0.4144 - accuracy: 0.8202\n",
            "Epoch 84/200\n",
            "18/18 [==============================] - 0s 2ms/step - loss: 0.4140 - accuracy: 0.8174\n",
            "Epoch 85/200\n",
            "18/18 [==============================] - 0s 2ms/step - loss: 0.4159 - accuracy: 0.8202\n",
            "Epoch 86/200\n",
            "18/18 [==============================] - 0s 2ms/step - loss: 0.4133 - accuracy: 0.8216\n",
            "Epoch 87/200\n",
            "18/18 [==============================] - 0s 2ms/step - loss: 0.4125 - accuracy: 0.8216\n",
            "Epoch 88/200\n",
            "18/18 [==============================] - 0s 2ms/step - loss: 0.4123 - accuracy: 0.8230\n",
            "Epoch 89/200\n",
            "18/18 [==============================] - 0s 2ms/step - loss: 0.4123 - accuracy: 0.8230\n",
            "Epoch 90/200\n",
            "18/18 [==============================] - 0s 3ms/step - loss: 0.4118 - accuracy: 0.8174\n",
            "Epoch 91/200\n",
            "18/18 [==============================] - 0s 3ms/step - loss: 0.4117 - accuracy: 0.8160\n",
            "Epoch 92/200\n",
            "18/18 [==============================] - 0s 2ms/step - loss: 0.4119 - accuracy: 0.8174\n",
            "Epoch 93/200\n",
            "18/18 [==============================] - 0s 3ms/step - loss: 0.4152 - accuracy: 0.8132\n",
            "Epoch 94/200\n",
            "18/18 [==============================] - 0s 3ms/step - loss: 0.4113 - accuracy: 0.8202\n",
            "Epoch 95/200\n",
            "18/18 [==============================] - 0s 2ms/step - loss: 0.4112 - accuracy: 0.8188\n",
            "Epoch 96/200\n",
            "18/18 [==============================] - 0s 2ms/step - loss: 0.4116 - accuracy: 0.8188\n",
            "Epoch 97/200\n",
            "18/18 [==============================] - 0s 4ms/step - loss: 0.4096 - accuracy: 0.8258\n",
            "Epoch 98/200\n",
            "18/18 [==============================] - 0s 2ms/step - loss: 0.4101 - accuracy: 0.8216\n",
            "Epoch 99/200\n",
            "18/18 [==============================] - 0s 3ms/step - loss: 0.4094 - accuracy: 0.8230\n",
            "Epoch 100/200\n",
            "18/18 [==============================] - 0s 3ms/step - loss: 0.4098 - accuracy: 0.8216\n",
            "Epoch 101/200\n",
            "18/18 [==============================] - 0s 3ms/step - loss: 0.4093 - accuracy: 0.8244\n",
            "Epoch 102/200\n",
            "18/18 [==============================] - 0s 2ms/step - loss: 0.4090 - accuracy: 0.8230\n",
            "Epoch 103/200\n",
            "18/18 [==============================] - 0s 2ms/step - loss: 0.4095 - accuracy: 0.8244\n",
            "Epoch 104/200\n",
            "18/18 [==============================] - 0s 3ms/step - loss: 0.4088 - accuracy: 0.8202\n",
            "Epoch 105/200\n",
            "18/18 [==============================] - 0s 2ms/step - loss: 0.4090 - accuracy: 0.8230\n",
            "Epoch 106/200\n",
            "18/18 [==============================] - 0s 2ms/step - loss: 0.4082 - accuracy: 0.8230\n",
            "Epoch 107/200\n",
            "18/18 [==============================] - 0s 3ms/step - loss: 0.4096 - accuracy: 0.8146\n",
            "Epoch 108/200\n",
            "18/18 [==============================] - 0s 3ms/step - loss: 0.4097 - accuracy: 0.8146\n",
            "Epoch 109/200\n",
            "18/18 [==============================] - 0s 2ms/step - loss: 0.4077 - accuracy: 0.8202\n",
            "Epoch 110/200\n",
            "18/18 [==============================] - 0s 3ms/step - loss: 0.4078 - accuracy: 0.8118\n",
            "Epoch 111/200\n",
            "18/18 [==============================] - 0s 2ms/step - loss: 0.4077 - accuracy: 0.8202\n",
            "Epoch 112/200\n",
            "18/18 [==============================] - 0s 2ms/step - loss: 0.4061 - accuracy: 0.8244\n",
            "Epoch 113/200\n",
            "18/18 [==============================] - 0s 2ms/step - loss: 0.4067 - accuracy: 0.8258\n",
            "Epoch 114/200\n",
            "18/18 [==============================] - 0s 2ms/step - loss: 0.4068 - accuracy: 0.8244\n",
            "Epoch 115/200\n",
            "18/18 [==============================] - 0s 2ms/step - loss: 0.4061 - accuracy: 0.8258\n",
            "Epoch 116/200\n",
            "18/18 [==============================] - 0s 2ms/step - loss: 0.4054 - accuracy: 0.8244\n",
            "Epoch 117/200\n",
            "18/18 [==============================] - 0s 2ms/step - loss: 0.4056 - accuracy: 0.8272\n",
            "Epoch 118/200\n",
            "18/18 [==============================] - 0s 2ms/step - loss: 0.4066 - accuracy: 0.8258\n",
            "Epoch 119/200\n",
            "18/18 [==============================] - 0s 2ms/step - loss: 0.4058 - accuracy: 0.8132\n",
            "Epoch 120/200\n",
            "18/18 [==============================] - 0s 2ms/step - loss: 0.4049 - accuracy: 0.8258\n",
            "Epoch 121/200\n",
            "18/18 [==============================] - 0s 3ms/step - loss: 0.4046 - accuracy: 0.8258\n",
            "Epoch 122/200\n",
            "18/18 [==============================] - 0s 2ms/step - loss: 0.4046 - accuracy: 0.8258\n",
            "Epoch 123/200\n",
            "18/18 [==============================] - 0s 3ms/step - loss: 0.4054 - accuracy: 0.8216\n",
            "Epoch 124/200\n",
            "18/18 [==============================] - 0s 2ms/step - loss: 0.4058 - accuracy: 0.8202\n",
            "Epoch 125/200\n",
            "18/18 [==============================] - 0s 2ms/step - loss: 0.4036 - accuracy: 0.8230\n",
            "Epoch 126/200\n",
            "18/18 [==============================] - 0s 3ms/step - loss: 0.4035 - accuracy: 0.8258\n",
            "Epoch 127/200\n",
            "18/18 [==============================] - 0s 3ms/step - loss: 0.4035 - accuracy: 0.8230\n",
            "Epoch 128/200\n",
            "18/18 [==============================] - 0s 2ms/step - loss: 0.4028 - accuracy: 0.8230\n",
            "Epoch 129/200\n",
            "18/18 [==============================] - 0s 2ms/step - loss: 0.4029 - accuracy: 0.8230\n",
            "Epoch 130/200\n",
            "18/18 [==============================] - 0s 2ms/step - loss: 0.4030 - accuracy: 0.8244\n",
            "Epoch 131/200\n",
            "18/18 [==============================] - 0s 2ms/step - loss: 0.4026 - accuracy: 0.8244\n",
            "Epoch 132/200\n",
            "18/18 [==============================] - 0s 3ms/step - loss: 0.4024 - accuracy: 0.8244\n",
            "Epoch 133/200\n",
            "18/18 [==============================] - 0s 2ms/step - loss: 0.4033 - accuracy: 0.8287\n",
            "Epoch 134/200\n",
            "18/18 [==============================] - 0s 3ms/step - loss: 0.4024 - accuracy: 0.8174\n",
            "Epoch 135/200\n",
            "18/18 [==============================] - 0s 2ms/step - loss: 0.4027 - accuracy: 0.8216\n",
            "Epoch 136/200\n",
            "18/18 [==============================] - 0s 2ms/step - loss: 0.4017 - accuracy: 0.8230\n",
            "Epoch 137/200\n",
            "18/18 [==============================] - 0s 2ms/step - loss: 0.4044 - accuracy: 0.8076\n",
            "Epoch 138/200\n",
            "18/18 [==============================] - 0s 3ms/step - loss: 0.4016 - accuracy: 0.8244\n",
            "Epoch 139/200\n",
            "18/18 [==============================] - 0s 3ms/step - loss: 0.4012 - accuracy: 0.8244\n",
            "Epoch 140/200\n",
            "18/18 [==============================] - 0s 2ms/step - loss: 0.4039 - accuracy: 0.8174\n",
            "Epoch 141/200\n",
            "18/18 [==============================] - 0s 4ms/step - loss: 0.4041 - accuracy: 0.8146\n",
            "Epoch 142/200\n",
            "18/18 [==============================] - 0s 2ms/step - loss: 0.4005 - accuracy: 0.8216\n",
            "Epoch 143/200\n",
            "18/18 [==============================] - 0s 2ms/step - loss: 0.4011 - accuracy: 0.8301\n",
            "Epoch 144/200\n",
            "18/18 [==============================] - 0s 3ms/step - loss: 0.4002 - accuracy: 0.8202\n",
            "Epoch 145/200\n",
            "18/18 [==============================] - 0s 3ms/step - loss: 0.4014 - accuracy: 0.8216\n",
            "Epoch 146/200\n",
            "18/18 [==============================] - 0s 3ms/step - loss: 0.4014 - accuracy: 0.8174\n",
            "Epoch 147/200\n",
            "18/18 [==============================] - 0s 3ms/step - loss: 0.4017 - accuracy: 0.8202\n",
            "Epoch 148/200\n",
            "18/18 [==============================] - 0s 4ms/step - loss: 0.3995 - accuracy: 0.8272\n",
            "Epoch 149/200\n",
            "18/18 [==============================] - 0s 3ms/step - loss: 0.3996 - accuracy: 0.8230\n",
            "Epoch 150/200\n",
            "18/18 [==============================] - 0s 2ms/step - loss: 0.4012 - accuracy: 0.8132\n",
            "Epoch 151/200\n",
            "18/18 [==============================] - 0s 4ms/step - loss: 0.4005 - accuracy: 0.8188\n",
            "Epoch 152/200\n",
            "18/18 [==============================] - 0s 3ms/step - loss: 0.3993 - accuracy: 0.8258\n",
            "Epoch 153/200\n",
            "18/18 [==============================] - 0s 2ms/step - loss: 0.3983 - accuracy: 0.8244\n",
            "Epoch 154/200\n",
            "18/18 [==============================] - 0s 2ms/step - loss: 0.3991 - accuracy: 0.8301\n",
            "Epoch 155/200\n",
            "18/18 [==============================] - 0s 2ms/step - loss: 0.3983 - accuracy: 0.8174\n",
            "Epoch 156/200\n",
            "18/18 [==============================] - 0s 2ms/step - loss: 0.3995 - accuracy: 0.8287\n",
            "Epoch 157/200\n",
            "18/18 [==============================] - 0s 2ms/step - loss: 0.3976 - accuracy: 0.8301\n",
            "Epoch 158/200\n",
            "18/18 [==============================] - 0s 3ms/step - loss: 0.3972 - accuracy: 0.8272\n",
            "Epoch 159/200\n",
            "18/18 [==============================] - 0s 2ms/step - loss: 0.3975 - accuracy: 0.8272\n",
            "Epoch 160/200\n",
            "18/18 [==============================] - 0s 3ms/step - loss: 0.3968 - accuracy: 0.8244\n",
            "Epoch 161/200\n",
            "18/18 [==============================] - 0s 2ms/step - loss: 0.3980 - accuracy: 0.8188\n",
            "Epoch 162/200\n",
            "18/18 [==============================] - 0s 2ms/step - loss: 0.3974 - accuracy: 0.8343\n",
            "Epoch 163/200\n",
            "18/18 [==============================] - 0s 3ms/step - loss: 0.3988 - accuracy: 0.8230\n",
            "Epoch 164/200\n",
            "18/18 [==============================] - 0s 2ms/step - loss: 0.3981 - accuracy: 0.8188\n",
            "Epoch 165/200\n",
            "18/18 [==============================] - 0s 3ms/step - loss: 0.3968 - accuracy: 0.8230\n",
            "Epoch 166/200\n",
            "18/18 [==============================] - 0s 3ms/step - loss: 0.3959 - accuracy: 0.8258\n",
            "Epoch 167/200\n",
            "18/18 [==============================] - 0s 2ms/step - loss: 0.3974 - accuracy: 0.8272\n",
            "Epoch 168/200\n",
            "18/18 [==============================] - 0s 4ms/step - loss: 0.3952 - accuracy: 0.8301\n",
            "Epoch 169/200\n",
            "18/18 [==============================] - 0s 4ms/step - loss: 0.3965 - accuracy: 0.8287\n",
            "Epoch 170/200\n",
            "18/18 [==============================] - 0s 2ms/step - loss: 0.3947 - accuracy: 0.8287\n",
            "Epoch 171/200\n",
            "18/18 [==============================] - 0s 2ms/step - loss: 0.3957 - accuracy: 0.8287\n",
            "Epoch 172/200\n",
            "18/18 [==============================] - 0s 2ms/step - loss: 0.3980 - accuracy: 0.8287\n",
            "Epoch 173/200\n",
            "18/18 [==============================] - 0s 2ms/step - loss: 0.3992 - accuracy: 0.8146\n",
            "Epoch 174/200\n",
            "18/18 [==============================] - 0s 2ms/step - loss: 0.3957 - accuracy: 0.8287\n",
            "Epoch 175/200\n",
            "18/18 [==============================] - 0s 3ms/step - loss: 0.3943 - accuracy: 0.8301\n",
            "Epoch 176/200\n",
            "18/18 [==============================] - 0s 3ms/step - loss: 0.3946 - accuracy: 0.8244\n",
            "Epoch 177/200\n",
            "18/18 [==============================] - 0s 2ms/step - loss: 0.3936 - accuracy: 0.8315\n",
            "Epoch 178/200\n",
            "18/18 [==============================] - 0s 2ms/step - loss: 0.3951 - accuracy: 0.8272\n",
            "Epoch 179/200\n",
            "18/18 [==============================] - 0s 2ms/step - loss: 0.3937 - accuracy: 0.8202\n",
            "Epoch 180/200\n",
            "18/18 [==============================] - 0s 2ms/step - loss: 0.3934 - accuracy: 0.8258\n",
            "Epoch 181/200\n",
            "18/18 [==============================] - 0s 2ms/step - loss: 0.3935 - accuracy: 0.8258\n",
            "Epoch 182/200\n",
            "18/18 [==============================] - 0s 2ms/step - loss: 0.3933 - accuracy: 0.8301\n",
            "Epoch 183/200\n",
            "18/18 [==============================] - 0s 2ms/step - loss: 0.3937 - accuracy: 0.8272\n",
            "Epoch 184/200\n",
            "18/18 [==============================] - 0s 2ms/step - loss: 0.3931 - accuracy: 0.8343\n",
            "Epoch 185/200\n",
            "18/18 [==============================] - 0s 2ms/step - loss: 0.3928 - accuracy: 0.8258\n",
            "Epoch 186/200\n",
            "18/18 [==============================] - 0s 3ms/step - loss: 0.3927 - accuracy: 0.8315\n",
            "Epoch 187/200\n",
            "18/18 [==============================] - 0s 3ms/step - loss: 0.3926 - accuracy: 0.8315\n",
            "Epoch 188/200\n",
            "18/18 [==============================] - 0s 2ms/step - loss: 0.3932 - accuracy: 0.8287\n",
            "Epoch 189/200\n",
            "18/18 [==============================] - 0s 2ms/step - loss: 0.3921 - accuracy: 0.8315\n",
            "Epoch 190/200\n",
            "18/18 [==============================] - 0s 2ms/step - loss: 0.3929 - accuracy: 0.8371\n",
            "Epoch 191/200\n",
            "18/18 [==============================] - 0s 3ms/step - loss: 0.3941 - accuracy: 0.8230\n",
            "Epoch 192/200\n",
            "18/18 [==============================] - 0s 3ms/step - loss: 0.3916 - accuracy: 0.8301\n",
            "Epoch 193/200\n",
            "18/18 [==============================] - 0s 3ms/step - loss: 0.3918 - accuracy: 0.8343\n",
            "Epoch 194/200\n",
            "18/18 [==============================] - 0s 2ms/step - loss: 0.3923 - accuracy: 0.8272\n",
            "Epoch 195/200\n",
            "18/18 [==============================] - 0s 2ms/step - loss: 0.3913 - accuracy: 0.8343\n",
            "Epoch 196/200\n",
            "18/18 [==============================] - 0s 3ms/step - loss: 0.3928 - accuracy: 0.8258\n",
            "Epoch 197/200\n",
            "18/18 [==============================] - 0s 2ms/step - loss: 0.3913 - accuracy: 0.8315\n",
            "Epoch 198/200\n",
            "18/18 [==============================] - 0s 2ms/step - loss: 0.3959 - accuracy: 0.8132\n",
            "Epoch 199/200\n",
            "18/18 [==============================] - 0s 2ms/step - loss: 0.3910 - accuracy: 0.8371\n",
            "Epoch 200/200\n",
            "18/18 [==============================] - 0s 3ms/step - loss: 0.3911 - accuracy: 0.8343\n"
          ]
        },
        {
          "output_type": "execute_result",
          "data": {
            "text/plain": [
              "<keras.callbacks.History at 0x7f3d7bf87450>"
            ]
          },
          "metadata": {},
          "execution_count": 18
        }
      ]
    },
    {
      "cell_type": "code",
      "source": [
        "model.evaluate(X_test,y_test)"
      ],
      "metadata": {
        "colab": {
          "base_uri": "https://localhost:8080/"
        },
        "id": "wY_Ti1tfP9GT",
        "outputId": "39f37baa-2911-41a8-9369-d5f08a97544a"
      },
      "execution_count": 19,
      "outputs": [
        {
          "output_type": "stream",
          "name": "stdout",
          "text": [
            "6/6 [==============================] - 0s 3ms/step - loss: 0.4148 - accuracy: 0.8324\n"
          ]
        },
        {
          "output_type": "execute_result",
          "data": {
            "text/plain": [
              "[0.4147967994213104, 0.832402229309082]"
            ]
          },
          "metadata": {},
          "execution_count": 19
        }
      ]
    }
  ]
}