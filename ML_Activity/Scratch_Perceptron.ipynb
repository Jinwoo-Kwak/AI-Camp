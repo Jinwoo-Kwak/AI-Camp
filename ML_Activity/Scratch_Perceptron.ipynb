{
  "nbformat": 4,
  "nbformat_minor": 0,
  "metadata": {
    "colab": {
      "name": "Scratch_Perceptron.ipynb",
      "provenance": [],
      "authorship_tag": "ABX9TyMWZczACi7cgW27CQCT5iFj",
      "include_colab_link": true
    },
    "kernelspec": {
      "name": "python3",
      "display_name": "Python 3"
    },
    "language_info": {
      "name": "python"
    }
  },
  "cells": [
    {
      "cell_type": "markdown",
      "metadata": {
        "id": "view-in-github",
        "colab_type": "text"
      },
      "source": [
        "<a href=\"https://colab.research.google.com/github/conuwoo/AI-Camp-Summer-2022/blob/main/ML_Activity/Scratch_Perceptron.ipynb\" target=\"_parent\"><img src=\"https://colab.research.google.com/assets/colab-badge.svg\" alt=\"Open In Colab\"/></a>"
      ]
    },
    {
      "cell_type": "code",
      "source": [
        "#download perceptron.data file"
      ],
      "metadata": {
        "id": "f-k8D7Bxl5JU"
      },
      "execution_count": 84,
      "outputs": []
    },
    {
      "cell_type": "code",
      "execution_count": 85,
      "metadata": {
        "id": "6JzIFJTkk1TI"
      },
      "outputs": [],
      "source": [
        "import numpy as np\n",
        "import pandas as pd\n",
        "\n",
        "def readDataFile(fileName):\n",
        "  return pd.read_csv(fileName, names=['x1','x2','x3','x4','y'])"
      ]
    },
    {
      "cell_type": "code",
      "source": [
        "from sklearn.model_selection import train_test_split\n",
        "\n",
        "def splitData(data, t_size):\n",
        "  return train_test_split(data,test_size=t_size, random_state=42)\n"
      ],
      "metadata": {
        "id": "cjYyp5I1ltJx"
      },
      "execution_count": 86,
      "outputs": []
    },
    {
      "cell_type": "code",
      "source": [
        "def get_X_Y(data):\n",
        "  return data.loc[:,'x1':'x4'].values, data.loc[:,'y'].values"
      ],
      "metadata": {
        "id": "4chRlXHHmtTT"
      },
      "execution_count": 87,
      "outputs": []
    },
    {
      "cell_type": "code",
      "source": [
        "'''\n",
        "x = [x1 x2 x3 x4]\n",
        "w = [w1 w2 w3 w4]\n",
        "b = c\n",
        "\n",
        "Ex: for single column_or_1d\n",
        "  x = [a]\n",
        "  w = [b]\n",
        "  b = c\n",
        "\n",
        "  w*b = ab\n",
        "  y = w * x + b //simple mathematical operation\n",
        "\n",
        "For multiple columns of x, where no of columns > 1\n",
        "  x = [x1 x2 x3 x4]\n",
        "  w = [w1 w2 w3 w4]\n",
        "  b = c\n",
        "\n",
        "  x and w are vectors\n",
        "    x * w = (x1.w1 + x2.w2 + x3.w3 + x4.w4)\n",
        "\n",
        "  Since x  and w are represent as row matrix(if any doubt, google about 'row matrix)\n",
        "  we have to take xT * w       <- only change betweeen single feature and multiple feature\n",
        "'''\n",
        "\n",
        "#For multiple columns of x, where no of columns > 1\n",
        "\n",
        "# h(x)\n",
        "def _hypo(X,w,b):\n",
        "  #return w*X.T + b\n",
        "  return np.dot(X,w) +b\n",
        "\n",
        "# loss(x)\n",
        "def _loss_Simplified(X,Y,w,b):\n",
        "  # max{0,-y(X*w.T + b)}\n",
        "  loss = (-Y * _hypo(X,w,b))\n",
        "  loss[loss >= 0] = 1\n",
        "  loss[loss < 0] = 0\n",
        "  return loss\n",
        "#gradient descent()\n",
        "''' initial w,b\n",
        "    w(t+1) = w(t) - stepSize * delta_w(t)\n",
        "    b(t+1) = b(t) - stepSize * delta_b(t)\n",
        "\n",
        "    until min is found or loss == 0\n",
        "'''\n",
        "def gradientDescent(X,Y,w0,b0,stepSize): \n",
        "  #initial w0,b0\n",
        "  w_t = w0\n",
        "  b_t = b0\n",
        "  it = 1\n",
        "\n",
        "  loss = _loss_Simplified(X,Y,w_t,b_t)\n",
        "  no_of_misc = sum(loss)\n",
        "  while(no_of_misc != 0):\n",
        "    delta_w, delta_b = 0,0\n",
        "    #do the gradient descent\n",
        "    for i in range(X.shape[0]):\n",
        "        delta_w += Y[i] * X[i] * loss[i]\n",
        "        delta_b += Y[i] * loss[i]\n",
        "\n",
        "    w_t1 = w_t + stepSize * delta_w\n",
        "    b_t1 = b_t + stepSize * delta_b\n",
        "\n",
        "    loss = _loss_Simplified(X,Y,w_t1,b_t1)\n",
        "    no_of_misc = sum(loss)\n",
        "\n",
        "    w_t = w_t1\n",
        "    b_t = b_t1\n",
        "    it +=1\n",
        "  return w_t, b_t, it"
      ],
      "metadata": {
        "id": "CzsCswfaqNEI"
      },
      "execution_count": 88,
      "outputs": []
    },
    {
      "cell_type": "code",
      "source": [
        "data = readDataFile('perceptron.data')\n",
        "tr_data, tst_data = splitData(data,0.05)\n",
        "\n",
        "X,Y = get_X_Y(tr_data)\n",
        "\n",
        "w,b,it = gradientDescent(X,Y,[1,1,1,1],1,0.1)\n",
        "\n",
        "print(w)\n",
        "print(b)\n",
        "\n",
        "print(\"No of iteration: \",it)\n",
        "\n",
        "Xt,Yt = get_X_Y(tst_data)\n",
        "ls = _loss_Simplified(Xt,Yt,w,b)\n",
        "print(\"Accuracy :\", 1-(sum(ls)/ls.shape[0]))"
      ],
      "metadata": {
        "id": "bLYSSmuuiuQI",
        "colab": {
          "base_uri": "https://localhost:8080/"
        },
        "outputId": "40788941-db3f-42cc-f514-bc5bacd9a123"
      },
      "execution_count": 89,
      "outputs": [
        {
          "output_type": "stream",
          "name": "stdout",
          "text": [
            "[ 44.40535358  16.03440064   0.58879373 -51.36453489]\n",
            "-96.50000000000009\n",
            "No of iteration:  115\n",
            "Accuracy : 1.0\n"
          ]
        }
      ]
    },
    {
      "cell_type": "code",
      "source": [
        "w,b,it = gradientDescent(X,Y,[0,0,0,0],0,0.1)\n",
        "\n",
        "print(w)\n",
        "print(b)\n",
        "\n",
        "print(\"No of iteration: \", it)\n",
        "Xt,Yt = get_X_Y(tst_data)\n",
        "ls = _loss_Simplified(Xt,Yt,w,b)\n",
        "print(\"Accuracy :\", 1-(sum(ls)/ls.shape[0]))"
      ],
      "metadata": {
        "colab": {
          "base_uri": "https://localhost:8080/"
        },
        "id": "tMWzZY0YosbS",
        "outputId": "3b7cc654-1554-4987-d0de-09a5515d8527"
      },
      "execution_count": 90,
      "outputs": [
        {
          "output_type": "stream",
          "name": "stdout",
          "text": [
            "[ 64.81324808  23.24820627   1.05333214 -75.33225399]\n",
            "-140.70000000000002\n",
            "No of iteration:  40\n",
            "Accuracy : 1.0\n"
          ]
        }
      ]
    },
    {
      "cell_type": "code",
      "source": [
        "w,b,it = gradientDescent(X,Y,[0,0,0,0],0,1)\n",
        "\n",
        "print(w)\n",
        "print(b)\n",
        "\n",
        "print(\"No of iteration: \", it)\n",
        "Xt,Yt = get_X_Y(tst_data)\n",
        "ls = _loss_Simplified(Xt,Yt,w,b)\n",
        "print(\"Accuracy :\", 1-(sum(ls)/ls.shape[0]))"
      ],
      "metadata": {
        "colab": {
          "base_uri": "https://localhost:8080/"
        },
        "id": "Zzoq0cBQs6Zr",
        "outputId": "6115e12b-26c4-49b3-8134-ef24c336565c"
      },
      "execution_count": 91,
      "outputs": [
        {
          "output_type": "stream",
          "name": "stdout",
          "text": [
            "[ 648.13248083  232.48206272   10.53332143 -753.32253989]\n",
            "-1407.0\n",
            "No of iteration:  40\n",
            "Accuracy : 1.0\n"
          ]
        }
      ]
    }
  ]
}