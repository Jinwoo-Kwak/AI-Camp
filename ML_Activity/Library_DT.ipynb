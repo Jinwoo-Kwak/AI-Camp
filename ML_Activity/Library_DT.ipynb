{
  "nbformat": 4,
  "nbformat_minor": 0,
  "metadata": {
    "colab": {
      "name": "Library_DT.ipynb",
      "provenance": [],
      "authorship_tag": "ABX9TyO1hudgHURwW48Xww2KUdm6",
      "include_colab_link": true
    },
    "kernelspec": {
      "name": "python3",
      "display_name": "Python 3"
    },
    "language_info": {
      "name": "python"
    }
  },
  "cells": [
    {
      "cell_type": "markdown",
      "metadata": {
        "id": "view-in-github",
        "colab_type": "text"
      },
      "source": [
        "<a href=\"https://colab.research.google.com/github/bestgradient/AI-Camp-Summer-2022/blob/main/ML_Activity/Library_DT.ipynb\" target=\"_parent\"><img src=\"https://colab.research.google.com/assets/colab-badge.svg\" alt=\"Open In Colab\"/></a>"
      ]
    },
    {
      "cell_type": "code",
      "execution_count": 1,
      "metadata": {
        "id": "26iBQCl6hEId"
      },
      "outputs": [],
      "source": [
        "import numpy as np \n",
        "import pandas as pd"
      ]
    },
    {
      "cell_type": "code",
      "source": [
        "mush_train = pd.read_csv(\"mush_train.data\", header = None)\n",
        "mush_train = mush_train.to_numpy()\n",
        "\n",
        "mush_test = pd.read_csv(\"mush_test.data\", header = None)\n",
        "mush_test = mush_test.to_numpy()"
      ],
      "metadata": {
        "id": "AFFHo3z5qeeU"
      },
      "execution_count": 2,
      "outputs": []
    },
    {
      "cell_type": "code",
      "source": [
        "X_train = mush_train[:,1:]\n",
        "Y_train = mush_train[:,0]\n",
        "\n",
        "X_test = mush_test[:,1:]\n",
        "Y_test = mush_test[:,0]"
      ],
      "metadata": {
        "id": "G6FyuxdvqgTq"
      },
      "execution_count": 3,
      "outputs": []
    },
    {
      "cell_type": "markdown",
      "source": [
        "Train data"
      ],
      "metadata": {
        "id": "u3eE_soDrCAv"
      }
    },
    {
      "cell_type": "code",
      "source": [
        "print(X_train.shape)\n",
        "print(Y_train.shape)"
      ],
      "metadata": {
        "colab": {
          "base_uri": "https://localhost:8080/"
        },
        "id": "t5YXPHpHqi8M",
        "outputId": "055575a9-2e15-47b2-e5e0-3d0cb2cee8f0"
      },
      "execution_count": 4,
      "outputs": [
        {
          "output_type": "stream",
          "name": "stdout",
          "text": [
            "(4712, 22)\n",
            "(4712,)\n"
          ]
        }
      ]
    },
    {
      "cell_type": "code",
      "source": [
        "from sklearn import tree"
      ],
      "metadata": {
        "id": "h0X8j_muqlvU"
      },
      "execution_count": 5,
      "outputs": []
    },
    {
      "cell_type": "code",
      "source": [
        "X_train = X_train.flatten()\n",
        "Y_train = Y_train.flatten()"
      ],
      "metadata": {
        "id": "hd2FeH3uqxgq"
      },
      "execution_count": 6,
      "outputs": []
    },
    {
      "cell_type": "code",
      "source": [
        "from sklearn import preprocessing\n",
        "label_encoder = preprocessing.LabelEncoder()\n",
        "X_train = label_encoder.fit_transform(X_train)\n",
        "Y_train = label_encoder.fit_transform(Y_train)"
      ],
      "metadata": {
        "id": "Q7mK45uvqzye"
      },
      "execution_count": 7,
      "outputs": []
    },
    {
      "cell_type": "code",
      "source": [
        "X_train = X_train.reshape(4712,22)\n",
        "Y_train = Y_train.reshape(4712,)"
      ],
      "metadata": {
        "id": "fQji1HMZq2ry"
      },
      "execution_count": 8,
      "outputs": []
    },
    {
      "cell_type": "code",
      "source": [
        "from sklearn import tree\n",
        "clf = tree.DecisionTreeClassifier(criterion='entropy')\n",
        "clf = clf.fit(X_train, Y_train)"
      ],
      "metadata": {
        "id": "ebzJl0ydq7Fi"
      },
      "execution_count": 9,
      "outputs": []
    },
    {
      "cell_type": "markdown",
      "source": [
        "Test data"
      ],
      "metadata": {
        "id": "f1gOQUnirEGZ"
      }
    },
    {
      "cell_type": "code",
      "source": [
        "print(X_test.shape)\n",
        "print(Y_test.shape)"
      ],
      "metadata": {
        "colab": {
          "base_uri": "https://localhost:8080/"
        },
        "id": "ebbjBZD7rFHu",
        "outputId": "190b31b3-283e-4c95-9c14-844570a32c6d"
      },
      "execution_count": 10,
      "outputs": [
        {
          "output_type": "stream",
          "name": "stdout",
          "text": [
            "(3412, 22)\n",
            "(3412,)\n"
          ]
        }
      ]
    },
    {
      "cell_type": "code",
      "source": [
        "X_test = X_test.flatten()\n",
        "Y_test = Y_test.flatten()"
      ],
      "metadata": {
        "id": "Cg6Z6tHkrGwk"
      },
      "execution_count": 11,
      "outputs": []
    },
    {
      "cell_type": "code",
      "source": [
        "from sklearn import preprocessing\n",
        "label_encoder = preprocessing.LabelEncoder()\n",
        "X_test = label_encoder.fit_transform(X_test)\n",
        "Y_test = label_encoder.fit_transform(Y_test)"
      ],
      "metadata": {
        "id": "GQknrRcZrI-q"
      },
      "execution_count": 12,
      "outputs": []
    },
    {
      "cell_type": "code",
      "source": [
        "X_test = X_test.reshape(3412,22)\n",
        "Y_test = Y_test.reshape(3412,)"
      ],
      "metadata": {
        "id": "hmQNFLlMrK3B"
      },
      "execution_count": 13,
      "outputs": []
    },
    {
      "cell_type": "code",
      "source": [
        "clf.score(X_test,Y_test)"
      ],
      "metadata": {
        "colab": {
          "base_uri": "https://localhost:8080/"
        },
        "id": "v7HJ2sFXrOgC",
        "outputId": "d6acc245-bd6d-4599-e52d-b6d96ed6436e"
      },
      "execution_count": 14,
      "outputs": [
        {
          "output_type": "execute_result",
          "data": {
            "text/plain": [
              "1.0"
            ]
          },
          "metadata": {},
          "execution_count": 14
        }
      ]
    },
    {
      "cell_type": "code",
      "source": [
        "tree.plot_tree(clf)"
      ],
      "metadata": {
        "colab": {
          "base_uri": "https://localhost:8080/",
          "height": 682
        },
        "id": "98HK9Hz-rQmB",
        "outputId": "37c5746a-0243-4ec9-fb56-c4f8efee68a6"
      },
      "execution_count": 15,
      "outputs": [
        {
          "output_type": "execute_result",
          "data": {
            "text/plain": [
              "[Text(0.3076923076923077, 0.9375, 'X[8] <= 2.5\\nentropy = 0.999\\nsamples = 4712\\nvalue = [2434, 2278]'),\n",
              " Text(0.23076923076923078, 0.8125, 'entropy = 0.0\\nsamples = 1026\\nvalue = [0, 1026]'),\n",
              " Text(0.38461538461538464, 0.8125, 'X[19] <= 7.5\\nentropy = 0.924\\nsamples = 3686\\nvalue = [2434, 1252]'),\n",
              " Text(0.15384615384615385, 0.6875, 'X[4] <= 8.0\\nentropy = 0.289\\nsamples = 949\\nvalue = [48, 901]'),\n",
              " Text(0.07692307692307693, 0.5625, 'entropy = 0.0\\nsamples = 901\\nvalue = [0, 901]'),\n",
              " Text(0.23076923076923078, 0.5625, 'entropy = 0.0\\nsamples = 48\\nvalue = [48, 0]'),\n",
              " Text(0.6153846153846154, 0.6875, 'X[7] <= 6.0\\nentropy = 0.553\\nsamples = 2737\\nvalue = [2386, 351]'),\n",
              " Text(0.38461538461538464, 0.5625, 'X[19] <= 13.0\\nentropy = 0.174\\nsamples = 2299\\nvalue = [2239, 60]'),\n",
              " Text(0.3076923076923077, 0.4375, 'entropy = 0.0\\nsamples = 1924\\nvalue = [1924, 0]'),\n",
              " Text(0.46153846153846156, 0.4375, 'X[10] <= 6.0\\nentropy = 0.634\\nsamples = 375\\nvalue = [315, 60]'),\n",
              " Text(0.38461538461538464, 0.3125, 'X[21] <= 11.5\\nentropy = 0.839\\nsamples = 82\\nvalue = [22, 60]'),\n",
              " Text(0.3076923076923077, 0.1875, 'X[11] <= 18.0\\nentropy = 0.391\\nsamples = 65\\nvalue = [5, 60]'),\n",
              " Text(0.23076923076923078, 0.0625, 'entropy = 0.0\\nsamples = 60\\nvalue = [0, 60]'),\n",
              " Text(0.38461538461538464, 0.0625, 'entropy = 0.0\\nsamples = 5\\nvalue = [5, 0]'),\n",
              " Text(0.46153846153846156, 0.1875, 'entropy = 0.0\\nsamples = 17\\nvalue = [17, 0]'),\n",
              " Text(0.5384615384615384, 0.3125, 'entropy = 0.0\\nsamples = 293\\nvalue = [293, 0]'),\n",
              " Text(0.8461538461538461, 0.5625, 'X[4] <= 12.0\\nentropy = 0.921\\nsamples = 438\\nvalue = [147, 291]'),\n",
              " Text(0.7692307692307693, 0.4375, 'X[20] <= 16.5\\nentropy = 0.999\\nsamples = 286\\nvalue = [147, 139]'),\n",
              " Text(0.6923076923076923, 0.3125, 'entropy = 0.0\\nsamples = 74\\nvalue = [0, 74]'),\n",
              " Text(0.8461538461538461, 0.3125, 'X[21] <= 6.0\\nentropy = 0.889\\nsamples = 212\\nvalue = [147, 65]'),\n",
              " Text(0.7692307692307693, 0.1875, 'X[9] <= 10.0\\nentropy = 0.994\\nsamples = 119\\nvalue = [54, 65]'),\n",
              " Text(0.6923076923076923, 0.0625, 'entropy = 0.0\\nsamples = 65\\nvalue = [0, 65]'),\n",
              " Text(0.8461538461538461, 0.0625, 'entropy = 0.0\\nsamples = 54\\nvalue = [54, 0]'),\n",
              " Text(0.9230769230769231, 0.1875, 'entropy = 0.0\\nsamples = 93\\nvalue = [93, 0]'),\n",
              " Text(0.9230769230769231, 0.4375, 'entropy = 0.0\\nsamples = 152\\nvalue = [0, 152]')]"
            ]
          },
          "metadata": {},
          "execution_count": 15
        },
        {
          "output_type": "display_data",
          "data": {
            "text/plain": [
              "<Figure size 432x288 with 1 Axes>"
            ],
            "image/png": "[encoded data removed]"
          },
          "metadata": {
            "needs_background": "light"
          }
        }
      ]
    }
  ]
}