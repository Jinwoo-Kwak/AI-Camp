{
  "nbformat": 4,
  "nbformat_minor": 0,
  "metadata": {
    "colab": {
      "name": "DecisionStump_DT.ipynb",
      "provenance": [],
      "authorship_tag": "ABX9TyMSblVmhiZpCymdVkDGUfGi",
      "include_colab_link": true
    },
    "kernelspec": {
      "name": "python3",
      "display_name": "Python 3"
    },
    "language_info": {
      "name": "python"
    }
  },
  "cells": [
    {
      "cell_type": "markdown",
      "metadata": {
        "id": "view-in-github",
        "colab_type": "text"
      },
      "source": [
        "<a href=\"https://colab.research.google.com/github/bestgradient/AI-Camp-Summer-2022/blob/main/ML_Activity/DecisionStump_DT.ipynb\" target=\"_parent\"><img src=\"https://colab.research.google.com/assets/colab-badge.svg\" alt=\"Open In Colab\"/></a>"
      ]
    },
    {
      "cell_type": "markdown",
      "source": [
        "DecisionStump is used in boosting classifiers by default. EX: AdaBoostClassifier() or DecisionTreeClassifier(max_depth=1). Ensemble tree models."
      ],
      "metadata": {
        "id": "vLvfQLgtxa9U"
      }
    },
    {
      "cell_type": "code",
      "execution_count": 1,
      "metadata": {
        "id": "ljzKyCIRwrb8"
      },
      "outputs": [],
      "source": [
        "import numpy as np \n",
        "import pandas as pd"
      ]
    },
    {
      "cell_type": "code",
      "source": [
        "mush_train = pd.read_csv(\"mush_train.data\", header = None)\n",
        "mush_train = mush_train.to_numpy()\n",
        "\n",
        "mush_test = pd.read_csv(\"mush_test.data\", header = None)\n",
        "mush_test = mush_test.to_numpy()"
      ],
      "metadata": {
        "id": "AOTjN6f1x667"
      },
      "execution_count": 2,
      "outputs": []
    },
    {
      "cell_type": "code",
      "source": [
        "X_train = mush_train[:,1:]\n",
        "Y_train = mush_train[:,0]\n",
        "\n",
        "X_test = mush_test[:,1:]\n",
        "Y_test = mush_test[:,0]"
      ],
      "metadata": {
        "id": "Fna9_gGDx8de"
      },
      "execution_count": 3,
      "outputs": []
    },
    {
      "cell_type": "markdown",
      "source": [
        "Train data"
      ],
      "metadata": {
        "id": "i75BF9xOx88O"
      }
    },
    {
      "cell_type": "code",
      "source": [
        "print(X_train.shape)\n",
        "print(Y_train.shape)"
      ],
      "metadata": {
        "colab": {
          "base_uri": "https://localhost:8080/"
        },
        "id": "53kqoM9cx9zN",
        "outputId": "e2371305-3e64-4ef6-e1be-de36c49be00d"
      },
      "execution_count": 4,
      "outputs": [
        {
          "output_type": "stream",
          "name": "stdout",
          "text": [
            "(4712, 22)\n",
            "(4712,)\n"
          ]
        }
      ]
    },
    {
      "cell_type": "code",
      "source": [
        "X_train = X_train.flatten()\n",
        "Y_train = Y_train.flatten()"
      ],
      "metadata": {
        "id": "e6pTh_UTyArb"
      },
      "execution_count": 5,
      "outputs": []
    },
    {
      "cell_type": "code",
      "source": [
        "from sklearn import preprocessing\n",
        "label_encoder = preprocessing.LabelEncoder()\n",
        "X_train = label_encoder.fit_transform(X_train)\n",
        "Y_train = label_encoder.fit_transform(Y_train)"
      ],
      "metadata": {
        "id": "X1FU4Ir9yY6K"
      },
      "execution_count": 6,
      "outputs": []
    },
    {
      "cell_type": "code",
      "source": [
        "X_train = X_train.reshape(4712,22)\n",
        "Y_train = Y_train.reshape(4712,)"
      ],
      "metadata": {
        "id": "foMAUeFtybd-"
      },
      "execution_count": 7,
      "outputs": []
    },
    {
      "cell_type": "markdown",
      "source": [
        "AdaBoostClassifier()"
      ],
      "metadata": {
        "id": "4OuP8tC2youX"
      }
    },
    {
      "cell_type": "code",
      "source": [
        "from sklearn import tree\n",
        "from sklearn.ensemble import AdaBoostClassifier\n",
        "clf = AdaBoostClassifier(n_estimators=100, random_state=0)\n",
        "clf = clf.fit(X_train, Y_train)"
      ],
      "metadata": {
        "id": "Nrw2LXW7ydRf"
      },
      "execution_count": 9,
      "outputs": []
    },
    {
      "cell_type": "markdown",
      "source": [
        "Test data"
      ],
      "metadata": {
        "id": "dmlbWgipyr8N"
      }
    },
    {
      "cell_type": "code",
      "source": [
        "print(X_test.shape)\n",
        "print(Y_test.shape)"
      ],
      "metadata": {
        "colab": {
          "base_uri": "https://localhost:8080/"
        },
        "id": "dtpzryvoys4D",
        "outputId": "b4476a38-3a6a-47da-ab75-ce906d259f7c"
      },
      "execution_count": 10,
      "outputs": [
        {
          "output_type": "stream",
          "name": "stdout",
          "text": [
            "(3412, 22)\n",
            "(3412,)\n"
          ]
        }
      ]
    },
    {
      "cell_type": "code",
      "source": [
        "X_test = X_test.flatten()\n",
        "Y_test = Y_test.flatten()"
      ],
      "metadata": {
        "id": "I5IVZW2kyv2z"
      },
      "execution_count": 11,
      "outputs": []
    },
    {
      "cell_type": "code",
      "source": [
        "from sklearn import preprocessing\n",
        "label_encoder = preprocessing.LabelEncoder()\n",
        "X_test = label_encoder.fit_transform(X_test)\n",
        "Y_test = label_encoder.fit_transform(Y_test)"
      ],
      "metadata": {
        "id": "uNaMsEOeyxf1"
      },
      "execution_count": 12,
      "outputs": []
    },
    {
      "cell_type": "code",
      "source": [
        "X_test = X_test.reshape(3412,22)\n",
        "Y_test = Y_test.reshape(3412,)"
      ],
      "metadata": {
        "id": "jXNUYKWLyzj3"
      },
      "execution_count": 13,
      "outputs": []
    },
    {
      "cell_type": "code",
      "source": [
        "clf.score(X_test,Y_test)"
      ],
      "metadata": {
        "colab": {
          "base_uri": "https://localhost:8080/"
        },
        "id": "_O_hE84hy1HR",
        "outputId": "239f1a3d-19d8-436c-a592-1a32b3f78f00"
      },
      "execution_count": 14,
      "outputs": [
        {
          "output_type": "execute_result",
          "data": {
            "text/plain": [
              "1.0"
            ]
          },
          "metadata": {},
          "execution_count": 14
        }
      ]
    },
    {
      "cell_type": "markdown",
      "source": [
        " DecisionTreeClassifier(max_depth=1)"
      ],
      "metadata": {
        "id": "dDVlSZIly2H6"
      }
    },
    {
      "cell_type": "code",
      "source": [
        "from sklearn.tree import DecisionTreeClassifier\n",
        "model = DecisionTreeClassifier(max_depth=1)"
      ],
      "metadata": {
        "id": "jFyUyUIAy5Sm"
      },
      "execution_count": 15,
      "outputs": []
    },
    {
      "cell_type": "code",
      "source": [
        "clf.score(X_test,Y_test)"
      ],
      "metadata": {
        "colab": {
          "base_uri": "https://localhost:8080/"
        },
        "id": "tDF7ESFRzO-C",
        "outputId": "ef196982-b8c3-4630-d1ba-9dd371353141"
      },
      "execution_count": 16,
      "outputs": [
        {
          "output_type": "execute_result",
          "data": {
            "text/plain": [
              "1.0"
            ]
          },
          "metadata": {},
          "execution_count": 16
        }
      ]
    }
  ]
}