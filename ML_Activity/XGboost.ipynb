{
  "nbformat": 4,
  "nbformat_minor": 0,
  "metadata": {
    "colab": {
      "name": "XGboost.ipynb",
      "provenance": [],
      "authorship_tag": "ABX9TyPCBX3kiOaL+ZyejAhRRYwi",
      "include_colab_link": true
    },
    "kernelspec": {
      "name": "python3",
      "display_name": "Python 3"
    },
    "language_info": {
      "name": "python"
    }
  },
  "cells": [
    {
      "cell_type": "markdown",
      "metadata": {
        "id": "view-in-github",
        "colab_type": "text"
      },
      "source": [
        "<a href=\"https://colab.research.google.com/github/bestgradient/AI-Camp-Summer-2022/blob/main/ML_Activity/XGboost.ipynb\" target=\"_parent\"><img src=\"https://colab.research.google.com/assets/colab-badge.svg\" alt=\"Open In Colab\"/></a>"
      ]
    },
    {
      "cell_type": "code",
      "execution_count": 1,
      "metadata": {
        "id": "PGzPSouW00XJ"
      },
      "outputs": [],
      "source": [
        "import numpy as np\n",
        "import pandas as pd"
      ]
    },
    {
      "cell_type": "code",
      "source": [
        "train_data = pd.read_csv('train.csv')\n",
        "test_data = pd.read_csv('test.csv')\n",
        "data = pd.concat((train_data, test_data), sort=False)"
      ],
      "metadata": {
        "id": "cosjQdLD1CNN"
      },
      "execution_count": 2,
      "outputs": []
    },
    {
      "cell_type": "markdown",
      "source": [
        "Preprocessing"
      ],
      "metadata": {
        "id": "Vfgo7rRH1D8l"
      }
    },
    {
      "cell_type": "code",
      "source": [
        "from sklearn.preprocessing import LabelEncoder\n",
        "for col in range(data.shape[1]):\n",
        "  encoder = LabelEncoder()\n",
        "  encoder.fit(data.iloc[:, col])\n",
        "  data.iloc[:, col] = encoder.transform(data.iloc[:, col])"
      ],
      "metadata": {
        "id": "xJTTy4431E36"
      },
      "execution_count": 3,
      "outputs": []
    },
    {
      "cell_type": "code",
      "source": [
        "#filling Na with mean\n",
        "data = data.fillna(data.mean())"
      ],
      "metadata": {
        "id": "f8CEmAWs1HEw"
      },
      "execution_count": 4,
      "outputs": []
    },
    {
      "cell_type": "code",
      "source": [
        "data.isnull().sum().sum()"
      ],
      "metadata": {
        "colab": {
          "base_uri": "https://localhost:8080/"
        },
        "id": "d_4tO6pV1Jdx",
        "outputId": "bc005df0-ecbd-4a73-b082-65b9f6d8303a"
      },
      "execution_count": 5,
      "outputs": [
        {
          "output_type": "execute_result",
          "data": {
            "text/plain": [
              "0"
            ]
          },
          "metadata": {},
          "execution_count": 5
        }
      ]
    },
    {
      "cell_type": "markdown",
      "source": [
        "Scaling"
      ],
      "metadata": {
        "id": "etbOoOgw1KtH"
      }
    },
    {
      "cell_type": "code",
      "source": [
        "from sklearn.preprocessing import minmax_scale\n",
        "for col in data.columns:\n",
        "  data[col] = pd.Series(minmax_scale(data[col]), index=data.index)"
      ],
      "metadata": {
        "id": "j9CaqX2g1NSJ"
      },
      "execution_count": 6,
      "outputs": []
    },
    {
      "cell_type": "markdown",
      "source": [
        "Split the data"
      ],
      "metadata": {
        "id": "vFbd2A4j1PWk"
      }
    },
    {
      "cell_type": "code",
      "source": [
        "X_train = data[:train_data.shape[0]]\n",
        "Y_train= X_train.SalePrice\n",
        "X_test = data[train_data.shape[0]:]"
      ],
      "metadata": {
        "id": "10pAUwTF1QYJ"
      },
      "execution_count": 7,
      "outputs": []
    },
    {
      "cell_type": "markdown",
      "source": [
        "XGboost"
      ],
      "metadata": {
        "id": "UbS_cxfc1WQS"
      }
    },
    {
      "cell_type": "code",
      "source": [
        "from xgboost import XGBRegressor\n",
        "\n",
        "model = XGBRegressor()\n",
        "model.fit(X_train, Y_train)"
      ],
      "metadata": {
        "colab": {
          "base_uri": "https://localhost:8080/"
        },
        "id": "BCtnlyTw1YG3",
        "outputId": "5eebf30e-e4fd-4ce7-b6ba-2a3e0aaf847d"
      },
      "execution_count": 9,
      "outputs": [
        {
          "output_type": "stream",
          "name": "stdout",
          "text": [
            "[07:36:38] WARNING: /workspace/src/objective/regression_obj.cu:152: reg:linear is now deprecated in favor of reg:squarederror.\n"
          ]
        },
        {
          "output_type": "execute_result",
          "data": {
            "text/plain": [
              "XGBRegressor()"
            ]
          },
          "metadata": {},
          "execution_count": 9
        }
      ]
    },
    {
      "cell_type": "code",
      "source": [
        "model.score(X_train, Y_train)"
      ],
      "metadata": {
        "colab": {
          "base_uri": "https://localhost:8080/"
        },
        "id": "SGX9_UhN1k58",
        "outputId": "e3319978-4c93-4987-f818-d8c143730479"
      },
      "execution_count": 10,
      "outputs": [
        {
          "output_type": "execute_result",
          "data": {
            "text/plain": [
              "0.9999548814413931"
            ]
          },
          "metadata": {},
          "execution_count": 10
        }
      ]
    }
  ]
}