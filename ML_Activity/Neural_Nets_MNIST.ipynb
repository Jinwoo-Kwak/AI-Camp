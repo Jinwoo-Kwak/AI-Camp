{
  "nbformat": 4,
  "nbformat_minor": 0,
  "metadata": {
    "colab": {
      "name": "Neural_Nets_MNIST.ipynb",
      "provenance": [],
      "authorship_tag": "ABX9TyOXriyz8KOzUVekf1iEc1zy",
      "include_colab_link": true
    },
    "kernelspec": {
      "name": "python3",
      "display_name": "Python 3"
    },
    "language_info": {
      "name": "python"
    }
  },
  "cells": [
    {
      "cell_type": "markdown",
      "metadata": {
        "id": "view-in-github",
        "colab_type": "text"
      },
      "source": [
        "<a href=\"https://colab.research.google.com/github/bestgradient/AI-Camp-Summer-2022/blob/main/ML_Activity/Neural_Nets_MNIST.ipynb\" target=\"_parent\"><img src=\"https://colab.research.google.com/assets/colab-badge.svg\" alt=\"Open In Colab\"/></a>"
      ]
    },
    {
      "cell_type": "code",
      "execution_count": 1,
      "metadata": {
        "id": "kgflteMejoQR"
      },
      "outputs": [],
      "source": [
        "import numpy as np\n",
        "import matplotlib.pyplot as plt\n",
        "import tensorflow as tf\n",
        "from tensorflow import keras\n",
        "from tensorflow.keras.models import Sequential\n",
        "from tensorflow.keras.layers import Dense\n",
        "from tensorflow.keras.utils import to_categorical\n",
        "from sklearn.preprocessing import minmax_scale\n",
        "from sklearn.model_selection import train_test_split"
      ]
    },
    {
      "cell_type": "code",
      "source": [
        "X = np.load('X.npy')\n",
        "Y = np.load('y.npy')"
      ],
      "metadata": {
        "id": "W5xY83Cxjp2h"
      },
      "execution_count": 2,
      "outputs": []
    },
    {
      "cell_type": "code",
      "source": [
        "Y"
      ],
      "metadata": {
        "colab": {
          "base_uri": "https://localhost:8080/"
        },
        "id": "IU5ED0PJiPEl",
        "outputId": "06ee08ec-a96b-40c9-888b-b1b1cc9525f8"
      },
      "execution_count": 3,
      "outputs": [
        {
          "output_type": "execute_result",
          "data": {
            "text/plain": [
              "array([[0],\n",
              "       [0],\n",
              "       [0],\n",
              "       ...,\n",
              "       [9],\n",
              "       [9],\n",
              "       [9]], dtype=uint8)"
            ]
          },
          "metadata": {},
          "execution_count": 3
        }
      ]
    },
    {
      "cell_type": "code",
      "source": [
        "Y = to_categorical(Y)"
      ],
      "metadata": {
        "id": "NtHzCIN2jrki"
      },
      "execution_count": 4,
      "outputs": []
    },
    {
      "cell_type": "code",
      "source": [
        "Y"
      ],
      "metadata": {
        "colab": {
          "base_uri": "https://localhost:8080/"
        },
        "id": "gsohHgLUHhIv",
        "outputId": "a6e6605a-5406-4d53-d079-7359ce3e8236"
      },
      "execution_count": 5,
      "outputs": [
        {
          "output_type": "execute_result",
          "data": {
            "text/plain": [
              "array([[1., 0., 0., ..., 0., 0., 0.],\n",
              "       [1., 0., 0., ..., 0., 0., 0.],\n",
              "       [1., 0., 0., ..., 0., 0., 0.],\n",
              "       ...,\n",
              "       [0., 0., 0., ..., 0., 0., 1.],\n",
              "       [0., 0., 0., ..., 0., 0., 1.],\n",
              "       [0., 0., 0., ..., 0., 0., 1.]], dtype=float32)"
            ]
          },
          "metadata": {},
          "execution_count": 5
        }
      ]
    },
    {
      "cell_type": "code",
      "source": [
        "X"
      ],
      "metadata": {
        "colab": {
          "base_uri": "https://localhost:8080/"
        },
        "id": "eg9PjFgyHlgL",
        "outputId": "b4180e6b-3de2-47d6-b578-a10825e9fe43"
      },
      "execution_count": 6,
      "outputs": [
        {
          "output_type": "execute_result",
          "data": {
            "text/plain": [
              "array([[0., 0., 0., ..., 0., 0., 0.],\n",
              "       [0., 0., 0., ..., 0., 0., 0.],\n",
              "       [0., 0., 0., ..., 0., 0., 0.],\n",
              "       ...,\n",
              "       [0., 0., 0., ..., 0., 0., 0.],\n",
              "       [0., 0., 0., ..., 0., 0., 0.],\n",
              "       [0., 0., 0., ..., 0., 0., 0.]])"
            ]
          },
          "metadata": {},
          "execution_count": 6
        }
      ]
    },
    {
      "cell_type": "code",
      "source": [
        "X = minmax_scale(X)"
      ],
      "metadata": {
        "id": "PPbESh1fj141"
      },
      "execution_count": 7,
      "outputs": []
    },
    {
      "cell_type": "code",
      "source": [
        "X"
      ],
      "metadata": {
        "colab": {
          "base_uri": "https://localhost:8080/"
        },
        "id": "MVFww6smHk1y",
        "outputId": "e440c512-6470-481d-8550-d394de55c9c9"
      },
      "execution_count": 8,
      "outputs": [
        {
          "output_type": "execute_result",
          "data": {
            "text/plain": [
              "array([[0.        , 0.        , 0.        , ..., 0.31198755, 0.96249344,\n",
              "        0.        ],\n",
              "       [0.        , 0.        , 0.        , ..., 0.31198755, 0.96249344,\n",
              "        0.        ],\n",
              "       [0.        , 0.        , 0.        , ..., 0.31198755, 0.96249344,\n",
              "        0.        ],\n",
              "       ...,\n",
              "       [0.        , 0.        , 0.        , ..., 0.31198755, 0.96249344,\n",
              "        0.        ],\n",
              "       [0.        , 0.        , 0.        , ..., 0.31198755, 0.96249344,\n",
              "        0.        ],\n",
              "       [0.        , 0.        , 0.        , ..., 0.31198755, 0.96249344,\n",
              "        0.        ]])"
            ]
          },
          "metadata": {},
          "execution_count": 8
        }
      ]
    },
    {
      "cell_type": "code",
      "source": [
        "X_train,X_test,Y_train,Y_test = train_test_split(X,Y)"
      ],
      "metadata": {
        "id": "Cf2mu3xpj6MW"
      },
      "execution_count": 9,
      "outputs": []
    },
    {
      "cell_type": "code",
      "source": [
        "Y_train.shape"
      ],
      "metadata": {
        "colab": {
          "base_uri": "https://localhost:8080/"
        },
        "id": "kwCo5jDTIhll",
        "outputId": "c26605af-2a8e-409e-883a-867b0bf02da9"
      },
      "execution_count": 17,
      "outputs": [
        {
          "output_type": "execute_result",
          "data": {
            "text/plain": [
              "(3750, 10)"
            ]
          },
          "metadata": {},
          "execution_count": 17
        }
      ]
    },
    {
      "cell_type": "code",
      "source": [
        "model = keras.Sequential()\n",
        "\n",
        "for i in range(8):\n",
        "  model.add(Dense(32,activation='relu'))\n",
        "\n",
        "model.add(Dense(10,activation='softmax'))\n",
        "model.compile(loss='categorical_crossentropy',optimizer='adam',metrics=['accuracy'])"
      ],
      "metadata": {
        "id": "_Asj9XWfkJb_"
      },
      "execution_count": 14,
      "outputs": []
    },
    {
      "cell_type": "code",
      "source": [
        "model.fit(X_train,Y_train,epochs=100)"
      ],
      "metadata": {
        "colab": {
          "base_uri": "https://localhost:8080/"
        },
        "id": "wOos6ypVkqeB",
        "outputId": "5ab2bbd8-3517-4e4b-e843-b449663ab58b"
      },
      "execution_count": 15,
      "outputs": [
        {
          "output_type": "stream",
          "name": "stdout",
          "text": [
            "Epoch 1/100\n",
            "118/118 [==============================] - 1s 3ms/step - loss: 1.7190 - accuracy: 0.3776\n",
            "Epoch 2/100\n",
            "118/118 [==============================] - 0s 3ms/step - loss: 0.8597 - accuracy: 0.7171\n",
            "Epoch 3/100\n",
            "118/118 [==============================] - 0s 3ms/step - loss: 0.6330 - accuracy: 0.8064\n",
            "Epoch 4/100\n",
            "118/118 [==============================] - 0s 3ms/step - loss: 0.4888 - accuracy: 0.8504\n",
            "Epoch 5/100\n",
            "118/118 [==============================] - 0s 3ms/step - loss: 0.4118 - accuracy: 0.8835\n",
            "Epoch 6/100\n",
            "118/118 [==============================] - 0s 3ms/step - loss: 0.3406 - accuracy: 0.8963\n",
            "Epoch 7/100\n",
            "118/118 [==============================] - 0s 3ms/step - loss: 0.3056 - accuracy: 0.9059\n",
            "Epoch 8/100\n",
            "118/118 [==============================] - 0s 3ms/step - loss: 0.2711 - accuracy: 0.9211\n",
            "Epoch 9/100\n",
            "118/118 [==============================] - 0s 3ms/step - loss: 0.2661 - accuracy: 0.9195\n",
            "Epoch 10/100\n",
            "118/118 [==============================] - 0s 3ms/step - loss: 0.2301 - accuracy: 0.9304\n",
            "Epoch 11/100\n",
            "118/118 [==============================] - 0s 3ms/step - loss: 0.1942 - accuracy: 0.9419\n",
            "Epoch 12/100\n",
            "118/118 [==============================] - 0s 3ms/step - loss: 0.1890 - accuracy: 0.9405\n",
            "Epoch 13/100\n",
            "118/118 [==============================] - 0s 3ms/step - loss: 0.1824 - accuracy: 0.9448\n",
            "Epoch 14/100\n",
            "118/118 [==============================] - 0s 3ms/step - loss: 0.2097 - accuracy: 0.9347\n",
            "Epoch 15/100\n",
            "118/118 [==============================] - 0s 3ms/step - loss: 0.1759 - accuracy: 0.9475\n",
            "Epoch 16/100\n",
            "118/118 [==============================] - 0s 3ms/step - loss: 0.1663 - accuracy: 0.9517\n",
            "Epoch 17/100\n",
            "118/118 [==============================] - 0s 3ms/step - loss: 0.1416 - accuracy: 0.9595\n",
            "Epoch 18/100\n",
            "118/118 [==============================] - 0s 3ms/step - loss: 0.1363 - accuracy: 0.9613\n",
            "Epoch 19/100\n",
            "118/118 [==============================] - 0s 3ms/step - loss: 0.1154 - accuracy: 0.9637\n",
            "Epoch 20/100\n",
            "118/118 [==============================] - 0s 3ms/step - loss: 0.1104 - accuracy: 0.9659\n",
            "Epoch 21/100\n",
            "118/118 [==============================] - 0s 3ms/step - loss: 0.1179 - accuracy: 0.9632\n",
            "Epoch 22/100\n",
            "118/118 [==============================] - 0s 3ms/step - loss: 0.1363 - accuracy: 0.9573\n",
            "Epoch 23/100\n",
            "118/118 [==============================] - 0s 3ms/step - loss: 0.0896 - accuracy: 0.9739\n",
            "Epoch 24/100\n",
            "118/118 [==============================] - 0s 3ms/step - loss: 0.0845 - accuracy: 0.9749\n",
            "Epoch 25/100\n",
            "118/118 [==============================] - 0s 3ms/step - loss: 0.0723 - accuracy: 0.9784\n",
            "Epoch 26/100\n",
            "118/118 [==============================] - 0s 3ms/step - loss: 0.0755 - accuracy: 0.9771\n",
            "Epoch 27/100\n",
            "118/118 [==============================] - 0s 3ms/step - loss: 0.0670 - accuracy: 0.9789\n",
            "Epoch 28/100\n",
            "118/118 [==============================] - 0s 3ms/step - loss: 0.1004 - accuracy: 0.9664\n",
            "Epoch 29/100\n",
            "118/118 [==============================] - 0s 3ms/step - loss: 0.0892 - accuracy: 0.9739\n",
            "Epoch 30/100\n",
            "118/118 [==============================] - 0s 3ms/step - loss: 0.0795 - accuracy: 0.9757\n",
            "Epoch 31/100\n",
            "118/118 [==============================] - 0s 3ms/step - loss: 0.0726 - accuracy: 0.9779\n",
            "Epoch 32/100\n",
            "118/118 [==============================] - 0s 3ms/step - loss: 0.0539 - accuracy: 0.9829\n",
            "Epoch 33/100\n",
            "118/118 [==============================] - 0s 3ms/step - loss: 0.0650 - accuracy: 0.9792\n",
            "Epoch 34/100\n",
            "118/118 [==============================] - 0s 3ms/step - loss: 0.1142 - accuracy: 0.9645\n",
            "Epoch 35/100\n",
            "118/118 [==============================] - 0s 3ms/step - loss: 0.0502 - accuracy: 0.9861\n",
            "Epoch 36/100\n",
            "118/118 [==============================] - 0s 3ms/step - loss: 0.0440 - accuracy: 0.9883\n",
            "Epoch 37/100\n",
            "118/118 [==============================] - 0s 3ms/step - loss: 0.0518 - accuracy: 0.9827\n",
            "Epoch 38/100\n",
            "118/118 [==============================] - 0s 3ms/step - loss: 0.0316 - accuracy: 0.9896\n",
            "Epoch 39/100\n",
            "118/118 [==============================] - 0s 3ms/step - loss: 0.0447 - accuracy: 0.9853\n",
            "Epoch 40/100\n",
            "118/118 [==============================] - 0s 3ms/step - loss: 0.0529 - accuracy: 0.9848\n",
            "Epoch 41/100\n",
            "118/118 [==============================] - 0s 3ms/step - loss: 0.0934 - accuracy: 0.9709\n",
            "Epoch 42/100\n",
            "118/118 [==============================] - 0s 3ms/step - loss: 0.0387 - accuracy: 0.9872\n",
            "Epoch 43/100\n",
            "118/118 [==============================] - 0s 3ms/step - loss: 0.0360 - accuracy: 0.9883\n",
            "Epoch 44/100\n",
            "118/118 [==============================] - 1s 6ms/step - loss: 0.0239 - accuracy: 0.9941\n",
            "Epoch 45/100\n",
            "118/118 [==============================] - 1s 7ms/step - loss: 0.0624 - accuracy: 0.9824\n",
            "Epoch 46/100\n",
            "118/118 [==============================] - 1s 7ms/step - loss: 0.1291 - accuracy: 0.9581\n",
            "Epoch 47/100\n",
            "118/118 [==============================] - 0s 3ms/step - loss: 0.0589 - accuracy: 0.9835\n",
            "Epoch 48/100\n",
            "118/118 [==============================] - 0s 3ms/step - loss: 0.0372 - accuracy: 0.9891\n",
            "Epoch 49/100\n",
            "118/118 [==============================] - 0s 3ms/step - loss: 0.0287 - accuracy: 0.9907\n",
            "Epoch 50/100\n",
            "118/118 [==============================] - 0s 3ms/step - loss: 0.0162 - accuracy: 0.9949\n",
            "Epoch 51/100\n",
            "118/118 [==============================] - 0s 3ms/step - loss: 0.0533 - accuracy: 0.9832\n",
            "Epoch 52/100\n",
            "118/118 [==============================] - 0s 3ms/step - loss: 0.0610 - accuracy: 0.9805\n",
            "Epoch 53/100\n",
            "118/118 [==============================] - 0s 3ms/step - loss: 0.0258 - accuracy: 0.9920\n",
            "Epoch 54/100\n",
            "118/118 [==============================] - 0s 3ms/step - loss: 0.0406 - accuracy: 0.9883\n",
            "Epoch 55/100\n",
            "118/118 [==============================] - 0s 3ms/step - loss: 0.0161 - accuracy: 0.9965\n",
            "Epoch 56/100\n",
            "118/118 [==============================] - 0s 3ms/step - loss: 0.0325 - accuracy: 0.9917\n",
            "Epoch 57/100\n",
            "118/118 [==============================] - 0s 3ms/step - loss: 0.0186 - accuracy: 0.9949\n",
            "Epoch 58/100\n",
            "118/118 [==============================] - 0s 3ms/step - loss: 0.0284 - accuracy: 0.9912\n",
            "Epoch 59/100\n",
            "118/118 [==============================] - 0s 3ms/step - loss: 0.0471 - accuracy: 0.9821\n",
            "Epoch 60/100\n",
            "118/118 [==============================] - 0s 3ms/step - loss: 0.0383 - accuracy: 0.9885\n",
            "Epoch 61/100\n",
            "118/118 [==============================] - 0s 3ms/step - loss: 0.0318 - accuracy: 0.9907\n",
            "Epoch 62/100\n",
            "118/118 [==============================] - 0s 3ms/step - loss: 0.0791 - accuracy: 0.9755\n",
            "Epoch 63/100\n",
            "118/118 [==============================] - 0s 3ms/step - loss: 0.0539 - accuracy: 0.9837\n",
            "Epoch 64/100\n",
            "118/118 [==============================] - 0s 3ms/step - loss: 0.0198 - accuracy: 0.9949\n",
            "Epoch 65/100\n",
            "118/118 [==============================] - 0s 3ms/step - loss: 0.0156 - accuracy: 0.9955\n",
            "Epoch 66/100\n",
            "118/118 [==============================] - 0s 3ms/step - loss: 0.0059 - accuracy: 0.9984\n",
            "Epoch 67/100\n",
            "118/118 [==============================] - 0s 3ms/step - loss: 0.0044 - accuracy: 0.9989\n",
            "Epoch 68/100\n",
            "118/118 [==============================] - 0s 3ms/step - loss: 0.0716 - accuracy: 0.9787\n",
            "Epoch 69/100\n",
            "118/118 [==============================] - 0s 3ms/step - loss: 0.1082 - accuracy: 0.9709\n",
            "Epoch 70/100\n",
            "118/118 [==============================] - 0s 3ms/step - loss: 0.0181 - accuracy: 0.9944\n",
            "Epoch 71/100\n",
            "118/118 [==============================] - 0s 3ms/step - loss: 0.0082 - accuracy: 0.9987\n",
            "Epoch 72/100\n",
            "118/118 [==============================] - 0s 3ms/step - loss: 0.0039 - accuracy: 0.9995\n",
            "Epoch 73/100\n",
            "118/118 [==============================] - 0s 3ms/step - loss: 0.0026 - accuracy: 0.9997\n",
            "Epoch 74/100\n",
            "118/118 [==============================] - 0s 3ms/step - loss: 0.0023 - accuracy: 0.9995\n",
            "Epoch 75/100\n",
            "118/118 [==============================] - 0s 3ms/step - loss: 0.0017 - accuracy: 0.9997\n",
            "Epoch 76/100\n",
            "118/118 [==============================] - 0s 3ms/step - loss: 0.0016 - accuracy: 0.9997\n",
            "Epoch 77/100\n",
            "118/118 [==============================] - 0s 3ms/step - loss: 0.0014 - accuracy: 0.9997\n",
            "Epoch 78/100\n",
            "118/118 [==============================] - 0s 3ms/step - loss: 9.5321e-04 - accuracy: 0.9997\n",
            "Epoch 79/100\n",
            "118/118 [==============================] - 0s 3ms/step - loss: 0.0012 - accuracy: 1.0000\n",
            "Epoch 80/100\n",
            "118/118 [==============================] - 0s 3ms/step - loss: 0.0011 - accuracy: 0.9997\n",
            "Epoch 81/100\n",
            "118/118 [==============================] - 0s 3ms/step - loss: 0.0568 - accuracy: 0.9859\n",
            "Epoch 82/100\n",
            "118/118 [==============================] - 0s 3ms/step - loss: 0.1942 - accuracy: 0.9403\n",
            "Epoch 83/100\n",
            "118/118 [==============================] - 0s 3ms/step - loss: 0.0640 - accuracy: 0.9803\n",
            "Epoch 84/100\n",
            "118/118 [==============================] - 0s 3ms/step - loss: 0.0411 - accuracy: 0.9880\n",
            "Epoch 85/100\n",
            "118/118 [==============================] - 0s 3ms/step - loss: 0.0280 - accuracy: 0.9917\n",
            "Epoch 86/100\n",
            "118/118 [==============================] - 0s 3ms/step - loss: 0.0229 - accuracy: 0.9920\n",
            "Epoch 87/100\n",
            "118/118 [==============================] - 0s 3ms/step - loss: 0.0275 - accuracy: 0.9907\n",
            "Epoch 88/100\n",
            "118/118 [==============================] - 0s 3ms/step - loss: 0.0716 - accuracy: 0.9789\n",
            "Epoch 89/100\n",
            "118/118 [==============================] - 0s 3ms/step - loss: 0.0317 - accuracy: 0.9901\n",
            "Epoch 90/100\n",
            "118/118 [==============================] - 0s 3ms/step - loss: 0.0118 - accuracy: 0.9968\n",
            "Epoch 91/100\n",
            "118/118 [==============================] - 0s 3ms/step - loss: 0.0029 - accuracy: 0.9995\n",
            "Epoch 92/100\n",
            "118/118 [==============================] - 0s 3ms/step - loss: 0.0017 - accuracy: 0.9997\n",
            "Epoch 93/100\n",
            "118/118 [==============================] - 0s 3ms/step - loss: 0.0010 - accuracy: 0.9997\n",
            "Epoch 94/100\n",
            "118/118 [==============================] - 0s 3ms/step - loss: 0.0019 - accuracy: 0.9997\n",
            "Epoch 95/100\n",
            "118/118 [==============================] - 0s 3ms/step - loss: 9.8650e-04 - accuracy: 0.9995\n",
            "Epoch 96/100\n",
            "118/118 [==============================] - 0s 3ms/step - loss: 8.4351e-04 - accuracy: 1.0000\n",
            "Epoch 97/100\n",
            "118/118 [==============================] - 0s 3ms/step - loss: 3.7977e-04 - accuracy: 1.0000\n",
            "Epoch 98/100\n",
            "118/118 [==============================] - 0s 3ms/step - loss: 2.7566e-04 - accuracy: 1.0000\n",
            "Epoch 99/100\n",
            "118/118 [==============================] - 0s 3ms/step - loss: 2.2734e-04 - accuracy: 1.0000\n",
            "Epoch 100/100\n",
            "118/118 [==============================] - 0s 3ms/step - loss: 1.9365e-04 - accuracy: 1.0000\n"
          ]
        },
        {
          "output_type": "execute_result",
          "data": {
            "text/plain": [
              "<keras.callbacks.History at 0x7f13c64e2490>"
            ]
          },
          "metadata": {},
          "execution_count": 15
        }
      ]
    },
    {
      "cell_type": "code",
      "source": [
        "print(model.metrics_names)"
      ],
      "metadata": {
        "colab": {
          "base_uri": "https://localhost:8080/"
        },
        "id": "EdDmaR1tk2t6",
        "outputId": "3382ae66-1078-45e7-c47a-033d32c8281f"
      },
      "execution_count": 18,
      "outputs": [
        {
          "output_type": "stream",
          "name": "stdout",
          "text": [
            "['loss', 'accuracy']\n"
          ]
        }
      ]
    },
    {
      "cell_type": "code",
      "source": [
        "model.evaluate(X_test,Y_test)"
      ],
      "metadata": {
        "colab": {
          "base_uri": "https://localhost:8080/"
        },
        "id": "9Yn8sHIUk5Hx",
        "outputId": "c2fe9711-2f4f-47f4-8f7a-e1f995eda5fe"
      },
      "execution_count": 19,
      "outputs": [
        {
          "output_type": "stream",
          "name": "stdout",
          "text": [
            "40/40 [==============================] - 0s 2ms/step - loss: 0.4925 - accuracy: 0.9280\n"
          ]
        },
        {
          "output_type": "execute_result",
          "data": {
            "text/plain": [
              "[0.4925297796726227, 0.9279999732971191]"
            ]
          },
          "metadata": {},
          "execution_count": 19
        }
      ]
    },
    {
      "cell_type": "code",
      "source": [
        "original_Y = np.load('y.npy')\n",
        "X = X.reshape(X.shape[0],20,20)\n",
        "print(X.shape)"
      ],
      "metadata": {
        "colab": {
          "base_uri": "https://localhost:8080/"
        },
        "id": "0GLrEqAIk8t-",
        "outputId": "8e63fb73-cc41-4a02-b9ee-3134cad5f493"
      },
      "execution_count": 42,
      "outputs": [
        {
          "output_type": "stream",
          "name": "stdout",
          "text": [
            "(5000, 20, 20)\n"
          ]
        }
      ]
    },
    {
      "cell_type": "code",
      "source": [
        "import random\n",
        "num = random.randrange(0,X.shape[0])\n",
        "print(np.argmax(model.predict(np.array([X[num].reshape(400)]))[0]))\n",
        "plt.imshow(X[num].transpose(),cmap='gray')"
      ],
      "metadata": {
        "colab": {
          "base_uri": "https://localhost:8080/",
          "height": 300
        },
        "id": "G5tMzSVqhfU9",
        "outputId": "336e03fb-f6aa-4de2-ef09-5ea1a940b44f"
      },
      "execution_count": 49,
      "outputs": [
        {
          "output_type": "stream",
          "name": "stdout",
          "text": [
            "6\n"
          ]
        },
        {
          "output_type": "execute_result",
          "data": {
            "text/plain": [
              "<matplotlib.image.AxesImage at 0x7f13c1c668d0>"
            ]
          },
          "metadata": {},
          "execution_count": 49
        },
        {
          "output_type": "display_data",
          "data": {
            "text/plain": [
              "<Figure size 432x288 with 1 Axes>"
            ],
            "image/png": "[encoded data removed]"
          },
          "metadata": {
            "needs_background": "light"
          }
        }
      ]
    }
  ]
}