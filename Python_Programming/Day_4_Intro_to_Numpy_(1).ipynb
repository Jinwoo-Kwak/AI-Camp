{
  "nbformat": 4,
  "nbformat_minor": 0,
  "metadata": {
    "colab": {
      "name": "Day_4_Intro_to_Numpy (1).ipynb",
      "provenance": [],
      "collapsed_sections": []
    },
    "kernelspec": {
      "name": "python3",
      "display_name": "Python 3"
    },
    "language_info": {
      "name": "python"
    }
  },
  "cells": [
    {
      "cell_type": "code",
      "source": [
        "'''\n",
        "\n",
        "numpy\n",
        "  - function\n",
        "  - operations\n",
        "  - examples (hands-on)\n",
        "\n",
        "Why use?\n",
        "  - structure\n",
        "  - easy to access\n",
        "  - manage data\n",
        "\n",
        "Data\n",
        " - any facts\n",
        "EX: email spam, face detection. hand written digit recognition, ...\n",
        "\n",
        "\n",
        "Read data from multiples sources - csv, excel, datbase, internet....\n",
        "\n",
        "\n",
        "what is Data Analysis?\n",
        "  - Data analysis is a process of inspecting, cleansing, transforming, and \n",
        "  modelling data with the goal of discovering useful information, informing \n",
        "  conclusions, and supporting decision-making.\n",
        "\n",
        "\n",
        "Tools data analysis\n",
        " - excel\n",
        " - R\n",
        " - tableau\n",
        " - python\n",
        " \n",
        "\n",
        " Why python?\n",
        "  - simple, intuitive and readable\n",
        "  - many libraries\n",
        "  - free and open source\n",
        "\n",
        "\n",
        "Real example of using numpy, pandas, matplotlib \n",
        "  - jupyter notebook\n",
        "\n",
        "'''\n",
        "'''\n",
        "- Intro to Numpy\n",
        "  Reference: \n",
        "  https://www.w3schools.com/python/numpy/numpy_intro.asp#:~:text=NumPy%20is%20a%20Python%20library,you%20can%20use%20it%20freely.\n",
        "  https://numpy.org/\n",
        "\n",
        "https://docs.scipy.org/doc/numpy-1.13.0/reference/arrays.ndarray.html#array-methods\n",
        "https://numpy.org/doc/stable/user/quickstart.html\n",
        "https://www.w3schools.com/python/numpy/numpy_array_slicing.asp\n",
        "\n",
        "  \n",
        "- Intro Pandas\n",
        "\n",
        "- Examples and more examples'''\n",
        "\n",
        "\n"
      ],
      "metadata": {
        "id": "Z8jQDwnqDMBm"
      },
      "execution_count": null,
      "outputs": []
    },
    {
      "cell_type": "code",
      "source": [
        "import numpy as ny"
      ],
      "metadata": {
        "id": "M8V5gVrSRo8-"
      },
      "execution_count": null,
      "outputs": []
    },
    {
      "cell_type": "code",
      "source": [
        "lt = [1, 2, 3, 4]\n",
        "rt = ny.array([1, 2, 3, 4])\n",
        "\n",
        "print(\"My list :\" , lt)\n",
        "print(\"Numpy list :\" , rt)"
      ],
      "metadata": {
        "colab": {
          "base_uri": "https://localhost:8080/"
        },
        "id": "uA0MD8fxR43l",
        "outputId": "11c92c95-61ae-427d-fdd2-40f71f382ba8"
      },
      "execution_count": null,
      "outputs": [
        {
          "output_type": "stream",
          "name": "stdout",
          "text": [
            "My list : [1, 2, 3, 4]\n",
            "Numpy list : [1 2 3 4]\n"
          ]
        }
      ]
    },
    {
      "cell_type": "code",
      "source": [
        "print(lt[1])\n",
        "print(rt[1])"
      ],
      "metadata": {
        "colab": {
          "base_uri": "https://localhost:8080/"
        },
        "id": "PGDp6QrcSZnQ",
        "outputId": "8929ce2f-9c00-4d60-8828-6a229a5fea61"
      },
      "execution_count": null,
      "outputs": [
        {
          "output_type": "stream",
          "name": "stdout",
          "text": [
            "2\n",
            "2\n"
          ]
        }
      ]
    },
    {
      "cell_type": "code",
      "execution_count": null,
      "metadata": {
        "id": "cj35Ue3x_d6V"
      },
      "outputs": [],
      "source": [
        ""
      ]
    },
    {
      "cell_type": "code",
      "source": [
        "a = ny.array([0, 1.5, 1, 3])\n"
      ],
      "metadata": {
        "id": "ychigT7oSjQW"
      },
      "execution_count": null,
      "outputs": []
    },
    {
      "cell_type": "code",
      "source": [
        "a[0], a[1]\n",
        "\n",
        "a[:]\n",
        "\n",
        "a[1:]\n",
        "\n",
        "a[:-1]\n",
        "\n",
        "a[1:3]"
      ],
      "metadata": {
        "colab": {
          "base_uri": "https://localhost:8080/"
        },
        "id": "gH97KFxNTElI",
        "outputId": "d18c8aed-cd48-4a73-f513-1f65ba280f4e"
      },
      "execution_count": null,
      "outputs": [
        {
          "output_type": "execute_result",
          "data": {
            "text/plain": [
              "array([1.5, 1. ])"
            ]
          },
          "metadata": {},
          "execution_count": 16
        }
      ]
    },
    {
      "cell_type": "code",
      "source": [
        "# array[start: end: step_size]\n",
        "# [0, 1.5, 1, 3]\n",
        "a[::2]\n",
        "# 0, 1\n",
        "\n",
        "b = ny.array([0.5, 2, 3, 4, 5, 6, 7, 8, 9, 10, 11, 12, 13])\n",
        "b[::20]\n",
        "print(b[::2])\n",
        "print(b[::20])"
      ],
      "metadata": {
        "colab": {
          "base_uri": "https://localhost:8080/"
        },
        "id": "4VHAZLTsTkIg",
        "outputId": "49cab56b-2644-4fa9-bfaf-af16668e3bbb"
      },
      "execution_count": null,
      "outputs": [
        {
          "output_type": "stream",
          "name": "stdout",
          "text": [
            "[ 0.5  3.   5.   7.   9.  11.  13. ]\n",
            "[0.5]\n"
          ]
        }
      ]
    },
    {
      "cell_type": "code",
      "source": [
        "b[::-1]  # numpy array - prints array in the reverse order"
      ],
      "metadata": {
        "colab": {
          "base_uri": "https://localhost:8080/"
        },
        "id": "JFsDDoJ2VRiL",
        "outputId": "edcc4f7c-4a3d-46a7-e05c-d5daf730f35c"
      },
      "execution_count": null,
      "outputs": [
        {
          "output_type": "execute_result",
          "data": {
            "text/plain": [
              "array([13. , 12. , 11. , 10. ,  9. ,  8. ,  7. ,  6. ,  5. ,  4. ,  3. ,\n",
              "        2. ,  0.5])"
            ]
          },
          "metadata": {},
          "execution_count": 23
        }
      ]
    },
    {
      "cell_type": "code",
      "source": [
        "lt  #list\n",
        "lt[::-1]\n",
        "lt[::2]"
      ],
      "metadata": {
        "colab": {
          "base_uri": "https://localhost:8080/"
        },
        "id": "l7dbnmY_VuuU",
        "outputId": "6c531dc7-681d-4236-d995-4884aa1438ff"
      },
      "execution_count": null,
      "outputs": [
        {
          "output_type": "execute_result",
          "data": {
            "text/plain": [
              "[1, 3]"
            ]
          },
          "metadata": {},
          "execution_count": 26
        }
      ]
    },
    {
      "cell_type": "code",
      "source": [
        "print(b)\n",
        "# b[::]\n",
        "b[3: 10:-1] # 10, 8 , 6 , 4\n",
        "\n",
        "print(b[3::-1]) #[4.  3.  2.  0.5]\n",
        "print(b[:10:-1]) #[13. 12.]\n",
        "\n",
        "print(b[3: 10: -1]) #[]\n",
        "print(b[3: 10: -2]) #[]\n",
        "\n",
        "print(b[10:3]) #[]\n",
        "print(b[10: 3: -1]) #[11. 10.  9.  8.  7.  6.  5.]\n"
      ],
      "metadata": {
        "colab": {
          "base_uri": "https://localhost:8080/"
        },
        "id": "1Dxr_UvSWKeP",
        "outputId": "3184d627-4917-4425-8bfd-f78b23663b82"
      },
      "execution_count": null,
      "outputs": [
        {
          "output_type": "stream",
          "name": "stdout",
          "text": [
            "[ 0.5  2.   3.   4.   5.   6.   7.   8.   9.  10.  11.  12.  13. ]\n",
            "[4.  3.  2.  0.5]\n",
            "[13. 12.]\n",
            "[]\n",
            "[]\n",
            "[]\n",
            "[11. 10.  9.  8.  7.  6.  5.]\n",
            "[11.  9.  7.  5.]\n"
          ]
        }
      ]
    },
    {
      "cell_type": "code",
      "source": [
        "print(b)\n",
        "print(b[3: 10:-2])  #[11.  9.  7.  5.]"
      ],
      "metadata": {
        "colab": {
          "base_uri": "https://localhost:8080/"
        },
        "id": "3uSvcbs2ui5j",
        "outputId": "5d0db157-529d-4f60-8e32-0a0721c4d6f3"
      },
      "execution_count": null,
      "outputs": [
        {
          "output_type": "stream",
          "name": "stdout",
          "text": [
            "[ 0.5  2.   3.   4.   5.   6.   7.   8.   9.  10.  11.  12.  13. ]\n",
            "[]\n"
          ]
        }
      ]
    },
    {
      "cell_type": "code",
      "source": [
        "b[3:10:-2]"
      ],
      "metadata": {
        "id": "GpB7NFKIujkR"
      },
      "execution_count": null,
      "outputs": []
    },
    {
      "cell_type": "code",
      "source": [
        "np.ones(4)"
      ],
      "metadata": {
        "colab": {
          "base_uri": "https://localhost:8080/"
        },
        "id": "0ff_gW8swHdt",
        "outputId": "eec809bf-87bd-4534-d0df-149bfcaedb17"
      },
      "execution_count": null,
      "outputs": [
        {
          "output_type": "execute_result",
          "data": {
            "text/plain": [
              "array([1., 1., 1., 1.])"
            ]
          },
          "metadata": {},
          "execution_count": 55
        }
      ]
    },
    {
      "cell_type": "code",
      "source": [
        "np.zeros(4)"
      ],
      "metadata": {
        "colab": {
          "base_uri": "https://localhost:8080/"
        },
        "id": "KA4DVxhIwT3O",
        "outputId": "e4e65af9-cd4f-48fd-c688-3092cec6b8b6"
      },
      "execution_count": null,
      "outputs": [
        {
          "output_type": "execute_result",
          "data": {
            "text/plain": [
              "array([0., 0., 0., 0.])"
            ]
          },
          "metadata": {},
          "execution_count": 56
        }
      ]
    },
    {
      "cell_type": "code",
      "source": [
        "np.empty(4)"
      ],
      "metadata": {
        "colab": {
          "base_uri": "https://localhost:8080/"
        },
        "id": "wZGTWh7lwhqM",
        "outputId": "ed5c91d3-eec1-491b-d181-5b6c609d18db"
      },
      "execution_count": null,
      "outputs": [
        {
          "output_type": "execute_result",
          "data": {
            "text/plain": [
              "array([0., 0., 0., 0.])"
            ]
          },
          "metadata": {},
          "execution_count": 57
        }
      ]
    },
    {
      "cell_type": "code",
      "source": [
        "b = np.array([[1,2,3],[4,5,6],[7,8,9]])"
      ],
      "metadata": {
        "id": "kS0vQoBlwmNb"
      },
      "execution_count": null,
      "outputs": []
    },
    {
      "cell_type": "code",
      "source": [
        "a"
      ],
      "metadata": {
        "colab": {
          "base_uri": "https://localhost:8080/"
        },
        "id": "YXPPJoe4xavl",
        "outputId": "d2f36763-fd49-422d-9668-87ac3ab09432"
      },
      "execution_count": null,
      "outputs": [
        {
          "output_type": "execute_result",
          "data": {
            "text/plain": [
              "array([1, 2, 3, 4, 5, 6, 7, 8, 9])"
            ]
          },
          "metadata": {},
          "execution_count": 59
        }
      ]
    },
    {
      "cell_type": "code",
      "source": [
        "b"
      ],
      "metadata": {
        "colab": {
          "base_uri": "https://localhost:8080/"
        },
        "id": "MGBY_tY0xcT8",
        "outputId": "0fa8eb3f-b4be-41f5-ee9a-ef41ceeafd4c"
      },
      "execution_count": null,
      "outputs": [
        {
          "output_type": "execute_result",
          "data": {
            "text/plain": [
              "array([[1, 2, 3],\n",
              "       [4, 5, 6],\n",
              "       [7, 8, 9]])"
            ]
          },
          "metadata": {},
          "execution_count": 60
        }
      ]
    },
    {
      "cell_type": "code",
      "source": [
        "import random\n",
        "np.random.rand() "
      ],
      "metadata": {
        "id": "K_nhxC7Zxctc",
        "colab": {
          "base_uri": "https://localhost:8080/"
        },
        "outputId": "f5780632-5173-442d-ff9a-800385a029b7"
      },
      "execution_count": null,
      "outputs": [
        {
          "output_type": "execute_result",
          "data": {
            "text/plain": [
              "array([[[0.04793816, 0.83206077, 0.06781212, 0.94158005, 0.15483021],\n",
              "        [0.98462146, 0.51630602, 0.27609693, 0.18961107, 0.4913672 ],\n",
              "        [0.26467347, 0.70035469, 0.46838193, 0.07868866, 0.5704138 ],\n",
              "        [0.77206904, 0.3783626 , 0.89619553, 0.90273073, 0.85324394]],\n",
              "\n",
              "       [[0.92125846, 0.74968452, 0.55576025, 0.03369325, 0.76387543],\n",
              "        [0.36009438, 0.56007591, 0.51422315, 0.14408403, 0.72279142],\n",
              "        [0.39846506, 0.34871696, 0.02308236, 0.88607801, 0.97150769],\n",
              "        [0.1486794 , 0.6657853 , 0.9065189 , 0.85136363, 0.68242732]],\n",
              "\n",
              "       [[0.64389591, 0.9301077 , 0.2778477 , 0.86460305, 0.33359655],\n",
              "        [0.90342033, 0.67016866, 0.61802436, 0.07403272, 0.6983284 ],\n",
              "        [0.86888161, 0.61724576, 0.02920063, 0.35274406, 0.00534783],\n",
              "        [0.32420046, 0.78510513, 0.68035891, 0.32109073, 0.20314383]]])"
            ]
          },
          "metadata": {},
          "execution_count": 66
        }
      ]
    },
    {
      "cell_type": "code",
      "source": [
        "a = np.array([1,2,3,4,5,6,7,8,9,10,11])\n",
        "\n",
        "# Error  ValueError: cannot reshape array of size 11 into shape (6,2)\n",
        "#a.reshape(6, 2) \n"
      ],
      "metadata": {
        "id": "yRuf98zcx3Ot"
      },
      "execution_count": null,
      "outputs": []
    },
    {
      "cell_type": "code",
      "source": [
        "a.max()"
      ],
      "metadata": {
        "colab": {
          "base_uri": "https://localhost:8080/"
        },
        "id": "D54GzfHQx8ZG",
        "outputId": "90c9b0ac-20f3-44db-aa82-43efe970e33c"
      },
      "execution_count": null,
      "outputs": [
        {
          "output_type": "execute_result",
          "data": {
            "text/plain": [
              "11"
            ]
          },
          "metadata": {},
          "execution_count": 72
        }
      ]
    },
    {
      "cell_type": "code",
      "source": [
        "np.random.randint(10,23,size=(3,4))"
      ],
      "metadata": {
        "colab": {
          "base_uri": "https://localhost:8080/"
        },
        "id": "TtNDPLwh0B7p",
        "outputId": "e0fd872e-eed9-46a9-dd6f-dc2da932a460"
      },
      "execution_count": null,
      "outputs": [
        {
          "output_type": "execute_result",
          "data": {
            "text/plain": [
              "array([[19, 10, 19, 10],\n",
              "       [18, 19, 20, 22],\n",
              "       [12, 13, 18, 18]])"
            ]
          },
          "metadata": {},
          "execution_count": 75
        }
      ]
    },
    {
      "cell_type": "code",
      "source": [
        "b"
      ],
      "metadata": {
        "colab": {
          "base_uri": "https://localhost:8080/"
        },
        "id": "_2Y2Xw3f0vAh",
        "outputId": "3d4af77a-4b43-49f9-e699-d0f22a153dfa"
      },
      "execution_count": null,
      "outputs": [
        {
          "output_type": "execute_result",
          "data": {
            "text/plain": [
              "range(0, 15)"
            ]
          },
          "metadata": {},
          "execution_count": 78
        }
      ]
    },
    {
      "cell_type": "code",
      "source": [
        "b = np.array([1, 2, 3, 4, 5, 6, 7, 8, 9, 10, 11])\n",
        "a = np.array([1,2,3,4,5,6,7,8,9,10,11])\n",
        "c = np.array([1,2,3,4,5,623523,7,8,9,10,11])\n"
      ],
      "metadata": {
        "id": "YTOtCbOW026K"
      },
      "execution_count": null,
      "outputs": []
    },
    {
      "cell_type": "code",
      "source": [
        "np.concatenate((a,b,c))"
      ],
      "metadata": {
        "colab": {
          "base_uri": "https://localhost:8080/"
        },
        "id": "EzA_TmFR1Dt3",
        "outputId": "e1117e70-35d1-4259-b935-f8d5714695fc"
      },
      "execution_count": null,
      "outputs": [
        {
          "output_type": "execute_result",
          "data": {
            "text/plain": [
              "array([     1,      2,      3,      4,      5,      6,      7,      8,\n",
              "            9,     10,     11,      1,      2,      3,      4,      5,\n",
              "            6,      7,      8,      9,     10,     11,      1,      2,\n",
              "            3,      4,      5, 623523,      7,      8,      9,     10,\n",
              "           11])"
            ]
          },
          "metadata": {},
          "execution_count": 130
        }
      ]
    },
    {
      "cell_type": "code",
      "source": [
        "a=[1,2,3,4,5]\n",
        "b= [4,5,6,7,78]"
      ],
      "metadata": {
        "id": "rM-BkCRK1I6D"
      },
      "execution_count": null,
      "outputs": []
    },
    {
      "cell_type": "code",
      "source": [
        "k=a.append(b)"
      ],
      "metadata": {
        "id": "A3ch1bpZ13PE"
      },
      "execution_count": null,
      "outputs": []
    },
    {
      "cell_type": "code",
      "source": [
        "a[-1]"
      ],
      "metadata": {
        "colab": {
          "base_uri": "https://localhost:8080/"
        },
        "id": "ugFhTLnV18lV",
        "outputId": "32a27e8a-8ae1-4bd7-81d6-5ad2cf6ea2d5"
      },
      "execution_count": null,
      "outputs": [
        {
          "output_type": "execute_result",
          "data": {
            "text/plain": [
              "[4, 5, 6, 7, 78]"
            ]
          },
          "metadata": {},
          "execution_count": 108
        }
      ]
    },
    {
      "cell_type": "code",
      "source": [
        "a.extend(b)"
      ],
      "metadata": {
        "id": "nJ99Yj3G2Czk"
      },
      "execution_count": null,
      "outputs": []
    },
    {
      "cell_type": "code",
      "source": [
        "a"
      ],
      "metadata": {
        "colab": {
          "base_uri": "https://localhost:8080/"
        },
        "id": "fAK4BHSj2IQl",
        "outputId": "82c9db4d-3837-4a8e-a1b0-dd641c91048d"
      },
      "execution_count": null,
      "outputs": [
        {
          "output_type": "execute_result",
          "data": {
            "text/plain": [
              "[1, 2, 3, 4, 5, 4, 5, 6, 7, 78]"
            ]
          },
          "metadata": {},
          "execution_count": 105
        }
      ]
    },
    {
      "cell_type": "code",
      "source": [
        "b = np.array([1, 2, 3, 4, 5, 6, 7, 8, 9, 10, 11])\n",
        "a = np.array([1,2,3,4,5,6,7,8,9,10,11])\n"
      ],
      "metadata": {
        "colab": {
          "base_uri": "https://localhost:8080/"
        },
        "id": "1bKOBFut2Ise",
        "outputId": "9c5c7ab1-8fe6-4ed9-aab3-264b808d9ad2"
      },
      "execution_count": null,
      "outputs": [
        {
          "output_type": "execute_result",
          "data": {
            "text/plain": [
              "11"
            ]
          },
          "metadata": {},
          "execution_count": 112
        }
      ]
    },
    {
      "cell_type": "code",
      "source": [
        "a.size"
      ],
      "metadata": {
        "colab": {
          "base_uri": "https://localhost:8080/"
        },
        "id": "A6Wp10Ue2q-d",
        "outputId": "2d5074a2-850a-40f3-8e88-a77433c2f033"
      },
      "execution_count": null,
      "outputs": [
        {
          "output_type": "execute_result",
          "data": {
            "text/plain": [
              "11"
            ]
          },
          "metadata": {},
          "execution_count": 113
        }
      ]
    },
    {
      "cell_type": "code",
      "source": [
        "arr = np.array([1,2,3,544,52424,5567656,7,8,9])"
      ],
      "metadata": {
        "id": "PN14vXEc20yF"
      },
      "execution_count": null,
      "outputs": []
    },
    {
      "cell_type": "code",
      "source": [
        "arr.shape"
      ],
      "metadata": {
        "colab": {
          "base_uri": "https://localhost:8080/"
        },
        "id": "3NQeuCFg3Dot",
        "outputId": "30abd9f7-4886-4c21-fe40-60027bd7930d"
      },
      "execution_count": null,
      "outputs": [
        {
          "output_type": "execute_result",
          "data": {
            "text/plain": [
              "(9,)"
            ]
          },
          "metadata": {},
          "execution_count": 119
        }
      ]
    },
    {
      "cell_type": "code",
      "source": [
        "arr.size"
      ],
      "metadata": {
        "colab": {
          "base_uri": "https://localhost:8080/"
        },
        "id": "pYh3hXg43KaG",
        "outputId": "fac9b2b7-0c9f-4c40-b7fc-4b8a692a472b"
      },
      "execution_count": null,
      "outputs": [
        {
          "output_type": "execute_result",
          "data": {
            "text/plain": [
              "9"
            ]
          },
          "metadata": {},
          "execution_count": 117
        }
      ]
    },
    {
      "cell_type": "code",
      "source": [
        "arr.sum()"
      ],
      "metadata": {
        "colab": {
          "base_uri": "https://localhost:8080/"
        },
        "id": "0dDw8oi33LyG",
        "outputId": "2f974d53-8181-4e4d-9995-66ce2d9f5de3"
      },
      "execution_count": null,
      "outputs": [
        {
          "output_type": "execute_result",
          "data": {
            "text/plain": [
              "45"
            ]
          },
          "metadata": {},
          "execution_count": 120
        }
      ]
    },
    {
      "cell_type": "code",
      "source": [
        "arr.std()"
      ],
      "metadata": {
        "colab": {
          "base_uri": "https://localhost:8080/"
        },
        "id": "zS4QtH1g3uTX",
        "outputId": "ba439024-cfbd-4c0b-98a2-9b4e03575774"
      },
      "execution_count": null,
      "outputs": [
        {
          "output_type": "execute_result",
          "data": {
            "text/plain": [
              "2.581988897471611"
            ]
          },
          "metadata": {},
          "execution_count": 121
        }
      ]
    },
    {
      "cell_type": "code",
      "source": [
        "a.var()"
      ],
      "metadata": {
        "colab": {
          "base_uri": "https://localhost:8080/"
        },
        "id": "lrp63qsW3vh_",
        "outputId": "9dfc7325-d5e7-41bb-d525-a4e0945f39eb"
      },
      "execution_count": null,
      "outputs": [
        {
          "output_type": "execute_result",
          "data": {
            "text/plain": [
              "10.0"
            ]
          },
          "metadata": {},
          "execution_count": 123
        }
      ]
    },
    {
      "cell_type": "code",
      "source": [
        "arr.mean()"
      ],
      "metadata": {
        "colab": {
          "base_uri": "https://localhost:8080/"
        },
        "id": "T4OJHe443xYO",
        "outputId": "94b99b82-9d73-4029-f60c-b31080343688"
      },
      "execution_count": null,
      "outputs": [
        {
          "output_type": "execute_result",
          "data": {
            "text/plain": [
              "5.0"
            ]
          },
          "metadata": {},
          "execution_count": 124
        }
      ]
    },
    {
      "cell_type": "code",
      "source": [
        "arr.sort()"
      ],
      "metadata": {
        "id": "cf2oayXJ39wn"
      },
      "execution_count": null,
      "outputs": []
    },
    {
      "cell_type": "code",
      "source": [
        "arr.squeeze()"
      ],
      "metadata": {
        "colab": {
          "base_uri": "https://localhost:8080/"
        },
        "id": "3qiicqbk4KMX",
        "outputId": "5bc102d0-02e5-434e-8fb8-bfcf53a408b3"
      },
      "execution_count": null,
      "outputs": [
        {
          "output_type": "execute_result",
          "data": {
            "text/plain": [
              "array([      1,       2,       3,       7,       8,       9,     544,\n",
              "         52424, 5567656])"
            ]
          },
          "metadata": {},
          "execution_count": 132
        }
      ]
    },
    {
      "cell_type": "markdown",
      "source": [
        "###More numpy functions on 2D arrays"
      ],
      "metadata": {
        "id": "kuqWAAa88k5Z"
      }
    },
    {
      "cell_type": "code",
      "source": [
        "# Create a 2d array of randomNumber of size (4,4)\n",
        "\n",
        "#netra #Minerva\n",
        "np.random.randint(1,100,size=(4,4))\n",
        "np.random.randint(1,90,size=(4,4))\n",
        "\n",
        "\n",
        "#Yash #Ayush\n",
        "np.random.rand(4,4)\n",
        "np.random.rand(4,4)\n",
        "\n",
        "#Walker\n",
        "np.random.rand(16).reshape((4, 4))\n",
        "\n",
        "#Shriram\n",
        "a = np.array([1,2,3,4,5,6,7,8,9,10,11,12,13,14,15,16])\n",
        "a.reshape(4,4)\n",
        "\n",
        "\n",
        "np.random.randint(5, size=(4,4))\n",
        "\n"
      ],
      "metadata": {
        "id": "pRV-Rngg4KwX",
        "colab": {
          "base_uri": "https://localhost:8080/"
        },
        "outputId": "94690815-3c47-4e85-b58b-ab80fc40cff9"
      },
      "execution_count": null,
      "outputs": [
        {
          "output_type": "execute_result",
          "data": {
            "text/plain": [
              "array([[3, 1, 0, 0],\n",
              "       [1, 0, 0, 0],\n",
              "       [3, 3, 1, 0],\n",
              "       [2, 1, 4, 2]])"
            ]
          },
          "metadata": {},
          "execution_count": 144
        }
      ]
    },
    {
      "cell_type": "code",
      "source": [
        "np.random.rand(4,4,3)"
      ],
      "metadata": {
        "id": "oX9x1L8A-KOJ"
      },
      "execution_count": null,
      "outputs": []
    },
    {
      "cell_type": "code",
      "source": [
        "np.zeros((5, 5))\n",
        "x = np.ones((5, 5))\n",
        "\n",
        "x.size\n",
        "x.shape\n",
        "\n",
        "np.random.rand(4,4,4)"
      ],
      "metadata": {
        "id": "MR0pgjjkAXEN"
      },
      "execution_count": null,
      "outputs": []
    },
    {
      "cell_type": "code",
      "source": [
        "#concatenate\n",
        "# create 2 2D array with random number and try concatenate\n",
        "'''\n",
        "1 2\n",
        "3 4\n",
        "5 6\n",
        "7 8\n",
        "\n",
        "'''\n",
        "\n",
        "\n",
        "a = np.random.rand(2,2)\n",
        "b = np.random.rand(2,2)\n",
        "\n",
        "print(a.shape, b.shape)\n",
        "c = np.concatenate((a, b))\n",
        "c.shape\n",
        "\n",
        "'''\n",
        "1 2        6 7              \n",
        "3 4        8 9\n",
        "\n",
        "\n",
        "1 2 6 7\n",
        "3 4 8 9\n",
        "'''\n",
        "d = np.concatenate((a, b), axis=1)\n",
        "print(d, d.shape)\n",
        "\n",
        "￼Submit Answer »\n"
      ],
      "metadata": {
        "colab": {
          "base_uri": "https://localhost:8080/"
        },
        "id": "hMGA3xDXBEse",
        "outputId": "abdb9bbb-463f-46c4-a10d-e0c20c52afd8"
      },
      "execution_count": null,
      "outputs": [
        {
          "output_type": "stream",
          "name": "stdout",
          "text": [
            "(2, 2) (2, 2)\n",
            "[[0.03537192 0.47994656 0.94487873 0.73607313]\n",
            " [0.75120598 0.23093717 0.15950998 0.88375543]] (2, 4)\n"
          ]
        }
      ]
    },
    {
      "cell_type": "code",
      "source": [
        "x = np.random.randint(1, 26, size=(5,5))\n",
        "print(x)\n",
        "print(x[0][2])\n",
        "print(x[0,2])\n",
        "\n",
        "x[:,:]\n",
        "x[0, :]\n",
        "x[:, 3]\n",
        "\n",
        "#x[:, 4] = 0\n",
        "\n",
        "x[1:3, 2:3] = -1\n",
        "\n",
        "print(x[1, :] <= 10)\n",
        "print(x[:, -1] >=10)\n",
        "\n",
        "x[x[:, -1] >=10] = 2000\n",
        "print(x)\n"
      ],
      "metadata": {
        "colab": {
          "base_uri": "https://localhost:8080/"
        },
        "id": "wb8-xjQqFVY0",
        "outputId": "61cebc19-2bc2-4121-847c-202d4a16b95e"
      },
      "execution_count": null,
      "outputs": [
        {
          "output_type": "stream",
          "name": "stdout",
          "text": [
            "[[21 19 16 24 18]\n",
            " [ 3 22 18 15 14]\n",
            " [ 1 23 16 21 19]\n",
            " [22 17  1 19 11]\n",
            " [ 7  9  3 22  2]]\n",
            "16\n",
            "16\n",
            "[ True False  True False False]\n",
            "[ True  True  True  True False]\n"
          ]
        }
      ]
    },
    {
      "cell_type": "code",
      "source": [
        "np.ones((5,5))\n",
        "np.zeros((5,5))\n",
        "\n",
        "'''\n",
        "identity matrix\n",
        "  - square matrix : same no of rows and columns\n",
        "  - only diagonal elements are one\n",
        "  - rest of the elements are zero\n",
        "\n",
        "Ex: 1 0 \n",
        "    0 1\n",
        "\n",
        "    1 0 0\n",
        "    0 1 0\n",
        "    0 0 1\n",
        "\n",
        "'''\n",
        "\n",
        "np.identity(5)\n"
      ],
      "metadata": {
        "id": "sLj2yS4xHwVV"
      },
      "execution_count": null,
      "outputs": []
    },
    {
      "cell_type": "code",
      "source": [
        "#explore\n",
        "x = ny.random.randint(1, 26, size=(5,5))\n",
        "print(x)\n",
        "\n",
        "x[x[:, -2] >=10] = 2000\n",
        "print(x)"
      ],
      "metadata": {
        "id": "92Ff8GtfJzE-",
        "colab": {
          "base_uri": "https://localhost:8080/"
        },
        "outputId": "bec9526c-8489-4978-9102-000c11d8daea"
      },
      "execution_count": null,
      "outputs": [
        {
          "output_type": "stream",
          "name": "stdout",
          "text": [
            "[[22 24 17 24  4]\n",
            " [21 12 20  6 23]\n",
            " [15 10 22  6  5]\n",
            " [22  2  2 24 12]\n",
            " [ 1  3  6  4  4]]\n",
            "[[2000 2000 2000 2000 2000]\n",
            " [  21   12   20    6   23]\n",
            " [  15   10   22    6    5]\n",
            " [2000 2000 2000 2000 2000]\n",
            " [   1    3    6    4    4]]\n"
          ]
        }
      ]
    },
    {
      "cell_type": "code",
      "source": [
        "#mean\n",
        "#sum\n",
        "#std\n",
        "#var\n",
        "x = np.random.randint(1, 26, size=(5,5))\n",
        "print(x)\n",
        "print(x.sum()) #sum all elements in the array\n",
        "print(x.mean())\n",
        "\n",
        "print(x.sum(axis=0))  #sum along the rows\n",
        "print(x.sum(axis=1)) #sum along the colmns\n",
        "\n",
        "print(x.mean(axis=0))  #sum along the rows\n",
        "print(x.mean(axis=1)) #sum along the colmns\n",
        "\n",
        "print(x.std(axis=0))  #sum along the rows\n",
        "print(x.std(axis=1)) #sum along the colmns\n"
      ],
      "metadata": {
        "colab": {
          "base_uri": "https://localhost:8080/"
        },
        "id": "GwDNTPpuMUsD",
        "outputId": "093d5f96-71d2-4435-f370-bb210d89c6e8"
      },
      "execution_count": null,
      "outputs": [
        {
          "output_type": "stream",
          "name": "stdout",
          "text": [
            "[[ 6 17 17  3 14]\n",
            " [19 23  9 12 17]\n",
            " [21  7 24  1  6]\n",
            " [12 14 17  6  2]\n",
            " [ 7  6 12 12  1]]\n",
            "285\n",
            "11.4\n",
            "[65 67 79 34 40]\n",
            "[57 80 59 51 38]\n",
            "[13.  13.4 15.8  6.8  8. ]\n",
            "[11.4 16.  11.8 10.2  7.6]\n",
            "[6.09918027 6.34350061 5.11468474 4.53431362 6.41872261]\n",
            "[5.81721583 4.97995984 9.01997783 5.45527268 4.12795349]\n"
          ]
        }
      ]
    }
  ]
}