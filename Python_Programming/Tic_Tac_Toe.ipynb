{
  "nbformat": 4,
  "nbformat_minor": 0,
  "metadata": {
    "colab": {
      "name": "Tic-Tac-Toe.ipynb",
      "provenance": []
    },
    "kernelspec": {
      "name": "python3",
      "display_name": "Python 3"
    },
    "language_info": {
      "name": "python"
    }
  },
  "cells": [
    {
      "cell_type": "code",
      "execution_count": 1,
      "metadata": {
        "id": "DcBqM0U9EwAr"
      },
      "outputs": [],
      "source": [
        "import numpy as np\n",
        "from IPython.display import clear_output\n",
        "\n",
        "def play():\n",
        "  g_row = np.array([['','',''] ,['','',''] ,['','','']])\n",
        "  count = 0\n",
        "  #0 meaning it's not their turn, 1 meaning it's their turn\n",
        "  won = False\n",
        "  X_player = 0\n",
        "  Y_player = 1\n",
        "  while(won==False):\n",
        "    clear_output(wait=True)\n",
        "    print(g_row)\n",
        "  \n",
        "    if(X_player==1):\n",
        "      print(\"Player X turn\")\n",
        "      row = int(input(\"what row would you like to place?\"))\n",
        "      col = int(input(\"what column would you like to place?\"))\n",
        "      while(row<0 or row>2):\n",
        "        row = int(input(\"Out of index: pick 0-2\"))\n",
        "        col = int(input(\"Out of index: pick 0-2\"))\n",
        "      while(g_row[row][col]!=''):\n",
        "        row = int(input(\"That row is filled: pick a different number\"))\n",
        "        col = int(input(\"That column is filled: pick a different number\"))\n",
        "      g_row[row][col] += 'X'\n",
        "      count += 1\n",
        "      X_player = 0\n",
        "      Y_player = 1\n",
        "\n",
        "    else:\n",
        "      print(\"Player Y turn\")\n",
        "      row = int(input(\"what row would you like to place?\"))\n",
        "      col = int(input(\"what column would you like to place?\"))\n",
        "      while(row<0 or row>2):\n",
        "        row = int(input(\"Out of index: pick 0-2\"))\n",
        "        col = int(input(\"Out of index: pick 0-2\"))\n",
        "      while(g_row[row][col]!=''):\n",
        "        row = int(input(\"That row is filled: pick a different number\"))\n",
        "        col = int(input(\"That column is filled: pick a different number\"))\n",
        "      g_row[row][col] += 'Y'\n",
        "      count += 1\n",
        "      X_player = 1\n",
        "      Y_player = 0\n",
        "\n",
        "    #cases\n",
        "    if(g_row[0][0]==g_row[0][1]==g_row[0][2] and g_row[0][0]!=''and g_row[0][1]!=''and g_row[0][2]!=''):\n",
        "      won = True\n",
        "    elif(g_row[1][0]==g_row[1][1]==g_row[1][2]and g_row[1][0]!=''and g_row[1][1]!=''and g_row[1][0]!=''):\n",
        "      won = True\n",
        "    elif(g_row[2][0]==g_row[2][1]==g_row[2][2]and g_row[2][0]!=''and g_row[2][1]!=''and g_row[2][2]!=''):\n",
        "      won = True\n",
        "    elif(g_row[0][0]==g_row[1][0]==g_row[2][0]and g_row[0][0]!=''and g_row[1][0]!=''and g_row[2][0]!=''):\n",
        "      won = True\n",
        "    elif(g_row[0][1]==g_row[1][1]==g_row[2][1]and g_row[0][1]!=''and g_row[1][1]!=''and g_row[2][1]!=''):\n",
        "      won= True\n",
        "    elif(g_row[0][2]==g_row[1][2]==g_row[2][2]and g_row[0][2]!=''and g_row[1][2]!=''and g_row[2][2]!=''):\n",
        "      won = True\n",
        "    elif(g_row[0][0]==g_row[1][1]==g_row[2][2]and g_row[0][0]!=''and g_row[1][1]!=''and g_row[2][2]!=''):\n",
        "      won = True\n",
        "    elif(g_row[2][0]==g_row[1][1]==g_row[0][2]and g_row[2][0]!=''and g_row[1][1]!=''and g_row[2][0]!=''):\n",
        "      won = True\n",
        "    else:\n",
        "      won = False\n",
        "  print(g_row)\n",
        "  if(X_player==0):\n",
        "    print(\"X_player won!\")\n",
        "  if(Y_player==0):\n",
        "    print(\"Y_player won!\")\n",
        "  if(count==9):\n",
        "    print(\"Draw!\")"
      ]
    },
    {
      "cell_type": "code",
      "source": [
        "play()"
      ],
      "metadata": {
        "colab": {
          "base_uri": "https://localhost:8080/"
        },
        "id": "SybWWQFqA7pF",
        "outputId": "79d21916-d26c-4b0e-f4ad-4f020304546e"
      },
      "execution_count": 2,
      "outputs": [
        {
          "output_type": "stream",
          "name": "stdout",
          "text": [
            "[['Y' '' 'X']\n",
            " ['' '' '']\n",
            " ['Y' '' 'X']]\n",
            "Player Y turn\n",
            "what row would you like to place?1\n",
            "what column would you like to place?0\n",
            "[['Y' '' 'X']\n",
            " ['Y' '' '']\n",
            " ['Y' '' 'X']]\n",
            "Y_player won!\n"
          ]
        }
      ]
    }
  ]
}
