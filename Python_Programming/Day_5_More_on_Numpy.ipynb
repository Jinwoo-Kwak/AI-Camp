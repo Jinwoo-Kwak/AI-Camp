{
  "nbformat": 4,
  "nbformat_minor": 0,
  "metadata": {
    "colab": {
      "name": "Day_5_More_on_Numpy.ipynb",
      "provenance": [],
      "collapsed_sections": []
    },
    "kernelspec": {
      "name": "python3",
      "display_name": "Python 3"
    },
    "language_info": {
      "name": "python"
    }
  },
  "cells": [
    {
      "cell_type": "code",
      "execution_count": null,
      "metadata": {
        "id": "AH1HAhaIJ5te"
      },
      "outputs": [],
      "source": [
        "#Contd. Numpy\n",
        "#   - copy\n",
        "#   - boolean arrays\n",
        "#   - Matrix operations\n",
        "#   - vectors operations\n",
        "\n",
        "#python\n",
        "#   - class, class variables, class functions in python"
      ]
    },
    {
      "cell_type": "code",
      "source": [
        "# https://docs.python.org/3/library/copy.html\n",
        "import numpy as np\n",
        "\n",
        "a = np.random.randint(10,23,size=(4,4))\n",
        "\n",
        "print(\"A = \", a)\n",
        "b = a\n",
        "print(\"B = \", b)\n",
        "b[0][0] = -12121\n",
        "\n",
        "print(\"after A = \", a)\n",
        "print(\"after B = \", b)\n",
        "\n",
        "\n",
        "#\n",
        "c = a.copy()\n",
        "print(\"C = \", c)\n",
        "c[0][0] = -21\n",
        "print(\"after C = \", c)\n",
        "print(\"Second after A = \", a)"
      ],
      "metadata": {
        "id": "W7FHPAbcNkFN"
      },
      "execution_count": null,
      "outputs": []
    },
    {
      "cell_type": "code",
      "source": [
        "\n",
        "\n",
        "B = np.array([True, False, True, False])\n",
        "print(B)\n",
        "\n",
        "B == False\n",
        "\n",
        "a = np.arange(10)\n",
        "print(a)\n",
        "\n",
        "a >= 5\n",
        "\n",
        "a[a >= 5 ] = -1\n",
        "print(a)\n",
        "\n",
        "a[a < a.mean()] = -1\n",
        "print(a)\n",
        "\n",
        "\n",
        "a[(a == -1) | (a==2)] = 0\n",
        "print(a)"
      ],
      "metadata": {
        "id": "j2IRPkryP-c5"
      },
      "execution_count": null,
      "outputs": []
    },
    {
      "cell_type": "code",
      "source": [
        "a = np.random.randint(10,23,size=(4,4))\n",
        "b =  np.random.randint(10,23,size=(4,3))\n",
        "\n",
        "\n",
        "print(a)\n",
        "print(b)\n",
        "\n",
        "print(a + b)\n",
        "print(a - b)\n",
        "\n",
        "\n"
      ],
      "metadata": {
        "id": "UMahC1HXRVkS"
      },
      "execution_count": null,
      "outputs": []
    },
    {
      "cell_type": "code",
      "source": [
        "x = np.random.randint(10,23,size=(2,2))\n",
        "y =  np.random.randint(10,23,size=(2,2))\n",
        "\n",
        "print(x)\n",
        "print(y)\n",
        "\n",
        "print(x * y)\n",
        "\n",
        "\n",
        "print(x.T)\n",
        "print(y.T)"
      ],
      "metadata": {
        "id": "x1bC7LWiSKnJ"
      },
      "execution_count": null,
      "outputs": []
    },
    {
      "cell_type": "code",
      "source": [
        "x = np.random.randint(10,83,size=(2,2))\n",
        "y =  np.random.randint(10,23,size=(2,2))\n",
        "\n",
        "#commutative  x * y == y * x   no\n",
        "print(x * y)\n",
        "print(y * x)\n",
        "\n",
        "print(x.dot(y))\n",
        "\n",
        "#aasociative x * ( y * z) = (x * y) *z  no"
      ],
      "metadata": {
        "colab": {
          "base_uri": "https://localhost:8080/"
        },
        "id": "VKPGc9K2TC29",
        "outputId": "de16dfd3-be7f-44a9-9dbe-4f4b297555b0"
      },
      "execution_count": null,
      "outputs": [
        {
          "output_type": "stream",
          "name": "stdout",
          "text": [
            "[[ 924 1168]\n",
            " [ 380  392]]\n",
            "[[ 924 1168]\n",
            " [ 380  392]]\n",
            "[[2311 1694]\n",
            " [ 972  712]]\n"
          ]
        }
      ]
    },
    {
      "cell_type": "code",
      "source": [
        "x = np.random.randint(10,83,size=(2,3))\n",
        "y =  np.random.randint(10,23,size=(3,2))\n",
        "\n",
        "#Please go through numpy docs, google it and explain each of these functions\n",
        "\n",
        "# print(x * y)\n",
        "# print(y * x) \n",
        "# Above operations does the elementwise multiplication\n",
        "\n",
        "#Below 3 operatiosn are the actual matrix multiplication [high school math]\n",
        "print(x.dot(y))\n",
        "print(y.dot(x))\n",
        "\n",
        "print(x @ y)\n",
        "print(y @ x)\n",
        "\n",
        "print(np.matmul(x, y))\n",
        "print(np.matmul(y, x))\n"
      ],
      "metadata": {
        "id": "9KKd6U9RTpWP"
      },
      "execution_count": null,
      "outputs": []
    },
    {
      "cell_type": "code",
      "source": [
        "#Vector\n",
        "#Notes and HW excercise"
      ],
      "metadata": {
        "id": "DlkEBYDZWuLS"
      },
      "execution_count": null,
      "outputs": []
    },
    {
      "cell_type": "code",
      "source": [
        ""
      ],
      "metadata": {
        "id": "ive_w0Y7PQcH"
      },
      "execution_count": null,
      "outputs": []
    },
    {
      "cell_type": "markdown",
      "source": [
        "Python class and objects"
      ],
      "metadata": {
        "id": "ZcQ4NWF-QLsQ"
      }
    },
    {
      "cell_type": "code",
      "source": [
        "class cal():\n",
        "\n",
        "  def __init__(self,a,b):\n",
        "    self.a=a\n",
        "    self.b=b\n",
        "\n",
        "  def addition(self):\n",
        "    return self.a+self.b\n",
        "\n",
        "  def subtraction(self):\n",
        "    return self.a-self.b\n",
        "\n",
        "  def division (self):\n",
        "    return self.a/self.b  \n",
        "\n",
        "  def multiplication (self):\n",
        "    return self.a*self.b    "
      ],
      "metadata": {
        "id": "RPFVN10tQPrH"
      },
      "execution_count": null,
      "outputs": []
    },
    {
      "cell_type": "code",
      "source": [
        "a = int(input(\"give me a: \"))\n",
        "b = int(input(\"give me b: \"))"
      ],
      "metadata": {
        "colab": {
          "base_uri": "https://localhost:8080/"
        },
        "id": "dGqhf2hkTILR",
        "outputId": "04f8a33b-d2d8-4101-88a7-aeae82a747de"
      },
      "execution_count": null,
      "outputs": [
        {
          "name": "stdout",
          "output_type": "stream",
          "text": [
            "give me a: 2\n",
            "give me b: 4\n"
          ]
        }
      ]
    },
    {
      "cell_type": "code",
      "source": [
        "initialising_class = cal(a,b)\n"
      ],
      "metadata": {
        "id": "rwRQf9FJS_RB"
      },
      "execution_count": null,
      "outputs": []
    },
    {
      "cell_type": "code",
      "source": [
        "initialising_class.subtraction()"
      ],
      "metadata": {
        "colab": {
          "base_uri": "https://localhost:8080/"
        },
        "id": "_uCaazrgTWQg",
        "outputId": "9a0f1479-5efe-4eab-cfc6-da890f2e565a"
      },
      "execution_count": null,
      "outputs": [
        {
          "output_type": "execute_result",
          "data": {
            "text/plain": [
              "6"
            ]
          },
          "metadata": {},
          "execution_count": 6
        }
      ]
    },
    {
      "cell_type": "code",
      "source": [
        "initialising_class.addition()"
      ],
      "metadata": {
        "colab": {
          "base_uri": "https://localhost:8080/"
        },
        "id": "e0KbJ7ebToRJ",
        "outputId": "c487993f-25cb-4a3a-9160-cc4b1604a3c4"
      },
      "execution_count": null,
      "outputs": [
        {
          "output_type": "execute_result",
          "data": {
            "text/plain": [
              "6"
            ]
          },
          "metadata": {},
          "execution_count": 7
        }
      ]
    },
    {
      "cell_type": "code",
      "source": [
        "initialising_class.division()"
      ],
      "metadata": {
        "colab": {
          "base_uri": "https://localhost:8080/"
        },
        "id": "137-jGIPTs05",
        "outputId": "0e7de96d-5cc5-4228-94e7-fc7faa26c1f0"
      },
      "execution_count": null,
      "outputs": [
        {
          "output_type": "execute_result",
          "data": {
            "text/plain": [
              "0.5"
            ]
          },
          "metadata": {},
          "execution_count": 8
        }
      ]
    },
    {
      "cell_type": "code",
      "source": [
        "initialising_class.multiplication()"
      ],
      "metadata": {
        "colab": {
          "base_uri": "https://localhost:8080/"
        },
        "id": "t8UdN5-zTzdp",
        "outputId": "92783a30-5bf1-48e1-f55b-67514d91c903"
      },
      "execution_count": null,
      "outputs": [
        {
          "output_type": "execute_result",
          "data": {
            "text/plain": [
              "8"
            ]
          },
          "metadata": {},
          "execution_count": 9
        }
      ]
    },
    {
      "cell_type": "code",
      "source": [
        "def additionnnnn(a,b):\n",
        "  return a+b"
      ],
      "metadata": {
        "id": "JfxpdhbmT1kp"
      },
      "execution_count": null,
      "outputs": []
    },
    {
      "cell_type": "code",
      "source": [
        "additionnnnn(2,4)"
      ],
      "metadata": {
        "colab": {
          "base_uri": "https://localhost:8080/"
        },
        "id": "BMSleAkNUDtr",
        "outputId": "78a74cd2-abec-4a3b-e5cc-44ff2ea28388"
      },
      "execution_count": null,
      "outputs": [
        {
          "output_type": "execute_result",
          "data": {
            "text/plain": [
              "6"
            ]
          },
          "metadata": {},
          "execution_count": 11
        }
      ]
    },
    {
      "cell_type": "code",
      "source": [
        ""
      ],
      "metadata": {
        "id": "VzG3h1ynUFyp"
      },
      "execution_count": null,
      "outputs": []
    }
  ]
}