{
  "nbformat": 4,
  "nbformat_minor": 0,
  "metadata": {
    "colab": {
      "name": "Week2_Day1_Intro_to_pandas.ipynb",
      "provenance": [],
      "collapsed_sections": []
    },
    "kernelspec": {
      "name": "python3",
      "display_name": "Python 3"
    },
    "language_info": {
      "name": "python"
    }
  },
  "cells": [
    {
      "cell_type": "code",
      "execution_count": null,
      "metadata": {
        "id": "eYJNgDoaoxRc"
      },
      "outputs": [],
      "source": [
        "#pandas\n",
        "#  - series : ordered sequence of elements\n",
        "#  - dataframe : multiple series/ rows& columns and combinations\n",
        "\n",
        "# Operations: create, name, index, slicing, maths, ...\n",
        "\n",
        "#Ref:\n",
        "# https://pandas.pydata.org/\n",
        "# https://pandas.pydata.org/docs/user_guide/index.html\n",
        "# https://pandas.pydata.org/docs/reference/index.html\n",
        "\n",
        "\n",
        "import pandas as pd\n",
        "import numpy as np"
      ]
    },
    {
      "cell_type": "code",
      "source": [
        "scores = pd.Series([43, 54, 12, 86, 98, 24, 78, 97, 54])\n",
        "\n",
        "lt = [23, 32,234,23,23,23]\n",
        "\n",
        "print(lt)\n",
        "print(scores)"
      ],
      "metadata": {
        "colab": {
          "base_uri": "https://localhost:8080/"
        },
        "id": "AF1V8p89TB4H",
        "outputId": "762a32f6-f8d0-47d7-8ce8-ed36a55a087e"
      },
      "execution_count": null,
      "outputs": [
        {
          "output_type": "stream",
          "name": "stdout",
          "text": [
            "[23, 32, 234, 23, 23, 23]\n",
            "0    43\n",
            "1    54\n",
            "2    12\n",
            "3    86\n",
            "4    98\n",
            "5    24\n",
            "6    78\n",
            "7    97\n",
            "8    54\n",
            "dtype: int64\n"
          ]
        }
      ]
    },
    {
      "cell_type": "code",
      "source": [
        "scores.name = \"Scores of student\"\n",
        "print(scores)"
      ],
      "metadata": {
        "colab": {
          "base_uri": "https://localhost:8080/"
        },
        "id": "ZbdMWF2wVEPI",
        "outputId": "b8ad7992-c104-4fd8-b88f-17375827cc8b"
      },
      "execution_count": null,
      "outputs": [
        {
          "output_type": "stream",
          "name": "stdout",
          "text": [
            "0    43\n",
            "1    54\n",
            "2    12\n",
            "3    86\n",
            "4    98\n",
            "5    24\n",
            "6    78\n",
            "7    97\n",
            "8    54\n",
            "Name: Scores of student, dtype: int64\n"
          ]
        }
      ]
    },
    {
      "cell_type": "code",
      "source": [
        "scores[1]\n",
        "\n",
        "#doesnt work  scores[-1]  \n",
        "\n",
        "scores[:]  #works\n",
        "\n",
        "scores[1:5]\n",
        "\n",
        "scores.values"
      ],
      "metadata": {
        "colab": {
          "base_uri": "https://localhost:8080/"
        },
        "id": "D2tJkF42VWbZ",
        "outputId": "56a44407-196c-4917-e293-fdd88caa202b"
      },
      "execution_count": null,
      "outputs": [
        {
          "output_type": "execute_result",
          "data": {
            "text/plain": [
              "array([43, 54, 12, 86, 98, 24, 78, 97, 54])"
            ]
          },
          "metadata": {},
          "execution_count": 167
        }
      ]
    },
    {
      "cell_type": "code",
      "source": [
        "scores\n",
        "\n",
        "scores.index = ['A', 'B', \"C\", 'D', 'E', 'F', 'G', \"H\", 'I']\n",
        "\n",
        "print(scores)\n",
        "\n",
        "print(scores['F'])\n",
        "print(scores[:])\n",
        "print(scores['B':'G'])"
      ],
      "metadata": {
        "colab": {
          "base_uri": "https://localhost:8080/"
        },
        "id": "kkr9jK2WV_8T",
        "outputId": "cf485b3b-87ce-475e-81ad-33dbd5fa2b85"
      },
      "execution_count": null,
      "outputs": [
        {
          "output_type": "stream",
          "name": "stdout",
          "text": [
            "A    43\n",
            "B    54\n",
            "C    12\n",
            "D    86\n",
            "E    98\n",
            "F    24\n",
            "G    78\n",
            "H    97\n",
            "I    54\n",
            "Name: Scores of student, dtype: int64\n",
            "24\n",
            "A    43\n",
            "B    54\n",
            "C    12\n",
            "D    86\n",
            "E    98\n",
            "F    24\n",
            "G    78\n",
            "H    97\n",
            "I    54\n",
            "Name: Scores of student, dtype: int64\n",
            "B    54\n",
            "C    12\n",
            "D    86\n",
            "E    98\n",
            "F    24\n",
            "G    78\n",
            "Name: Scores of student, dtype: int64\n"
          ]
        }
      ]
    },
    {
      "cell_type": "code",
      "source": [
        "dummy_scores = pd.Series([1, 2, 5, 8, 21], index=['qw', 'we', 'er', 'rt', 'ty'])\n",
        "\n",
        "print(dummy_scores)\n",
        "print(dummy_scores['rt'])"
      ],
      "metadata": {
        "colab": {
          "base_uri": "https://localhost:8080/"
        },
        "id": "pBkStAhjWqIf",
        "outputId": "3f01a133-2b15-4be1-e55e-a831ded209bd"
      },
      "execution_count": null,
      "outputs": [
        {
          "output_type": "stream",
          "name": "stdout",
          "text": [
            "qw     1\n",
            "we     2\n",
            "er     5\n",
            "rt     8\n",
            "ty    21\n",
            "dtype: int64\n",
            "8\n"
          ]
        }
      ]
    },
    {
      "cell_type": "code",
      "source": [
        "\n",
        "scores.iloc[0]\n",
        "\n",
        "scores.iloc[:]\n",
        "scores.iloc[-1]\n",
        "\n",
        "scores.iloc[-4: -1]\n",
        "\n",
        "\n",
        "scores[['A', \"B\"]]"
      ],
      "metadata": {
        "colab": {
          "base_uri": "https://localhost:8080/"
        },
        "id": "KSxVX8QZXXWZ",
        "outputId": "38c466bd-e2bc-4e43-fd2e-2a86fb7fa108"
      },
      "execution_count": null,
      "outputs": [
        {
          "output_type": "execute_result",
          "data": {
            "text/plain": [
              "A    43\n",
              "B    54\n",
              "Name: Scores of student, dtype: int64"
            ]
          },
          "metadata": {},
          "execution_count": 170
        }
      ]
    },
    {
      "cell_type": "code",
      "source": [
        "scores > 50  #Boolean array\n",
        "\n",
        "scores[scores > 50]\n",
        "\n",
        "scores.mean()\n",
        "scores.std()\n",
        "\n",
        "scores[scores > scores.mean()]"
      ],
      "metadata": {
        "colab": {
          "base_uri": "https://localhost:8080/"
        },
        "id": "lPDRiSf3YSNj",
        "outputId": "0c1ad25f-5240-4a0f-c1d7-cb6f52e2a344"
      },
      "execution_count": null,
      "outputs": [
        {
          "output_type": "execute_result",
          "data": {
            "text/plain": [
              "D    86\n",
              "E    98\n",
              "G    78\n",
              "H    97\n",
              "Name: Scores of student, dtype: int64"
            ]
          },
          "metadata": {},
          "execution_count": 171
        }
      ]
    },
    {
      "cell_type": "code",
      "source": [
        "scores + 10\n",
        "scores - 10\n"
      ],
      "metadata": {
        "colab": {
          "base_uri": "https://localhost:8080/"
        },
        "id": "cOfKngGnZF-t",
        "outputId": "d2e73a86-1f61-44a0-d0c0-a9ba41b407b3"
      },
      "execution_count": null,
      "outputs": [
        {
          "output_type": "execute_result",
          "data": {
            "text/plain": [
              "A    33\n",
              "B    44\n",
              "C     2\n",
              "D    76\n",
              "E    88\n",
              "F    14\n",
              "G    68\n",
              "H    87\n",
              "I    44\n",
              "Name: Scores of student, dtype: int64"
            ]
          },
          "metadata": {},
          "execution_count": 172
        }
      ]
    },
    {
      "cell_type": "code",
      "source": [
        "print(scores)\n",
        "\n",
        "scores['A'] = 70\n",
        "print(scores)\n",
        "\n",
        "scores.iloc[0]  = 80\n",
        "print(scores)"
      ],
      "metadata": {
        "colab": {
          "base_uri": "https://localhost:8080/"
        },
        "id": "fG47BjnAZx3v",
        "outputId": "dc6183ba-e6d9-4ba8-9fd8-650c07bba18d"
      },
      "execution_count": null,
      "outputs": [
        {
          "output_type": "stream",
          "name": "stdout",
          "text": [
            "A    43\n",
            "B    54\n",
            "C    12\n",
            "D    86\n",
            "E    98\n",
            "F    24\n",
            "G    78\n",
            "H    97\n",
            "I    54\n",
            "Name: Scores of student, dtype: int64\n",
            "A    70\n",
            "B    54\n",
            "C    12\n",
            "D    86\n",
            "E    98\n",
            "F    24\n",
            "G    78\n",
            "H    97\n",
            "I    54\n",
            "Name: Scores of student, dtype: int64\n",
            "A    80\n",
            "B    54\n",
            "C    12\n",
            "D    86\n",
            "E    98\n",
            "F    24\n",
            "G    78\n",
            "H    97\n",
            "I    54\n",
            "Name: Scores of student, dtype: int64\n"
          ]
        }
      ]
    },
    {
      "cell_type": "markdown",
      "source": [
        "###DATAFRAME\n"
      ],
      "metadata": {
        "id": "S_3JljmSfpd3"
      }
    },
    {
      "cell_type": "code",
      "source": [
        "from numpy.random import randn\n",
        "X = pd.DataFrame(randn(4, 4))\n",
        "\n",
        "print(X)\n",
        "\n",
        "print(X[0]) # prints 0th colmn\n",
        "print(X[3]) # prints 3rd colmn\n"
      ],
      "metadata": {
        "colab": {
          "base_uri": "https://localhost:8080/"
        },
        "id": "IvpJ2VTNlBOu",
        "outputId": "afe16fe0-c701-48f3-d962-63653683abc5"
      },
      "execution_count": null,
      "outputs": [
        {
          "output_type": "stream",
          "name": "stdout",
          "text": [
            "          0         1         2         3\n",
            "0 -0.397392 -0.288050  0.154080  0.888934\n",
            "1 -0.534000  0.495975 -0.746673  0.205994\n",
            "2 -0.144732  1.070207 -1.212839  0.042365\n",
            "3  0.817083 -0.449432  0.112583 -2.018115\n",
            "0   -0.397392\n",
            "1   -0.534000\n",
            "2   -0.144732\n",
            "3    0.817083\n",
            "Name: 0, dtype: float64\n",
            "0    0.888934\n",
            "1    0.205994\n",
            "2    0.042365\n",
            "3   -2.018115\n",
            "Name: 3, dtype: float64\n"
          ]
        }
      ]
    },
    {
      "cell_type": "code",
      "source": [
        "\n",
        "print(X.iloc[1])"
      ],
      "metadata": {
        "colab": {
          "base_uri": "https://localhost:8080/"
        },
        "id": "d0jpE21qmh42",
        "outputId": "3cb67618-fe19-4f11-bf45-4803615e0bf5"
      },
      "execution_count": null,
      "outputs": [
        {
          "output_type": "stream",
          "name": "stdout",
          "text": [
            "0   -0.534000\n",
            "1    0.495975\n",
            "2   -0.746673\n",
            "3    0.205994\n",
            "Name: 1, dtype: float64\n"
          ]
        }
      ]
    },
    {
      "cell_type": "code",
      "source": [
        "print(X.iloc[:, 2:])"
      ],
      "metadata": {
        "colab": {
          "base_uri": "https://localhost:8080/"
        },
        "id": "FKWk4ZdzmpHl",
        "outputId": "32e0fc3d-ab1a-4836-eb68-a07de10d8f70"
      },
      "execution_count": null,
      "outputs": [
        {
          "output_type": "stream",
          "name": "stdout",
          "text": [
            "          2         3\n",
            "0  0.154080  0.888934\n",
            "1 -0.746673  0.205994\n",
            "2 -1.212839  0.042365\n",
            "3  0.112583 -2.018115\n"
          ]
        }
      ]
    },
    {
      "cell_type": "code",
      "source": [
        "X.index = ['a', 'b', 'c', 'd']\n",
        "X.columns = [1, 2, 3, 4]\n",
        "\n",
        "print(X)"
      ],
      "metadata": {
        "colab": {
          "base_uri": "https://localhost:8080/"
        },
        "id": "dy4jBstem9L2",
        "outputId": "7e5c012e-da12-4dfb-b591-17551439136c"
      },
      "execution_count": null,
      "outputs": [
        {
          "output_type": "stream",
          "name": "stdout",
          "text": [
            "          1         2         3         4\n",
            "a -0.397392 -0.288050  0.154080  0.888934\n",
            "b -0.534000  0.495975 -0.746673  0.205994\n",
            "c -0.144732  1.070207 -1.212839  0.042365\n",
            "d  0.817083 -0.449432  0.112583 -2.018115\n"
          ]
        }
      ]
    },
    {
      "cell_type": "code",
      "source": [
        "#column access\n",
        "X[1]\n",
        "X[4]\n",
        "\n",
        "\n",
        "#rows access\n",
        "X.loc['a']\n",
        "X.iloc[1]"
      ],
      "metadata": {
        "colab": {
          "base_uri": "https://localhost:8080/"
        },
        "id": "7NBvZeWGnMsN",
        "outputId": "5f894273-811e-4b52-a3ca-54a3d915961a"
      },
      "execution_count": null,
      "outputs": [
        {
          "output_type": "execute_result",
          "data": {
            "text/plain": [
              "1   -0.534000\n",
              "2    0.495975\n",
              "3   -0.746673\n",
              "4    0.205994\n",
              "Name: b, dtype: float64"
            ]
          },
          "metadata": {},
          "execution_count": 178
        }
      ]
    },
    {
      "cell_type": "code",
      "source": [
        "X[[1, 3]]\n",
        "X[:]\n",
        "\n",
        "X.loc[['a', 'c']]\n",
        "\n",
        "\n",
        "print(X.iloc[1:3])\n",
        "print(X.loc['b':'d'])\n"
      ],
      "metadata": {
        "colab": {
          "base_uri": "https://localhost:8080/"
        },
        "id": "meNUOqg-ot8X",
        "outputId": "0715ebf7-61ec-44fb-c9bf-3218e4636ce7"
      },
      "execution_count": null,
      "outputs": [
        {
          "output_type": "stream",
          "name": "stdout",
          "text": [
            "          1         2         3         4\n",
            "b -0.534000  0.495975 -0.746673  0.205994\n",
            "c -0.144732  1.070207 -1.212839  0.042365\n",
            "          1         2         3         4\n",
            "b -0.534000  0.495975 -0.746673  0.205994\n",
            "c -0.144732  1.070207 -1.212839  0.042365\n",
            "d  0.817083 -0.449432  0.112583 -2.018115\n"
          ]
        }
      ]
    },
    {
      "cell_type": "code",
      "source": [
        "print(X)\n",
        "#X[0:2, :]   Error\n",
        "# X['a':'b', 1:3]  Error\n",
        "\n",
        "\n",
        "X.loc['b':'c', 1:2]\n",
        "X.iloc[0:2, 1:2]"
      ],
      "metadata": {
        "colab": {
          "base_uri": "https://localhost:8080/",
          "height": 199
        },
        "id": "7DXX_UTzsfJx",
        "outputId": "28c3e9b9-47aa-4f52-8508-ba47a6e7b2ea"
      },
      "execution_count": null,
      "outputs": [
        {
          "output_type": "stream",
          "name": "stdout",
          "text": [
            "          1         2         3         4\n",
            "a -0.397392 -0.288050  0.154080  0.888934\n",
            "b -0.534000  0.495975 -0.746673  0.205994\n",
            "c -0.144732  1.070207 -1.212839  0.042365\n",
            "d  0.817083 -0.449432  0.112583 -2.018115\n"
          ]
        },
        {
          "output_type": "execute_result",
          "data": {
            "text/plain": [
              "          2\n",
              "a -0.288050\n",
              "b  0.495975"
            ],
            "text/html": [
              "\n",
              "  <div id=\"df-7c76e13d-f6d3-43a8-b14c-d965b3c7e622\">\n",
              "    <div class=\"colab-df-container\">\n",
              "      <div>\n",
              "<style scoped>\n",
              "    .dataframe tbody tr th:only-of-type {\n",
              "        vertical-align: middle;\n",
              "    }\n",
              "\n",
              "    .dataframe tbody tr th {\n",
              "        vertical-align: top;\n",
              "    }\n",
              "\n",
              "    .dataframe thead th {\n",
              "        text-align: right;\n",
              "    }\n",
              "</style>\n",
              "<table border=\"1\" class=\"dataframe\">\n",
              "  <thead>\n",
              "    <tr style=\"text-align: right;\">\n",
              "      <th></th>\n",
              "      <th>2</th>\n",
              "    </tr>\n",
              "  </thead>\n",
              "  <tbody>\n",
              "    <tr>\n",
              "      <th>a</th>\n",
              "      <td>-0.288050</td>\n",
              "    </tr>\n",
              "    <tr>\n",
              "      <th>b</th>\n",
              "      <td>0.495975</td>\n",
              "    </tr>\n",
              "  </tbody>\n",
              "</table>\n",
              "</div>\n",
              "      <button class=\"colab-df-convert\" onclick=\"convertToInteractive('df-7c76e13d-f6d3-43a8-b14c-d965b3c7e622')\"\n",
              "              title=\"Convert this dataframe to an interactive table.\"\n",
              "              style=\"display:none;\">\n",
              "        \n",
              "  <svg xmlns=\"http://www.w3.org/2000/svg\" height=\"24px\"viewBox=\"0 0 24 24\"\n",
              "       width=\"24px\">\n",
              "    <path d=\"M0 0h24v24H0V0z\" fill=\"none\"/>\n",
              "    <path d=\"M18.56 5.44l.94 2.06.94-2.06 2.06-.94-2.06-.94-.94-2.06-.94 2.06-2.06.94zm-11 1L8.5 8.5l.94-2.06 2.06-.94-2.06-.94L8.5 2.5l-.94 2.06-2.06.94zm10 10l.94 2.06.94-2.06 2.06-.94-2.06-.94-.94-2.06-.94 2.06-2.06.94z\"/><path d=\"M17.41 7.96l-1.37-1.37c-.4-.4-.92-.59-1.43-.59-.52 0-1.04.2-1.43.59L10.3 9.45l-7.72 7.72c-.78.78-.78 2.05 0 2.83L4 21.41c.39.39.9.59 1.41.59.51 0 1.02-.2 1.41-.59l7.78-7.78 2.81-2.81c.8-.78.8-2.07 0-2.86zM5.41 20L4 18.59l7.72-7.72 1.47 1.35L5.41 20z\"/>\n",
              "  </svg>\n",
              "      </button>\n",
              "      \n",
              "  <style>\n",
              "    .colab-df-container {\n",
              "      display:flex;\n",
              "      flex-wrap:wrap;\n",
              "      gap: 12px;\n",
              "    }\n",
              "\n",
              "    .colab-df-convert {\n",
              "      background-color: #E8F0FE;\n",
              "      border: none;\n",
              "      border-radius: 50%;\n",
              "      cursor: pointer;\n",
              "      display: none;\n",
              "      fill: #1967D2;\n",
              "      height: 32px;\n",
              "      padding: 0 0 0 0;\n",
              "      width: 32px;\n",
              "    }\n",
              "\n",
              "    .colab-df-convert:hover {\n",
              "      background-color: #E2EBFA;\n",
              "      box-shadow: 0px 1px 2px rgba(60, 64, 67, 0.3), 0px 1px 3px 1px rgba(60, 64, 67, 0.15);\n",
              "      fill: #174EA6;\n",
              "    }\n",
              "\n",
              "    [theme=dark] .colab-df-convert {\n",
              "      background-color: #3B4455;\n",
              "      fill: #D2E3FC;\n",
              "    }\n",
              "\n",
              "    [theme=dark] .colab-df-convert:hover {\n",
              "      background-color: #434B5C;\n",
              "      box-shadow: 0px 1px 3px 1px rgba(0, 0, 0, 0.15);\n",
              "      filter: drop-shadow(0px 1px 2px rgba(0, 0, 0, 0.3));\n",
              "      fill: #FFFFFF;\n",
              "    }\n",
              "  </style>\n",
              "\n",
              "      <script>\n",
              "        const buttonEl =\n",
              "          document.querySelector('#df-7c76e13d-f6d3-43a8-b14c-d965b3c7e622 button.colab-df-convert');\n",
              "        buttonEl.style.display =\n",
              "          google.colab.kernel.accessAllowed ? 'block' : 'none';\n",
              "\n",
              "        async function convertToInteractive(key) {\n",
              "          const element = document.querySelector('#df-7c76e13d-f6d3-43a8-b14c-d965b3c7e622');\n",
              "          const dataTable =\n",
              "            await google.colab.kernel.invokeFunction('convertToInteractive',\n",
              "                                                     [key], {});\n",
              "          if (!dataTable) return;\n",
              "\n",
              "          const docLinkHtml = 'Like what you see? Visit the ' +\n",
              "            '<a target=\"_blank\" href=https://colab.research.google.com/notebooks/data_table.ipynb>data table notebook</a>'\n",
              "            + ' to learn more about interactive tables.';\n",
              "          element.innerHTML = '';\n",
              "          dataTable['output_type'] = 'display_data';\n",
              "          await google.colab.output.renderOutput(dataTable, element);\n",
              "          const docLink = document.createElement('div');\n",
              "          docLink.innerHTML = docLinkHtml;\n",
              "          element.appendChild(docLink);\n",
              "        }\n",
              "      </script>\n",
              "    </div>\n",
              "  </div>\n",
              "  "
            ]
          },
          "metadata": {},
          "execution_count": 180
        }
      ]
    },
    {
      "cell_type": "code",
      "source": [
        "X.index\n",
        "X.columns\n",
        "\n",
        "X.info\n",
        "X.describe()\n",
        "\n",
        "X.size\n",
        "X.shape\n",
        "\n",
        "Y = pd.DataFrame(randn(5, 4))\n",
        "Y.shape"
      ],
      "metadata": {
        "colab": {
          "base_uri": "https://localhost:8080/"
        },
        "id": "VoVY6OY4pcy3",
        "outputId": "b23f9c8d-5982-4cbf-da2d-202cba43067d"
      },
      "execution_count": null,
      "outputs": [
        {
          "output_type": "execute_result",
          "data": {
            "text/plain": [
              "(5, 4)"
            ]
          },
          "metadata": {},
          "execution_count": 181
        }
      ]
    },
    {
      "cell_type": "code",
      "source": [
        "Y['new_column'] = [1, 2, 3, 4, 5]\n",
        "print(Y)"
      ],
      "metadata": {
        "colab": {
          "base_uri": "https://localhost:8080/"
        },
        "id": "XGsqkcjVqbnh",
        "outputId": "07e8f930-841d-4e30-e89c-fb6b0f431ab2"
      },
      "execution_count": null,
      "outputs": [
        {
          "output_type": "stream",
          "name": "stdout",
          "text": [
            "          0         1         2         3  new_column\n",
            "0 -1.368191  2.127063 -1.080858  0.254344           1\n",
            "1 -0.013746  0.501653 -1.219227  0.356413           2\n",
            "2  0.031002  1.197490 -0.829757  0.536222           3\n",
            "3  0.071773  0.302917  0.885764  1.387415           4\n",
            "4  1.059917  0.175959 -0.946269  0.307395           5\n"
          ]
        }
      ]
    },
    {
      "cell_type": "code",
      "source": [
        "X.iloc[2] > X.mean(axis=0)"
      ],
      "metadata": {
        "colab": {
          "base_uri": "https://localhost:8080/"
        },
        "id": "OlobYmnwsar3",
        "outputId": "96f20b45-69c2-4373-c244-182178188308"
      },
      "execution_count": null,
      "outputs": [
        {
          "output_type": "execute_result",
          "data": {
            "text/plain": [
              "1    False\n",
              "2     True\n",
              "3    False\n",
              "4     True\n",
              "dtype: bool"
            ]
          },
          "metadata": {},
          "execution_count": 183
        }
      ]
    },
    {
      "cell_type": "code",
      "source": [
        "print(X)\n",
        "X[5] = [1, 2, 3, 4 ]\n",
        "\n"
      ],
      "metadata": {
        "colab": {
          "base_uri": "https://localhost:8080/"
        },
        "id": "2KkkbOOOuw5y",
        "outputId": "21426e7c-c509-4c93-90f3-ab087b73771c"
      },
      "execution_count": null,
      "outputs": [
        {
          "output_type": "stream",
          "name": "stdout",
          "text": [
            "          1         2         3         4\n",
            "a -0.397392 -0.288050  0.154080  0.888934\n",
            "b -0.534000  0.495975 -0.746673  0.205994\n",
            "c -0.144732  1.070207 -1.212839  0.042365\n",
            "d  0.817083 -0.449432  0.112583 -2.018115\n"
          ]
        }
      ]
    },
    {
      "cell_type": "code",
      "source": [
        "#dictionary in python\n",
        "# Ref: https://www.w3schools.com/python/python_dictionaries.asp\n",
        "\n",
        "dt = {1: 'Nagasundar', 2: 'Ram', 'Q' : 123412}\n",
        "dt['Q'] = 'wqqw'\n",
        "print(dt)"
      ],
      "metadata": {
        "colab": {
          "base_uri": "https://localhost:8080/"
        },
        "id": "0revcAmlvsL7",
        "outputId": "894dadd5-4255-47e8-83f7-d0366cd66961"
      },
      "execution_count": null,
      "outputs": [
        {
          "output_type": "stream",
          "name": "stdout",
          "text": [
            "{1: 'Nagasundar', 2: 'Ram', 'Q': 'wqqw'}\n"
          ]
        }
      ]
    },
    {
      "cell_type": "code",
      "source": [
        "# Add a column to dataframe - single, multiple\n",
        "# Add a row from dataframe - single, multiple\n",
        "# drop a row from dataframe - single, multiple\n",
        "# drop a column from dataframe - single, multiple\n",
        "\n",
        "X = pd.DataFrame(randn(6, 6))\n",
        "X"
      ],
      "metadata": {
        "colab": {
          "base_uri": "https://localhost:8080/",
          "height": 237
        },
        "id": "O5QYHX50wqZq",
        "outputId": "934f3956-5b08-487a-9752-ebedc0e30178"
      },
      "execution_count": null,
      "outputs": [
        {
          "output_type": "execute_result",
          "data": {
            "text/plain": [
              "          0         1         2         3         4         5\n",
              "0  0.055368  1.892162  0.195860 -1.342070  0.369782 -0.952356\n",
              "1  0.392104 -0.868364  1.713019 -0.252692  0.899454  1.134498\n",
              "2  1.775740  0.121275 -0.038958  0.557633  0.053133 -1.228516\n",
              "3  0.384472  1.040855 -0.534750  1.052187 -0.093194  0.519593\n",
              "4 -0.665988 -0.822377  0.345487 -0.321227  0.285916  1.988650\n",
              "5 -0.894517 -0.703438  1.315402  1.114672 -2.084141 -0.126547"
            ],
            "text/html": [
              "\n",
              "  <div id=\"df-e1839c39-96fa-4c6c-ba75-8ae19a4d4e49\">\n",
              "    <div class=\"colab-df-container\">\n",
              "      <div>\n",
              "<style scoped>\n",
              "    .dataframe tbody tr th:only-of-type {\n",
              "        vertical-align: middle;\n",
              "    }\n",
              "\n",
              "    .dataframe tbody tr th {\n",
              "        vertical-align: top;\n",
              "    }\n",
              "\n",
              "    .dataframe thead th {\n",
              "        text-align: right;\n",
              "    }\n",
              "</style>\n",
              "<table border=\"1\" class=\"dataframe\">\n",
              "  <thead>\n",
              "    <tr style=\"text-align: right;\">\n",
              "      <th></th>\n",
              "      <th>0</th>\n",
              "      <th>1</th>\n",
              "      <th>2</th>\n",
              "      <th>3</th>\n",
              "      <th>4</th>\n",
              "      <th>5</th>\n",
              "    </tr>\n",
              "  </thead>\n",
              "  <tbody>\n",
              "    <tr>\n",
              "      <th>0</th>\n",
              "      <td>0.055368</td>\n",
              "      <td>1.892162</td>\n",
              "      <td>0.195860</td>\n",
              "      <td>-1.342070</td>\n",
              "      <td>0.369782</td>\n",
              "      <td>-0.952356</td>\n",
              "    </tr>\n",
              "    <tr>\n",
              "      <th>1</th>\n",
              "      <td>0.392104</td>\n",
              "      <td>-0.868364</td>\n",
              "      <td>1.713019</td>\n",
              "      <td>-0.252692</td>\n",
              "      <td>0.899454</td>\n",
              "      <td>1.134498</td>\n",
              "    </tr>\n",
              "    <tr>\n",
              "      <th>2</th>\n",
              "      <td>1.775740</td>\n",
              "      <td>0.121275</td>\n",
              "      <td>-0.038958</td>\n",
              "      <td>0.557633</td>\n",
              "      <td>0.053133</td>\n",
              "      <td>-1.228516</td>\n",
              "    </tr>\n",
              "    <tr>\n",
              "      <th>3</th>\n",
              "      <td>0.384472</td>\n",
              "      <td>1.040855</td>\n",
              "      <td>-0.534750</td>\n",
              "      <td>1.052187</td>\n",
              "      <td>-0.093194</td>\n",
              "      <td>0.519593</td>\n",
              "    </tr>\n",
              "    <tr>\n",
              "      <th>4</th>\n",
              "      <td>-0.665988</td>\n",
              "      <td>-0.822377</td>\n",
              "      <td>0.345487</td>\n",
              "      <td>-0.321227</td>\n",
              "      <td>0.285916</td>\n",
              "      <td>1.988650</td>\n",
              "    </tr>\n",
              "    <tr>\n",
              "      <th>5</th>\n",
              "      <td>-0.894517</td>\n",
              "      <td>-0.703438</td>\n",
              "      <td>1.315402</td>\n",
              "      <td>1.114672</td>\n",
              "      <td>-2.084141</td>\n",
              "      <td>-0.126547</td>\n",
              "    </tr>\n",
              "  </tbody>\n",
              "</table>\n",
              "</div>\n",
              "      <button class=\"colab-df-convert\" onclick=\"convertToInteractive('df-e1839c39-96fa-4c6c-ba75-8ae19a4d4e49')\"\n",
              "              title=\"Convert this dataframe to an interactive table.\"\n",
              "              style=\"display:none;\">\n",
              "        \n",
              "  <svg xmlns=\"http://www.w3.org/2000/svg\" height=\"24px\"viewBox=\"0 0 24 24\"\n",
              "       width=\"24px\">\n",
              "    <path d=\"M0 0h24v24H0V0z\" fill=\"none\"/>\n",
              "    <path d=\"M18.56 5.44l.94 2.06.94-2.06 2.06-.94-2.06-.94-.94-2.06-.94 2.06-2.06.94zm-11 1L8.5 8.5l.94-2.06 2.06-.94-2.06-.94L8.5 2.5l-.94 2.06-2.06.94zm10 10l.94 2.06.94-2.06 2.06-.94-2.06-.94-.94-2.06-.94 2.06-2.06.94z\"/><path d=\"M17.41 7.96l-1.37-1.37c-.4-.4-.92-.59-1.43-.59-.52 0-1.04.2-1.43.59L10.3 9.45l-7.72 7.72c-.78.78-.78 2.05 0 2.83L4 21.41c.39.39.9.59 1.41.59.51 0 1.02-.2 1.41-.59l7.78-7.78 2.81-2.81c.8-.78.8-2.07 0-2.86zM5.41 20L4 18.59l7.72-7.72 1.47 1.35L5.41 20z\"/>\n",
              "  </svg>\n",
              "      </button>\n",
              "      \n",
              "  <style>\n",
              "    .colab-df-container {\n",
              "      display:flex;\n",
              "      flex-wrap:wrap;\n",
              "      gap: 12px;\n",
              "    }\n",
              "\n",
              "    .colab-df-convert {\n",
              "      background-color: #E8F0FE;\n",
              "      border: none;\n",
              "      border-radius: 50%;\n",
              "      cursor: pointer;\n",
              "      display: none;\n",
              "      fill: #1967D2;\n",
              "      height: 32px;\n",
              "      padding: 0 0 0 0;\n",
              "      width: 32px;\n",
              "    }\n",
              "\n",
              "    .colab-df-convert:hover {\n",
              "      background-color: #E2EBFA;\n",
              "      box-shadow: 0px 1px 2px rgba(60, 64, 67, 0.3), 0px 1px 3px 1px rgba(60, 64, 67, 0.15);\n",
              "      fill: #174EA6;\n",
              "    }\n",
              "\n",
              "    [theme=dark] .colab-df-convert {\n",
              "      background-color: #3B4455;\n",
              "      fill: #D2E3FC;\n",
              "    }\n",
              "\n",
              "    [theme=dark] .colab-df-convert:hover {\n",
              "      background-color: #434B5C;\n",
              "      box-shadow: 0px 1px 3px 1px rgba(0, 0, 0, 0.15);\n",
              "      filter: drop-shadow(0px 1px 2px rgba(0, 0, 0, 0.3));\n",
              "      fill: #FFFFFF;\n",
              "    }\n",
              "  </style>\n",
              "\n",
              "      <script>\n",
              "        const buttonEl =\n",
              "          document.querySelector('#df-e1839c39-96fa-4c6c-ba75-8ae19a4d4e49 button.colab-df-convert');\n",
              "        buttonEl.style.display =\n",
              "          google.colab.kernel.accessAllowed ? 'block' : 'none';\n",
              "\n",
              "        async function convertToInteractive(key) {\n",
              "          const element = document.querySelector('#df-e1839c39-96fa-4c6c-ba75-8ae19a4d4e49');\n",
              "          const dataTable =\n",
              "            await google.colab.kernel.invokeFunction('convertToInteractive',\n",
              "                                                     [key], {});\n",
              "          if (!dataTable) return;\n",
              "\n",
              "          const docLinkHtml = 'Like what you see? Visit the ' +\n",
              "            '<a target=\"_blank\" href=https://colab.research.google.com/notebooks/data_table.ipynb>data table notebook</a>'\n",
              "            + ' to learn more about interactive tables.';\n",
              "          element.innerHTML = '';\n",
              "          dataTable['output_type'] = 'display_data';\n",
              "          await google.colab.output.renderOutput(dataTable, element);\n",
              "          const docLink = document.createElement('div');\n",
              "          docLink.innerHTML = docLinkHtml;\n",
              "          element.appendChild(docLink);\n",
              "        }\n",
              "      </script>\n",
              "    </div>\n",
              "  </div>\n",
              "  "
            ]
          },
          "metadata": {},
          "execution_count": 186
        }
      ]
    },
    {
      "cell_type": "code",
      "source": [
        "X.insert(6,\"6\", [1,2,3,4,5,6])"
      ],
      "metadata": {
        "id": "w9agSyseyO3B"
      },
      "execution_count": null,
      "outputs": []
    },
    {
      "cell_type": "code",
      "source": [
        "for i in range(2):\n",
        "  X.insert(i, str(i)+'a', [1,2,3,4,5,6])"
      ],
      "metadata": {
        "id": "OcLlVVLXy7yL"
      },
      "execution_count": null,
      "outputs": []
    },
    {
      "cell_type": "code",
      "source": [
        "X.loc[len(X.index)] =[11,12,13,14,15,16,17,18,19]"
      ],
      "metadata": {
        "id": "FJ5ytbAH0eGq"
      },
      "execution_count": null,
      "outputs": []
    },
    {
      "cell_type": "code",
      "source": [
        "X = X.append([{0: 1, 1: 2, 2: 3, 3: 4, 4: 5, 5: 6}, {0: 2, 1: 4, 2: 6, 3: 8, 4: 10, 5: 12}], ignore_index=True)\n",
        "print(X)"
      ],
      "metadata": {
        "colab": {
          "base_uri": "https://localhost:8080/"
        },
        "id": "uYqGOXTy1Hw0",
        "outputId": "049dc410-90a1-4024-9c32-57e8602e8bbc"
      },
      "execution_count": null,
      "outputs": [
        {
          "output_type": "stream",
          "name": "stdout",
          "text": [
            "     0a    1a          0          1          2          3          4  \\\n",
            "0   1.0   1.0   0.055368   1.892162   0.195860  -1.342070   0.369782   \n",
            "1   2.0   2.0   0.392104  -0.868364   1.713019  -0.252692   0.899454   \n",
            "2   3.0   3.0   1.775740   0.121275  -0.038958   0.557633   0.053133   \n",
            "3   4.0   4.0   0.384472   1.040855  -0.534750   1.052187  -0.093194   \n",
            "4   5.0   5.0  -0.665988  -0.822377   0.345487  -0.321227   0.285916   \n",
            "5   6.0   6.0  -0.894517  -0.703438   1.315402   1.114672  -2.084141   \n",
            "6  11.0  12.0  13.000000  14.000000  15.000000  16.000000  17.000000   \n",
            "7   NaN   NaN   1.000000   2.000000   3.000000   4.000000   5.000000   \n",
            "8   NaN   NaN   2.000000   4.000000   6.000000   8.000000  10.000000   \n",
            "\n",
            "           5     6  \n",
            "0  -0.952356   1.0  \n",
            "1   1.134498   2.0  \n",
            "2  -1.228516   3.0  \n",
            "3   0.519593   4.0  \n",
            "4   1.988650   5.0  \n",
            "5  -0.126547   6.0  \n",
            "6  18.000000  19.0  \n",
            "7   6.000000   NaN  \n",
            "8  12.000000   NaN  \n"
          ]
        }
      ]
    },
    {
      "cell_type": "code",
      "source": [
        "X.drop(columns=[0])"
      ],
      "metadata": {
        "colab": {
          "base_uri": "https://localhost:8080/",
          "height": 332
        },
        "id": "ClGmQKFD1-rI",
        "outputId": "acee93bf-daf6-44de-f22a-29e93c7aa5d6"
      },
      "execution_count": null,
      "outputs": [
        {
          "output_type": "execute_result",
          "data": {
            "text/plain": [
              "     0a    1a          1          2          3          4          5     6\n",
              "0   1.0   1.0   1.892162   0.195860  -1.342070   0.369782  -0.952356   1.0\n",
              "1   2.0   2.0  -0.868364   1.713019  -0.252692   0.899454   1.134498   2.0\n",
              "2   3.0   3.0   0.121275  -0.038958   0.557633   0.053133  -1.228516   3.0\n",
              "3   4.0   4.0   1.040855  -0.534750   1.052187  -0.093194   0.519593   4.0\n",
              "4   5.0   5.0  -0.822377   0.345487  -0.321227   0.285916   1.988650   5.0\n",
              "5   6.0   6.0  -0.703438   1.315402   1.114672  -2.084141  -0.126547   6.0\n",
              "6  11.0  12.0  14.000000  15.000000  16.000000  17.000000  18.000000  19.0\n",
              "7   NaN   NaN   2.000000   3.000000   4.000000   5.000000   6.000000   NaN\n",
              "8   NaN   NaN   4.000000   6.000000   8.000000  10.000000  12.000000   NaN"
            ],
            "text/html": [
              "\n",
              "  <div id=\"df-a22acb41-3131-4c2c-a5bc-02f925de5c55\">\n",
              "    <div class=\"colab-df-container\">\n",
              "      <div>\n",
              "<style scoped>\n",
              "    .dataframe tbody tr th:only-of-type {\n",
              "        vertical-align: middle;\n",
              "    }\n",
              "\n",
              "    .dataframe tbody tr th {\n",
              "        vertical-align: top;\n",
              "    }\n",
              "\n",
              "    .dataframe thead th {\n",
              "        text-align: right;\n",
              "    }\n",
              "</style>\n",
              "<table border=\"1\" class=\"dataframe\">\n",
              "  <thead>\n",
              "    <tr style=\"text-align: right;\">\n",
              "      <th></th>\n",
              "      <th>0a</th>\n",
              "      <th>1a</th>\n",
              "      <th>1</th>\n",
              "      <th>2</th>\n",
              "      <th>3</th>\n",
              "      <th>4</th>\n",
              "      <th>5</th>\n",
              "      <th>6</th>\n",
              "    </tr>\n",
              "  </thead>\n",
              "  <tbody>\n",
              "    <tr>\n",
              "      <th>0</th>\n",
              "      <td>1.0</td>\n",
              "      <td>1.0</td>\n",
              "      <td>1.892162</td>\n",
              "      <td>0.195860</td>\n",
              "      <td>-1.342070</td>\n",
              "      <td>0.369782</td>\n",
              "      <td>-0.952356</td>\n",
              "      <td>1.0</td>\n",
              "    </tr>\n",
              "    <tr>\n",
              "      <th>1</th>\n",
              "      <td>2.0</td>\n",
              "      <td>2.0</td>\n",
              "      <td>-0.868364</td>\n",
              "      <td>1.713019</td>\n",
              "      <td>-0.252692</td>\n",
              "      <td>0.899454</td>\n",
              "      <td>1.134498</td>\n",
              "      <td>2.0</td>\n",
              "    </tr>\n",
              "    <tr>\n",
              "      <th>2</th>\n",
              "      <td>3.0</td>\n",
              "      <td>3.0</td>\n",
              "      <td>0.121275</td>\n",
              "      <td>-0.038958</td>\n",
              "      <td>0.557633</td>\n",
              "      <td>0.053133</td>\n",
              "      <td>-1.228516</td>\n",
              "      <td>3.0</td>\n",
              "    </tr>\n",
              "    <tr>\n",
              "      <th>3</th>\n",
              "      <td>4.0</td>\n",
              "      <td>4.0</td>\n",
              "      <td>1.040855</td>\n",
              "      <td>-0.534750</td>\n",
              "      <td>1.052187</td>\n",
              "      <td>-0.093194</td>\n",
              "      <td>0.519593</td>\n",
              "      <td>4.0</td>\n",
              "    </tr>\n",
              "    <tr>\n",
              "      <th>4</th>\n",
              "      <td>5.0</td>\n",
              "      <td>5.0</td>\n",
              "      <td>-0.822377</td>\n",
              "      <td>0.345487</td>\n",
              "      <td>-0.321227</td>\n",
              "      <td>0.285916</td>\n",
              "      <td>1.988650</td>\n",
              "      <td>5.0</td>\n",
              "    </tr>\n",
              "    <tr>\n",
              "      <th>5</th>\n",
              "      <td>6.0</td>\n",
              "      <td>6.0</td>\n",
              "      <td>-0.703438</td>\n",
              "      <td>1.315402</td>\n",
              "      <td>1.114672</td>\n",
              "      <td>-2.084141</td>\n",
              "      <td>-0.126547</td>\n",
              "      <td>6.0</td>\n",
              "    </tr>\n",
              "    <tr>\n",
              "      <th>6</th>\n",
              "      <td>11.0</td>\n",
              "      <td>12.0</td>\n",
              "      <td>14.000000</td>\n",
              "      <td>15.000000</td>\n",
              "      <td>16.000000</td>\n",
              "      <td>17.000000</td>\n",
              "      <td>18.000000</td>\n",
              "      <td>19.0</td>\n",
              "    </tr>\n",
              "    <tr>\n",
              "      <th>7</th>\n",
              "      <td>NaN</td>\n",
              "      <td>NaN</td>\n",
              "      <td>2.000000</td>\n",
              "      <td>3.000000</td>\n",
              "      <td>4.000000</td>\n",
              "      <td>5.000000</td>\n",
              "      <td>6.000000</td>\n",
              "      <td>NaN</td>\n",
              "    </tr>\n",
              "    <tr>\n",
              "      <th>8</th>\n",
              "      <td>NaN</td>\n",
              "      <td>NaN</td>\n",
              "      <td>4.000000</td>\n",
              "      <td>6.000000</td>\n",
              "      <td>8.000000</td>\n",
              "      <td>10.000000</td>\n",
              "      <td>12.000000</td>\n",
              "      <td>NaN</td>\n",
              "    </tr>\n",
              "  </tbody>\n",
              "</table>\n",
              "</div>\n",
              "      <button class=\"colab-df-convert\" onclick=\"convertToInteractive('df-a22acb41-3131-4c2c-a5bc-02f925de5c55')\"\n",
              "              title=\"Convert this dataframe to an interactive table.\"\n",
              "              style=\"display:none;\">\n",
              "        \n",
              "  <svg xmlns=\"http://www.w3.org/2000/svg\" height=\"24px\"viewBox=\"0 0 24 24\"\n",
              "       width=\"24px\">\n",
              "    <path d=\"M0 0h24v24H0V0z\" fill=\"none\"/>\n",
              "    <path d=\"M18.56 5.44l.94 2.06.94-2.06 2.06-.94-2.06-.94-.94-2.06-.94 2.06-2.06.94zm-11 1L8.5 8.5l.94-2.06 2.06-.94-2.06-.94L8.5 2.5l-.94 2.06-2.06.94zm10 10l.94 2.06.94-2.06 2.06-.94-2.06-.94-.94-2.06-.94 2.06-2.06.94z\"/><path d=\"M17.41 7.96l-1.37-1.37c-.4-.4-.92-.59-1.43-.59-.52 0-1.04.2-1.43.59L10.3 9.45l-7.72 7.72c-.78.78-.78 2.05 0 2.83L4 21.41c.39.39.9.59 1.41.59.51 0 1.02-.2 1.41-.59l7.78-7.78 2.81-2.81c.8-.78.8-2.07 0-2.86zM5.41 20L4 18.59l7.72-7.72 1.47 1.35L5.41 20z\"/>\n",
              "  </svg>\n",
              "      </button>\n",
              "      \n",
              "  <style>\n",
              "    .colab-df-container {\n",
              "      display:flex;\n",
              "      flex-wrap:wrap;\n",
              "      gap: 12px;\n",
              "    }\n",
              "\n",
              "    .colab-df-convert {\n",
              "      background-color: #E8F0FE;\n",
              "      border: none;\n",
              "      border-radius: 50%;\n",
              "      cursor: pointer;\n",
              "      display: none;\n",
              "      fill: #1967D2;\n",
              "      height: 32px;\n",
              "      padding: 0 0 0 0;\n",
              "      width: 32px;\n",
              "    }\n",
              "\n",
              "    .colab-df-convert:hover {\n",
              "      background-color: #E2EBFA;\n",
              "      box-shadow: 0px 1px 2px rgba(60, 64, 67, 0.3), 0px 1px 3px 1px rgba(60, 64, 67, 0.15);\n",
              "      fill: #174EA6;\n",
              "    }\n",
              "\n",
              "    [theme=dark] .colab-df-convert {\n",
              "      background-color: #3B4455;\n",
              "      fill: #D2E3FC;\n",
              "    }\n",
              "\n",
              "    [theme=dark] .colab-df-convert:hover {\n",
              "      background-color: #434B5C;\n",
              "      box-shadow: 0px 1px 3px 1px rgba(0, 0, 0, 0.15);\n",
              "      filter: drop-shadow(0px 1px 2px rgba(0, 0, 0, 0.3));\n",
              "      fill: #FFFFFF;\n",
              "    }\n",
              "  </style>\n",
              "\n",
              "      <script>\n",
              "        const buttonEl =\n",
              "          document.querySelector('#df-a22acb41-3131-4c2c-a5bc-02f925de5c55 button.colab-df-convert');\n",
              "        buttonEl.style.display =\n",
              "          google.colab.kernel.accessAllowed ? 'block' : 'none';\n",
              "\n",
              "        async function convertToInteractive(key) {\n",
              "          const element = document.querySelector('#df-a22acb41-3131-4c2c-a5bc-02f925de5c55');\n",
              "          const dataTable =\n",
              "            await google.colab.kernel.invokeFunction('convertToInteractive',\n",
              "                                                     [key], {});\n",
              "          if (!dataTable) return;\n",
              "\n",
              "          const docLinkHtml = 'Like what you see? Visit the ' +\n",
              "            '<a target=\"_blank\" href=https://colab.research.google.com/notebooks/data_table.ipynb>data table notebook</a>'\n",
              "            + ' to learn more about interactive tables.';\n",
              "          element.innerHTML = '';\n",
              "          dataTable['output_type'] = 'display_data';\n",
              "          await google.colab.output.renderOutput(dataTable, element);\n",
              "          const docLink = document.createElement('div');\n",
              "          docLink.innerHTML = docLinkHtml;\n",
              "          element.appendChild(docLink);\n",
              "        }\n",
              "      </script>\n",
              "    </div>\n",
              "  </div>\n",
              "  "
            ]
          },
          "metadata": {},
          "execution_count": 191
        }
      ]
    },
    {
      "cell_type": "code",
      "source": [
        "X.drop(['0a',1],axis=1)"
      ],
      "metadata": {
        "colab": {
          "base_uri": "https://localhost:8080/",
          "height": 332
        },
        "id": "WC560VUG2fca",
        "outputId": "3d086364-df9e-41dd-96b1-1aab5fbbdef6"
      },
      "execution_count": null,
      "outputs": [
        {
          "output_type": "execute_result",
          "data": {
            "text/plain": [
              "     1a          0          2          3          4          5     6\n",
              "0   1.0   0.055368   0.195860  -1.342070   0.369782  -0.952356   1.0\n",
              "1   2.0   0.392104   1.713019  -0.252692   0.899454   1.134498   2.0\n",
              "2   3.0   1.775740  -0.038958   0.557633   0.053133  -1.228516   3.0\n",
              "3   4.0   0.384472  -0.534750   1.052187  -0.093194   0.519593   4.0\n",
              "4   5.0  -0.665988   0.345487  -0.321227   0.285916   1.988650   5.0\n",
              "5   6.0  -0.894517   1.315402   1.114672  -2.084141  -0.126547   6.0\n",
              "6  12.0  13.000000  15.000000  16.000000  17.000000  18.000000  19.0\n",
              "7   NaN   1.000000   3.000000   4.000000   5.000000   6.000000   NaN\n",
              "8   NaN   2.000000   6.000000   8.000000  10.000000  12.000000   NaN"
            ],
            "text/html": [
              "\n",
              "  <div id=\"df-7aa05b82-5d6e-4a4c-b11d-643fd3ec8b20\">\n",
              "    <div class=\"colab-df-container\">\n",
              "      <div>\n",
              "<style scoped>\n",
              "    .dataframe tbody tr th:only-of-type {\n",
              "        vertical-align: middle;\n",
              "    }\n",
              "\n",
              "    .dataframe tbody tr th {\n",
              "        vertical-align: top;\n",
              "    }\n",
              "\n",
              "    .dataframe thead th {\n",
              "        text-align: right;\n",
              "    }\n",
              "</style>\n",
              "<table border=\"1\" class=\"dataframe\">\n",
              "  <thead>\n",
              "    <tr style=\"text-align: right;\">\n",
              "      <th></th>\n",
              "      <th>1a</th>\n",
              "      <th>0</th>\n",
              "      <th>2</th>\n",
              "      <th>3</th>\n",
              "      <th>4</th>\n",
              "      <th>5</th>\n",
              "      <th>6</th>\n",
              "    </tr>\n",
              "  </thead>\n",
              "  <tbody>\n",
              "    <tr>\n",
              "      <th>0</th>\n",
              "      <td>1.0</td>\n",
              "      <td>0.055368</td>\n",
              "      <td>0.195860</td>\n",
              "      <td>-1.342070</td>\n",
              "      <td>0.369782</td>\n",
              "      <td>-0.952356</td>\n",
              "      <td>1.0</td>\n",
              "    </tr>\n",
              "    <tr>\n",
              "      <th>1</th>\n",
              "      <td>2.0</td>\n",
              "      <td>0.392104</td>\n",
              "      <td>1.713019</td>\n",
              "      <td>-0.252692</td>\n",
              "      <td>0.899454</td>\n",
              "      <td>1.134498</td>\n",
              "      <td>2.0</td>\n",
              "    </tr>\n",
              "    <tr>\n",
              "      <th>2</th>\n",
              "      <td>3.0</td>\n",
              "      <td>1.775740</td>\n",
              "      <td>-0.038958</td>\n",
              "      <td>0.557633</td>\n",
              "      <td>0.053133</td>\n",
              "      <td>-1.228516</td>\n",
              "      <td>3.0</td>\n",
              "    </tr>\n",
              "    <tr>\n",
              "      <th>3</th>\n",
              "      <td>4.0</td>\n",
              "      <td>0.384472</td>\n",
              "      <td>-0.534750</td>\n",
              "      <td>1.052187</td>\n",
              "      <td>-0.093194</td>\n",
              "      <td>0.519593</td>\n",
              "      <td>4.0</td>\n",
              "    </tr>\n",
              "    <tr>\n",
              "      <th>4</th>\n",
              "      <td>5.0</td>\n",
              "      <td>-0.665988</td>\n",
              "      <td>0.345487</td>\n",
              "      <td>-0.321227</td>\n",
              "      <td>0.285916</td>\n",
              "      <td>1.988650</td>\n",
              "      <td>5.0</td>\n",
              "    </tr>\n",
              "    <tr>\n",
              "      <th>5</th>\n",
              "      <td>6.0</td>\n",
              "      <td>-0.894517</td>\n",
              "      <td>1.315402</td>\n",
              "      <td>1.114672</td>\n",
              "      <td>-2.084141</td>\n",
              "      <td>-0.126547</td>\n",
              "      <td>6.0</td>\n",
              "    </tr>\n",
              "    <tr>\n",
              "      <th>6</th>\n",
              "      <td>12.0</td>\n",
              "      <td>13.000000</td>\n",
              "      <td>15.000000</td>\n",
              "      <td>16.000000</td>\n",
              "      <td>17.000000</td>\n",
              "      <td>18.000000</td>\n",
              "      <td>19.0</td>\n",
              "    </tr>\n",
              "    <tr>\n",
              "      <th>7</th>\n",
              "      <td>NaN</td>\n",
              "      <td>1.000000</td>\n",
              "      <td>3.000000</td>\n",
              "      <td>4.000000</td>\n",
              "      <td>5.000000</td>\n",
              "      <td>6.000000</td>\n",
              "      <td>NaN</td>\n",
              "    </tr>\n",
              "    <tr>\n",
              "      <th>8</th>\n",
              "      <td>NaN</td>\n",
              "      <td>2.000000</td>\n",
              "      <td>6.000000</td>\n",
              "      <td>8.000000</td>\n",
              "      <td>10.000000</td>\n",
              "      <td>12.000000</td>\n",
              "      <td>NaN</td>\n",
              "    </tr>\n",
              "  </tbody>\n",
              "</table>\n",
              "</div>\n",
              "      <button class=\"colab-df-convert\" onclick=\"convertToInteractive('df-7aa05b82-5d6e-4a4c-b11d-643fd3ec8b20')\"\n",
              "              title=\"Convert this dataframe to an interactive table.\"\n",
              "              style=\"display:none;\">\n",
              "        \n",
              "  <svg xmlns=\"http://www.w3.org/2000/svg\" height=\"24px\"viewBox=\"0 0 24 24\"\n",
              "       width=\"24px\">\n",
              "    <path d=\"M0 0h24v24H0V0z\" fill=\"none\"/>\n",
              "    <path d=\"M18.56 5.44l.94 2.06.94-2.06 2.06-.94-2.06-.94-.94-2.06-.94 2.06-2.06.94zm-11 1L8.5 8.5l.94-2.06 2.06-.94-2.06-.94L8.5 2.5l-.94 2.06-2.06.94zm10 10l.94 2.06.94-2.06 2.06-.94-2.06-.94-.94-2.06-.94 2.06-2.06.94z\"/><path d=\"M17.41 7.96l-1.37-1.37c-.4-.4-.92-.59-1.43-.59-.52 0-1.04.2-1.43.59L10.3 9.45l-7.72 7.72c-.78.78-.78 2.05 0 2.83L4 21.41c.39.39.9.59 1.41.59.51 0 1.02-.2 1.41-.59l7.78-7.78 2.81-2.81c.8-.78.8-2.07 0-2.86zM5.41 20L4 18.59l7.72-7.72 1.47 1.35L5.41 20z\"/>\n",
              "  </svg>\n",
              "      </button>\n",
              "      \n",
              "  <style>\n",
              "    .colab-df-container {\n",
              "      display:flex;\n",
              "      flex-wrap:wrap;\n",
              "      gap: 12px;\n",
              "    }\n",
              "\n",
              "    .colab-df-convert {\n",
              "      background-color: #E8F0FE;\n",
              "      border: none;\n",
              "      border-radius: 50%;\n",
              "      cursor: pointer;\n",
              "      display: none;\n",
              "      fill: #1967D2;\n",
              "      height: 32px;\n",
              "      padding: 0 0 0 0;\n",
              "      width: 32px;\n",
              "    }\n",
              "\n",
              "    .colab-df-convert:hover {\n",
              "      background-color: #E2EBFA;\n",
              "      box-shadow: 0px 1px 2px rgba(60, 64, 67, 0.3), 0px 1px 3px 1px rgba(60, 64, 67, 0.15);\n",
              "      fill: #174EA6;\n",
              "    }\n",
              "\n",
              "    [theme=dark] .colab-df-convert {\n",
              "      background-color: #3B4455;\n",
              "      fill: #D2E3FC;\n",
              "    }\n",
              "\n",
              "    [theme=dark] .colab-df-convert:hover {\n",
              "      background-color: #434B5C;\n",
              "      box-shadow: 0px 1px 3px 1px rgba(0, 0, 0, 0.15);\n",
              "      filter: drop-shadow(0px 1px 2px rgba(0, 0, 0, 0.3));\n",
              "      fill: #FFFFFF;\n",
              "    }\n",
              "  </style>\n",
              "\n",
              "      <script>\n",
              "        const buttonEl =\n",
              "          document.querySelector('#df-7aa05b82-5d6e-4a4c-b11d-643fd3ec8b20 button.colab-df-convert');\n",
              "        buttonEl.style.display =\n",
              "          google.colab.kernel.accessAllowed ? 'block' : 'none';\n",
              "\n",
              "        async function convertToInteractive(key) {\n",
              "          const element = document.querySelector('#df-7aa05b82-5d6e-4a4c-b11d-643fd3ec8b20');\n",
              "          const dataTable =\n",
              "            await google.colab.kernel.invokeFunction('convertToInteractive',\n",
              "                                                     [key], {});\n",
              "          if (!dataTable) return;\n",
              "\n",
              "          const docLinkHtml = 'Like what you see? Visit the ' +\n",
              "            '<a target=\"_blank\" href=https://colab.research.google.com/notebooks/data_table.ipynb>data table notebook</a>'\n",
              "            + ' to learn more about interactive tables.';\n",
              "          element.innerHTML = '';\n",
              "          dataTable['output_type'] = 'display_data';\n",
              "          await google.colab.output.renderOutput(dataTable, element);\n",
              "          const docLink = document.createElement('div');\n",
              "          docLink.innerHTML = docLinkHtml;\n",
              "          element.appendChild(docLink);\n",
              "        }\n",
              "      </script>\n",
              "    </div>\n",
              "  </div>\n",
              "  "
            ]
          },
          "metadata": {},
          "execution_count": 192
        }
      ]
    },
    {
      "cell_type": "code",
      "source": [
        "X = X.drop(4)\n",
        "print(X)"
      ],
      "metadata": {
        "colab": {
          "base_uri": "https://localhost:8080/"
        },
        "id": "a6mSfyfo2ztD",
        "outputId": "935ef1f9-f816-4c8b-c184-13d552de8de2"
      },
      "execution_count": null,
      "outputs": [
        {
          "output_type": "stream",
          "name": "stdout",
          "text": [
            "     0a    1a          0          1          2          3          4  \\\n",
            "0   1.0   1.0   0.055368   1.892162   0.195860  -1.342070   0.369782   \n",
            "1   2.0   2.0   0.392104  -0.868364   1.713019  -0.252692   0.899454   \n",
            "2   3.0   3.0   1.775740   0.121275  -0.038958   0.557633   0.053133   \n",
            "3   4.0   4.0   0.384472   1.040855  -0.534750   1.052187  -0.093194   \n",
            "5   6.0   6.0  -0.894517  -0.703438   1.315402   1.114672  -2.084141   \n",
            "6  11.0  12.0  13.000000  14.000000  15.000000  16.000000  17.000000   \n",
            "7   NaN   NaN   1.000000   2.000000   3.000000   4.000000   5.000000   \n",
            "8   NaN   NaN   2.000000   4.000000   6.000000   8.000000  10.000000   \n",
            "\n",
            "           5     6  \n",
            "0  -0.952356   1.0  \n",
            "1   1.134498   2.0  \n",
            "2  -1.228516   3.0  \n",
            "3   0.519593   4.0  \n",
            "5  -0.126547   6.0  \n",
            "6  18.000000  19.0  \n",
            "7   6.000000   NaN  \n",
            "8  12.000000   NaN  \n"
          ]
        }
      ]
    },
    {
      "cell_type": "code",
      "source": [
        "X.drop([0,2])"
      ],
      "metadata": {
        "colab": {
          "base_uri": "https://localhost:8080/",
          "height": 237
        },
        "id": "ueqGDbGd3SF0",
        "outputId": "6c54c7c1-f370-458d-82fe-6ea127e1be0b"
      },
      "execution_count": null,
      "outputs": [
        {
          "output_type": "execute_result",
          "data": {
            "text/plain": [
              "     0a    1a          0          1          2          3          4  \\\n",
              "1   2.0   2.0   0.392104  -0.868364   1.713019  -0.252692   0.899454   \n",
              "3   4.0   4.0   0.384472   1.040855  -0.534750   1.052187  -0.093194   \n",
              "5   6.0   6.0  -0.894517  -0.703438   1.315402   1.114672  -2.084141   \n",
              "6  11.0  12.0  13.000000  14.000000  15.000000  16.000000  17.000000   \n",
              "7   NaN   NaN   1.000000   2.000000   3.000000   4.000000   5.000000   \n",
              "8   NaN   NaN   2.000000   4.000000   6.000000   8.000000  10.000000   \n",
              "\n",
              "           5     6  \n",
              "1   1.134498   2.0  \n",
              "3   0.519593   4.0  \n",
              "5  -0.126547   6.0  \n",
              "6  18.000000  19.0  \n",
              "7   6.000000   NaN  \n",
              "8  12.000000   NaN  "
            ],
            "text/html": [
              "\n",
              "  <div id=\"df-3ce2cfde-c94e-45b9-aa2d-f9c66063b6c2\">\n",
              "    <div class=\"colab-df-container\">\n",
              "      <div>\n",
              "<style scoped>\n",
              "    .dataframe tbody tr th:only-of-type {\n",
              "        vertical-align: middle;\n",
              "    }\n",
              "\n",
              "    .dataframe tbody tr th {\n",
              "        vertical-align: top;\n",
              "    }\n",
              "\n",
              "    .dataframe thead th {\n",
              "        text-align: right;\n",
              "    }\n",
              "</style>\n",
              "<table border=\"1\" class=\"dataframe\">\n",
              "  <thead>\n",
              "    <tr style=\"text-align: right;\">\n",
              "      <th></th>\n",
              "      <th>0a</th>\n",
              "      <th>1a</th>\n",
              "      <th>0</th>\n",
              "      <th>1</th>\n",
              "      <th>2</th>\n",
              "      <th>3</th>\n",
              "      <th>4</th>\n",
              "      <th>5</th>\n",
              "      <th>6</th>\n",
              "    </tr>\n",
              "  </thead>\n",
              "  <tbody>\n",
              "    <tr>\n",
              "      <th>1</th>\n",
              "      <td>2.0</td>\n",
              "      <td>2.0</td>\n",
              "      <td>0.392104</td>\n",
              "      <td>-0.868364</td>\n",
              "      <td>1.713019</td>\n",
              "      <td>-0.252692</td>\n",
              "      <td>0.899454</td>\n",
              "      <td>1.134498</td>\n",
              "      <td>2.0</td>\n",
              "    </tr>\n",
              "    <tr>\n",
              "      <th>3</th>\n",
              "      <td>4.0</td>\n",
              "      <td>4.0</td>\n",
              "      <td>0.384472</td>\n",
              "      <td>1.040855</td>\n",
              "      <td>-0.534750</td>\n",
              "      <td>1.052187</td>\n",
              "      <td>-0.093194</td>\n",
              "      <td>0.519593</td>\n",
              "      <td>4.0</td>\n",
              "    </tr>\n",
              "    <tr>\n",
              "      <th>5</th>\n",
              "      <td>6.0</td>\n",
              "      <td>6.0</td>\n",
              "      <td>-0.894517</td>\n",
              "      <td>-0.703438</td>\n",
              "      <td>1.315402</td>\n",
              "      <td>1.114672</td>\n",
              "      <td>-2.084141</td>\n",
              "      <td>-0.126547</td>\n",
              "      <td>6.0</td>\n",
              "    </tr>\n",
              "    <tr>\n",
              "      <th>6</th>\n",
              "      <td>11.0</td>\n",
              "      <td>12.0</td>\n",
              "      <td>13.000000</td>\n",
              "      <td>14.000000</td>\n",
              "      <td>15.000000</td>\n",
              "      <td>16.000000</td>\n",
              "      <td>17.000000</td>\n",
              "      <td>18.000000</td>\n",
              "      <td>19.0</td>\n",
              "    </tr>\n",
              "    <tr>\n",
              "      <th>7</th>\n",
              "      <td>NaN</td>\n",
              "      <td>NaN</td>\n",
              "      <td>1.000000</td>\n",
              "      <td>2.000000</td>\n",
              "      <td>3.000000</td>\n",
              "      <td>4.000000</td>\n",
              "      <td>5.000000</td>\n",
              "      <td>6.000000</td>\n",
              "      <td>NaN</td>\n",
              "    </tr>\n",
              "    <tr>\n",
              "      <th>8</th>\n",
              "      <td>NaN</td>\n",
              "      <td>NaN</td>\n",
              "      <td>2.000000</td>\n",
              "      <td>4.000000</td>\n",
              "      <td>6.000000</td>\n",
              "      <td>8.000000</td>\n",
              "      <td>10.000000</td>\n",
              "      <td>12.000000</td>\n",
              "      <td>NaN</td>\n",
              "    </tr>\n",
              "  </tbody>\n",
              "</table>\n",
              "</div>\n",
              "      <button class=\"colab-df-convert\" onclick=\"convertToInteractive('df-3ce2cfde-c94e-45b9-aa2d-f9c66063b6c2')\"\n",
              "              title=\"Convert this dataframe to an interactive table.\"\n",
              "              style=\"display:none;\">\n",
              "        \n",
              "  <svg xmlns=\"http://www.w3.org/2000/svg\" height=\"24px\"viewBox=\"0 0 24 24\"\n",
              "       width=\"24px\">\n",
              "    <path d=\"M0 0h24v24H0V0z\" fill=\"none\"/>\n",
              "    <path d=\"M18.56 5.44l.94 2.06.94-2.06 2.06-.94-2.06-.94-.94-2.06-.94 2.06-2.06.94zm-11 1L8.5 8.5l.94-2.06 2.06-.94-2.06-.94L8.5 2.5l-.94 2.06-2.06.94zm10 10l.94 2.06.94-2.06 2.06-.94-2.06-.94-.94-2.06-.94 2.06-2.06.94z\"/><path d=\"M17.41 7.96l-1.37-1.37c-.4-.4-.92-.59-1.43-.59-.52 0-1.04.2-1.43.59L10.3 9.45l-7.72 7.72c-.78.78-.78 2.05 0 2.83L4 21.41c.39.39.9.59 1.41.59.51 0 1.02-.2 1.41-.59l7.78-7.78 2.81-2.81c.8-.78.8-2.07 0-2.86zM5.41 20L4 18.59l7.72-7.72 1.47 1.35L5.41 20z\"/>\n",
              "  </svg>\n",
              "      </button>\n",
              "      \n",
              "  <style>\n",
              "    .colab-df-container {\n",
              "      display:flex;\n",
              "      flex-wrap:wrap;\n",
              "      gap: 12px;\n",
              "    }\n",
              "\n",
              "    .colab-df-convert {\n",
              "      background-color: #E8F0FE;\n",
              "      border: none;\n",
              "      border-radius: 50%;\n",
              "      cursor: pointer;\n",
              "      display: none;\n",
              "      fill: #1967D2;\n",
              "      height: 32px;\n",
              "      padding: 0 0 0 0;\n",
              "      width: 32px;\n",
              "    }\n",
              "\n",
              "    .colab-df-convert:hover {\n",
              "      background-color: #E2EBFA;\n",
              "      box-shadow: 0px 1px 2px rgba(60, 64, 67, 0.3), 0px 1px 3px 1px rgba(60, 64, 67, 0.15);\n",
              "      fill: #174EA6;\n",
              "    }\n",
              "\n",
              "    [theme=dark] .colab-df-convert {\n",
              "      background-color: #3B4455;\n",
              "      fill: #D2E3FC;\n",
              "    }\n",
              "\n",
              "    [theme=dark] .colab-df-convert:hover {\n",
              "      background-color: #434B5C;\n",
              "      box-shadow: 0px 1px 3px 1px rgba(0, 0, 0, 0.15);\n",
              "      filter: drop-shadow(0px 1px 2px rgba(0, 0, 0, 0.3));\n",
              "      fill: #FFFFFF;\n",
              "    }\n",
              "  </style>\n",
              "\n",
              "      <script>\n",
              "        const buttonEl =\n",
              "          document.querySelector('#df-3ce2cfde-c94e-45b9-aa2d-f9c66063b6c2 button.colab-df-convert');\n",
              "        buttonEl.style.display =\n",
              "          google.colab.kernel.accessAllowed ? 'block' : 'none';\n",
              "\n",
              "        async function convertToInteractive(key) {\n",
              "          const element = document.querySelector('#df-3ce2cfde-c94e-45b9-aa2d-f9c66063b6c2');\n",
              "          const dataTable =\n",
              "            await google.colab.kernel.invokeFunction('convertToInteractive',\n",
              "                                                     [key], {});\n",
              "          if (!dataTable) return;\n",
              "\n",
              "          const docLinkHtml = 'Like what you see? Visit the ' +\n",
              "            '<a target=\"_blank\" href=https://colab.research.google.com/notebooks/data_table.ipynb>data table notebook</a>'\n",
              "            + ' to learn more about interactive tables.';\n",
              "          element.innerHTML = '';\n",
              "          dataTable['output_type'] = 'display_data';\n",
              "          await google.colab.output.renderOutput(dataTable, element);\n",
              "          const docLink = document.createElement('div');\n",
              "          docLink.innerHTML = docLinkHtml;\n",
              "          element.appendChild(docLink);\n",
              "        }\n",
              "      </script>\n",
              "    </div>\n",
              "  </div>\n",
              "  "
            ]
          },
          "metadata": {},
          "execution_count": 201
        }
      ]
    },
    {
      "cell_type": "code",
      "source": [
        "print(X)"
      ],
      "metadata": {
        "colab": {
          "base_uri": "https://localhost:8080/"
        },
        "id": "xwnXUvb9y5Rt",
        "outputId": "0c615a47-25c4-43a6-8013-9412b5b6fe39"
      },
      "execution_count": null,
      "outputs": [
        {
          "output_type": "stream",
          "name": "stdout",
          "text": [
            "     0a    1a          0          1          2          3          4  \\\n",
            "0   1.0   1.0   0.055368   1.892162   0.195860  -1.342070   0.369782   \n",
            "1   2.0   2.0   0.392104  -0.868364   1.713019  -0.252692   0.899454   \n",
            "2   3.0   3.0   1.775740   0.121275  -0.038958   0.557633   0.053133   \n",
            "3   4.0   4.0   0.384472   1.040855  -0.534750   1.052187  -0.093194   \n",
            "5   6.0   6.0  -0.894517  -0.703438   1.315402   1.114672  -2.084141   \n",
            "6  11.0  12.0  13.000000  14.000000  15.000000  16.000000  17.000000   \n",
            "7   NaN   NaN   1.000000   2.000000   3.000000   4.000000   5.000000   \n",
            "8   NaN   NaN   2.000000   4.000000   6.000000   8.000000  10.000000   \n",
            "\n",
            "           5     6  \n",
            "0  -0.952356   1.0  \n",
            "1   1.134498   2.0  \n",
            "2  -1.228516   3.0  \n",
            "3   0.519593   4.0  \n",
            "5  -0.126547   6.0  \n",
            "6  18.000000  19.0  \n",
            "7   6.000000   NaN  \n",
            "8  12.000000   NaN  \n"
          ]
        }
      ]
    },
    {
      "cell_type": "code",
      "source": [
        "X.describe()"
      ],
      "metadata": {
        "colab": {
          "base_uri": "https://localhost:8080/",
          "height": 300
        },
        "id": "Zm0OmtNI09n0",
        "outputId": "06b40413-c3b9-47d5-e9c5-cc3e9f2dc3a8"
      },
      "execution_count": null,
      "outputs": [
        {
          "output_type": "execute_result",
          "data": {
            "text/plain": [
              "              0a         1a          0          1          2          3  \\\n",
              "count   6.000000   6.000000   8.000000   8.000000   8.000000   8.000000   \n",
              "mean    4.500000   4.666667   2.214146   2.685311   3.331322   3.641216   \n",
              "std     3.619392   3.983298   4.456753   4.843848   5.157642   5.787399   \n",
              "min     1.000000   1.000000  -0.894517  -0.868364  -0.534750  -1.342070   \n",
              "25%     2.250000   2.250000   0.302196  -0.084904   0.137155   0.355052   \n",
              "50%     3.500000   3.500000   0.696052   1.466509   1.514211   1.083430   \n",
              "75%     5.500000   5.500000   1.831805   2.500000   3.750000   5.000000   \n",
              "max    11.000000  12.000000  13.000000  14.000000  15.000000  16.000000   \n",
              "\n",
              "               4          5          6  \n",
              "count   8.000000   8.000000   6.000000  \n",
              "mean    3.893129   4.418334   5.833333  \n",
              "std     6.525218   7.089388   6.675827  \n",
              "min    -2.084141  -1.228516   1.000000  \n",
              "25%     0.016551  -0.332999   2.250000  \n",
              "50%     0.634618   0.827046   3.500000  \n",
              "75%     6.250000   7.500000   5.500000  \n",
              "max    17.000000  18.000000  19.000000  "
            ],
            "text/html": [
              "\n",
              "  <div id=\"df-cdc77035-0d6a-4317-bd42-2887b190ecb0\">\n",
              "    <div class=\"colab-df-container\">\n",
              "      <div>\n",
              "<style scoped>\n",
              "    .dataframe tbody tr th:only-of-type {\n",
              "        vertical-align: middle;\n",
              "    }\n",
              "\n",
              "    .dataframe tbody tr th {\n",
              "        vertical-align: top;\n",
              "    }\n",
              "\n",
              "    .dataframe thead th {\n",
              "        text-align: right;\n",
              "    }\n",
              "</style>\n",
              "<table border=\"1\" class=\"dataframe\">\n",
              "  <thead>\n",
              "    <tr style=\"text-align: right;\">\n",
              "      <th></th>\n",
              "      <th>0a</th>\n",
              "      <th>1a</th>\n",
              "      <th>0</th>\n",
              "      <th>1</th>\n",
              "      <th>2</th>\n",
              "      <th>3</th>\n",
              "      <th>4</th>\n",
              "      <th>5</th>\n",
              "      <th>6</th>\n",
              "    </tr>\n",
              "  </thead>\n",
              "  <tbody>\n",
              "    <tr>\n",
              "      <th>count</th>\n",
              "      <td>6.000000</td>\n",
              "      <td>6.000000</td>\n",
              "      <td>8.000000</td>\n",
              "      <td>8.000000</td>\n",
              "      <td>8.000000</td>\n",
              "      <td>8.000000</td>\n",
              "      <td>8.000000</td>\n",
              "      <td>8.000000</td>\n",
              "      <td>6.000000</td>\n",
              "    </tr>\n",
              "    <tr>\n",
              "      <th>mean</th>\n",
              "      <td>4.500000</td>\n",
              "      <td>4.666667</td>\n",
              "      <td>2.214146</td>\n",
              "      <td>2.685311</td>\n",
              "      <td>3.331322</td>\n",
              "      <td>3.641216</td>\n",
              "      <td>3.893129</td>\n",
              "      <td>4.418334</td>\n",
              "      <td>5.833333</td>\n",
              "    </tr>\n",
              "    <tr>\n",
              "      <th>std</th>\n",
              "      <td>3.619392</td>\n",
              "      <td>3.983298</td>\n",
              "      <td>4.456753</td>\n",
              "      <td>4.843848</td>\n",
              "      <td>5.157642</td>\n",
              "      <td>5.787399</td>\n",
              "      <td>6.525218</td>\n",
              "      <td>7.089388</td>\n",
              "      <td>6.675827</td>\n",
              "    </tr>\n",
              "    <tr>\n",
              "      <th>min</th>\n",
              "      <td>1.000000</td>\n",
              "      <td>1.000000</td>\n",
              "      <td>-0.894517</td>\n",
              "      <td>-0.868364</td>\n",
              "      <td>-0.534750</td>\n",
              "      <td>-1.342070</td>\n",
              "      <td>-2.084141</td>\n",
              "      <td>-1.228516</td>\n",
              "      <td>1.000000</td>\n",
              "    </tr>\n",
              "    <tr>\n",
              "      <th>25%</th>\n",
              "      <td>2.250000</td>\n",
              "      <td>2.250000</td>\n",
              "      <td>0.302196</td>\n",
              "      <td>-0.084904</td>\n",
              "      <td>0.137155</td>\n",
              "      <td>0.355052</td>\n",
              "      <td>0.016551</td>\n",
              "      <td>-0.332999</td>\n",
              "      <td>2.250000</td>\n",
              "    </tr>\n",
              "    <tr>\n",
              "      <th>50%</th>\n",
              "      <td>3.500000</td>\n",
              "      <td>3.500000</td>\n",
              "      <td>0.696052</td>\n",
              "      <td>1.466509</td>\n",
              "      <td>1.514211</td>\n",
              "      <td>1.083430</td>\n",
              "      <td>0.634618</td>\n",
              "      <td>0.827046</td>\n",
              "      <td>3.500000</td>\n",
              "    </tr>\n",
              "    <tr>\n",
              "      <th>75%</th>\n",
              "      <td>5.500000</td>\n",
              "      <td>5.500000</td>\n",
              "      <td>1.831805</td>\n",
              "      <td>2.500000</td>\n",
              "      <td>3.750000</td>\n",
              "      <td>5.000000</td>\n",
              "      <td>6.250000</td>\n",
              "      <td>7.500000</td>\n",
              "      <td>5.500000</td>\n",
              "    </tr>\n",
              "    <tr>\n",
              "      <th>max</th>\n",
              "      <td>11.000000</td>\n",
              "      <td>12.000000</td>\n",
              "      <td>13.000000</td>\n",
              "      <td>14.000000</td>\n",
              "      <td>15.000000</td>\n",
              "      <td>16.000000</td>\n",
              "      <td>17.000000</td>\n",
              "      <td>18.000000</td>\n",
              "      <td>19.000000</td>\n",
              "    </tr>\n",
              "  </tbody>\n",
              "</table>\n",
              "</div>\n",
              "      <button class=\"colab-df-convert\" onclick=\"convertToInteractive('df-cdc77035-0d6a-4317-bd42-2887b190ecb0')\"\n",
              "              title=\"Convert this dataframe to an interactive table.\"\n",
              "              style=\"display:none;\">\n",
              "        \n",
              "  <svg xmlns=\"http://www.w3.org/2000/svg\" height=\"24px\"viewBox=\"0 0 24 24\"\n",
              "       width=\"24px\">\n",
              "    <path d=\"M0 0h24v24H0V0z\" fill=\"none\"/>\n",
              "    <path d=\"M18.56 5.44l.94 2.06.94-2.06 2.06-.94-2.06-.94-.94-2.06-.94 2.06-2.06.94zm-11 1L8.5 8.5l.94-2.06 2.06-.94-2.06-.94L8.5 2.5l-.94 2.06-2.06.94zm10 10l.94 2.06.94-2.06 2.06-.94-2.06-.94-.94-2.06-.94 2.06-2.06.94z\"/><path d=\"M17.41 7.96l-1.37-1.37c-.4-.4-.92-.59-1.43-.59-.52 0-1.04.2-1.43.59L10.3 9.45l-7.72 7.72c-.78.78-.78 2.05 0 2.83L4 21.41c.39.39.9.59 1.41.59.51 0 1.02-.2 1.41-.59l7.78-7.78 2.81-2.81c.8-.78.8-2.07 0-2.86zM5.41 20L4 18.59l7.72-7.72 1.47 1.35L5.41 20z\"/>\n",
              "  </svg>\n",
              "      </button>\n",
              "      \n",
              "  <style>\n",
              "    .colab-df-container {\n",
              "      display:flex;\n",
              "      flex-wrap:wrap;\n",
              "      gap: 12px;\n",
              "    }\n",
              "\n",
              "    .colab-df-convert {\n",
              "      background-color: #E8F0FE;\n",
              "      border: none;\n",
              "      border-radius: 50%;\n",
              "      cursor: pointer;\n",
              "      display: none;\n",
              "      fill: #1967D2;\n",
              "      height: 32px;\n",
              "      padding: 0 0 0 0;\n",
              "      width: 32px;\n",
              "    }\n",
              "\n",
              "    .colab-df-convert:hover {\n",
              "      background-color: #E2EBFA;\n",
              "      box-shadow: 0px 1px 2px rgba(60, 64, 67, 0.3), 0px 1px 3px 1px rgba(60, 64, 67, 0.15);\n",
              "      fill: #174EA6;\n",
              "    }\n",
              "\n",
              "    [theme=dark] .colab-df-convert {\n",
              "      background-color: #3B4455;\n",
              "      fill: #D2E3FC;\n",
              "    }\n",
              "\n",
              "    [theme=dark] .colab-df-convert:hover {\n",
              "      background-color: #434B5C;\n",
              "      box-shadow: 0px 1px 3px 1px rgba(0, 0, 0, 0.15);\n",
              "      filter: drop-shadow(0px 1px 2px rgba(0, 0, 0, 0.3));\n",
              "      fill: #FFFFFF;\n",
              "    }\n",
              "  </style>\n",
              "\n",
              "      <script>\n",
              "        const buttonEl =\n",
              "          document.querySelector('#df-cdc77035-0d6a-4317-bd42-2887b190ecb0 button.colab-df-convert');\n",
              "        buttonEl.style.display =\n",
              "          google.colab.kernel.accessAllowed ? 'block' : 'none';\n",
              "\n",
              "        async function convertToInteractive(key) {\n",
              "          const element = document.querySelector('#df-cdc77035-0d6a-4317-bd42-2887b190ecb0');\n",
              "          const dataTable =\n",
              "            await google.colab.kernel.invokeFunction('convertToInteractive',\n",
              "                                                     [key], {});\n",
              "          if (!dataTable) return;\n",
              "\n",
              "          const docLinkHtml = 'Like what you see? Visit the ' +\n",
              "            '<a target=\"_blank\" href=https://colab.research.google.com/notebooks/data_table.ipynb>data table notebook</a>'\n",
              "            + ' to learn more about interactive tables.';\n",
              "          element.innerHTML = '';\n",
              "          dataTable['output_type'] = 'display_data';\n",
              "          await google.colab.output.renderOutput(dataTable, element);\n",
              "          const docLink = document.createElement('div');\n",
              "          docLink.innerHTML = docLinkHtml;\n",
              "          element.appendChild(docLink);\n",
              "        }\n",
              "      </script>\n",
              "    </div>\n",
              "  </div>\n",
              "  "
            ]
          },
          "metadata": {},
          "execution_count": 202
        }
      ]
    }
  ]
}