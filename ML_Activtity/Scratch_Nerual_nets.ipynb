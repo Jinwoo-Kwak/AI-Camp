{
  "nbformat": 4,
  "nbformat_minor": 0,
  "metadata": {
    "colab": {
      "name": "Scratch_Nerual_nets.ipynb",
      "provenance": [],
      "authorship_tag": "ABX9TyODk+E/jpbwAqcS6J+wpB74",
      "include_colab_link": true
    },
    "kernelspec": {
      "name": "python3",
      "display_name": "Python 3"
    },
    "language_info": {
      "name": "python"
    }
  },
  "cells": [
    {
      "cell_type": "markdown",
      "metadata": {
        "id": "view-in-github",
        "colab_type": "text"
      },
      "source": [
        "<a href=\"https://colab.research.google.com/github/bestgradient/AI-Camp-Summer-2022/blob/main/ML_Activtity/Scratch_Nerual_nets.ipynb\" target=\"_parent\"><img src=\"https://colab.research.google.com/assets/colab-badge.svg\" alt=\"Open In Colab\"/></a>"
      ]
    },
    {
      "cell_type": "code",
      "source": [
        "import numpy as np"
      ],
      "metadata": {
        "id": "JQP1zxnt34Fk"
      },
      "execution_count": 3,
      "outputs": []
    },
    {
      "cell_type": "code",
      "source": [
        "#Neural network model (forward propagation)\n",
        "'''\n",
        "Input layer -> L hidden layer -> output layer(last layer)\n",
        "'''"
      ],
      "metadata": {
        "id": "LqcBPjjd3BLC"
      },
      "execution_count": null,
      "outputs": []
    },
    {
      "cell_type": "markdown",
      "source": [
        "Example:\n",
        "Input layer:5\n",
        "1 hidden layer: 3\n",
        "output layer(last layer): 1"
      ],
      "metadata": {
        "id": "kSnpPloF3bak"
      }
    },
    {
      "cell_type": "code",
      "source": [
        "X = np.random.randn(5,3) * 0.01 # input data"
      ],
      "metadata": {
        "id": "f6JFYBEd5xF2"
      },
      "execution_count": 25,
      "outputs": []
    },
    {
      "cell_type": "code",
      "source": [
        "W1 = np.random.randn(3,5) * 0.01 # correct shape for dot product\n",
        "b1 = np.zeros((1,1))\n",
        "W2 = np.random.randn(1,3) * 0.01 # correct shape for dot product. last A1(activation output) = (a,b), current A2 = (c,a)\n",
        "b2 = np.zeros((1,1))"
      ],
      "metadata": {
        "id": "vslOHkhn3-8c"
      },
      "execution_count": 14,
      "outputs": []
    },
    {
      "cell_type": "code",
      "source": [
        "print(W1)\n",
        "print(b1)\n",
        "print(W2)\n",
        "print(b2)"
      ],
      "metadata": {
        "colab": {
          "base_uri": "https://localhost:8080/"
        },
        "id": "q3lqousm3wao",
        "outputId": "a887d4a6-d3cc-48ac-c938-6f520343ed77"
      },
      "execution_count": 17,
      "outputs": [
        {
          "output_type": "stream",
          "name": "stdout",
          "text": [
            "[[ 0.00432933 -0.00308959  0.01356833  0.00438554  0.00501488]\n",
            " [ 0.00034423 -0.00803444  0.02600598  0.01833496 -0.01460826]\n",
            " [-0.00273848 -0.00819981  0.00619279 -0.0057288   0.00254499]]\n",
            "[[0.]]\n",
            "[[ 0.01391593 -0.01968056  0.00401513]]\n",
            "[[0.]]\n"
          ]
        }
      ]
    },
    {
      "cell_type": "code",
      "source": [
        "def sigmoid(z):\n",
        "  \n",
        "    g = 1/(1+np.exp(-z))\n",
        "   \n",
        "    return g"
      ],
      "metadata": {
        "id": "qK3_qvs95j2H"
      },
      "execution_count": 18,
      "outputs": []
    },
    {
      "cell_type": "code",
      "source": [
        "def relu(Z):\n",
        "  return np.maximum(0,Z)"
      ],
      "metadata": {
        "id": "vUv6U3r55lS5"
      },
      "execution_count": 37,
      "outputs": []
    },
    {
      "cell_type": "code",
      "source": [
        "def forward_propagation(X, W1,b1,W2,b2):\n",
        "    \n",
        "    \n",
        "    Z1 = np.dot(W1,X) + b1 # input for activation function\n",
        "    A1 = relu(Z1) # activation of hidden layer\n",
        "    Z2 = np.dot(W2,A1) + b2 # input for activation function\n",
        "    A2 = sigmoid(Z2) # activation of last layer\n",
        "    \n",
        "    return A2 # output of last activation function"
      ],
      "metadata": {
        "id": "dT5W4g854_L3"
      },
      "execution_count": 20,
      "outputs": []
    },
    {
      "cell_type": "code",
      "source": [
        "forward_propagation(X,W1,b1,W2,b2)"
      ],
      "metadata": {
        "colab": {
          "base_uri": "https://localhost:8080/"
        },
        "id": "gqGcoTpF5ovq",
        "outputId": "292755d3-342d-41e3-a424-fa3651dcf4df"
      },
      "execution_count": 40,
      "outputs": [
        {
          "output_type": "execute_result",
          "data": {
            "text/plain": [
              "array([[0.49999923, 0.5       , 0.49999894]])"
            ]
          },
          "metadata": {},
          "execution_count": 40
        }
      ]
    }
  ]
}