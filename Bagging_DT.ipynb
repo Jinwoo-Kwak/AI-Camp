{
  "nbformat": 4,
  "nbformat_minor": 0,
  "metadata": {
    "colab": {
      "name": "Bagging_DT.ipynb",
      "provenance": [],
      "authorship_tag": "ABX9TyPJsoGzkQjVdpBqxGBfhPlx",
      "include_colab_link": true
    },
    "kernelspec": {
      "name": "python3",
      "display_name": "Python 3"
    },
    "language_info": {
      "name": "python"
    }
  },
  "cells": [
    {
      "cell_type": "markdown",
      "metadata": {
        "id": "view-in-github",
        "colab_type": "text"
      },
      "source": [
        "<a href=\"https://colab.research.google.com/github/bestgradient/AI-Camp-Summer-2022/blob/main/Bagging_DT.ipynb\" target=\"_parent\"><img src=\"https://colab.research.google.com/assets/colab-badge.svg\" alt=\"Open In Colab\"/></a>"
      ]
    },
    {
      "cell_type": "markdown",
      "source": [
        "This implementation uses BaggingClassifier for tree ensemble model(Bagging)."
      ],
      "metadata": {
        "id": "6d_EOHAss_-T"
      }
    },
    {
      "cell_type": "code",
      "execution_count": 1,
      "metadata": {
        "id": "0npFQhmzrvSF"
      },
      "outputs": [],
      "source": [
        "import numpy as np \n",
        "import pandas as pd"
      ]
    },
    {
      "cell_type": "code",
      "source": [
        "mush_train = pd.read_csv(\"mush_train.data\", header = None)\n",
        "mush_train = mush_train.to_numpy()\n",
        "\n",
        "mush_test = pd.read_csv(\"mush_test.data\", header = None)\n",
        "mush_test = mush_test.to_numpy()"
      ],
      "metadata": {
        "id": "jthBMfAOsDgp"
      },
      "execution_count": 2,
      "outputs": []
    },
    {
      "cell_type": "code",
      "source": [
        "X_train = mush_train[:,1:]\n",
        "Y_train = mush_train[:,0]\n",
        "\n",
        "X_test = mush_test[:,1:]\n",
        "Y_test = mush_test[:,0]"
      ],
      "metadata": {
        "id": "gX7jVIl4sFso"
      },
      "execution_count": 3,
      "outputs": []
    },
    {
      "cell_type": "markdown",
      "source": [
        "Train data"
      ],
      "metadata": {
        "id": "P-TgcefbsHGN"
      }
    },
    {
      "cell_type": "code",
      "source": [
        "print(X_train.shape)\n",
        "print(Y_train.shape)"
      ],
      "metadata": {
        "colab": {
          "base_uri": "https://localhost:8080/"
        },
        "id": "wdWxFRfxsH0V",
        "outputId": "35cd9657-d0f0-42cb-afab-663ecb731b78"
      },
      "execution_count": 4,
      "outputs": [
        {
          "output_type": "stream",
          "name": "stdout",
          "text": [
            "(4712, 22)\n",
            "(4712,)\n"
          ]
        }
      ]
    },
    {
      "cell_type": "code",
      "source": [
        "from sklearn.ensemble import BaggingClassifier"
      ],
      "metadata": {
        "id": "D904dGZhsNxy"
      },
      "execution_count": 5,
      "outputs": []
    },
    {
      "cell_type": "code",
      "source": [
        "X_train = X_train.flatten()\n",
        "Y_train = Y_train.flatten()"
      ],
      "metadata": {
        "id": "HVOEAE7IsQAh"
      },
      "execution_count": 6,
      "outputs": []
    },
    {
      "cell_type": "code",
      "source": [
        "from sklearn import preprocessing\n",
        "label_encoder = preprocessing.LabelEncoder()\n",
        "X_train = label_encoder.fit_transform(X_train)\n",
        "Y_train = label_encoder.fit_transform(Y_train)"
      ],
      "metadata": {
        "id": "6JCqFKQ7sRyC"
      },
      "execution_count": 7,
      "outputs": []
    },
    {
      "cell_type": "code",
      "source": [
        "X_train = X_train.reshape(4712,22)\n",
        "Y_train = Y_train.reshape(4712,)"
      ],
      "metadata": {
        "id": "Rsv_ggaNsT6M"
      },
      "execution_count": 8,
      "outputs": []
    },
    {
      "cell_type": "code",
      "source": [
        "from sklearn import tree\n",
        "from sklearn.ensemble import AdaBoostClassifier\n",
        "clf = BaggingClassifier(base_estimator=AdaBoostClassifier())\n",
        "clf = clf.fit(X_train, Y_train)"
      ],
      "metadata": {
        "id": "s9aDAVPAsWFN"
      },
      "execution_count": 14,
      "outputs": []
    },
    {
      "cell_type": "markdown",
      "source": [
        "Test data"
      ],
      "metadata": {
        "id": "Zs5iiohTsYdm"
      }
    },
    {
      "cell_type": "code",
      "source": [
        "print(X_test.shape)\n",
        "print(Y_test.shape)"
      ],
      "metadata": {
        "colab": {
          "base_uri": "https://localhost:8080/"
        },
        "id": "ynFV2z32sZN_",
        "outputId": "99c3b99c-16e9-4f7d-8684-b57aa5df8790"
      },
      "execution_count": 10,
      "outputs": [
        {
          "output_type": "stream",
          "name": "stdout",
          "text": [
            "(3412, 22)\n",
            "(3412,)\n"
          ]
        }
      ]
    },
    {
      "cell_type": "code",
      "source": [
        "X_test = X_test.flatten()\n",
        "Y_test = Y_test.flatten()"
      ],
      "metadata": {
        "id": "tJ-f6TUQsc4s"
      },
      "execution_count": 11,
      "outputs": []
    },
    {
      "cell_type": "code",
      "source": [
        "from sklearn import preprocessing\n",
        "label_encoder = preprocessing.LabelEncoder()\n",
        "X_test = label_encoder.fit_transform(X_test)\n",
        "Y_test = label_encoder.fit_transform(Y_test)"
      ],
      "metadata": {
        "id": "XfvLQ6kHsemW"
      },
      "execution_count": 12,
      "outputs": []
    },
    {
      "cell_type": "code",
      "source": [
        "X_test = X_test.reshape(3412,22)\n",
        "Y_test = Y_test.reshape(3412,)"
      ],
      "metadata": {
        "id": "XafeMkDRshsz"
      },
      "execution_count": 13,
      "outputs": []
    },
    {
      "cell_type": "code",
      "source": [
        "clf.score(X_test,Y_test)"
      ],
      "metadata": {
        "colab": {
          "base_uri": "https://localhost:8080/"
        },
        "id": "WLfk89ubs93N",
        "outputId": "0cc2387c-9424-494b-8d3e-08abd821a3b6"
      },
      "execution_count": 15,
      "outputs": [
        {
          "output_type": "execute_result",
          "data": {
            "text/plain": [
              "1.0"
            ]
          },
          "metadata": {},
          "execution_count": 15
        }
      ]
    }
  ]
}