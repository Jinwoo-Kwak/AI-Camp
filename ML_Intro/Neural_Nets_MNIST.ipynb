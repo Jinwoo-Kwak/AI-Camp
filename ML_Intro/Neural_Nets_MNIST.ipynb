{
  "nbformat": 4,
  "nbformat_minor": 0,
  "metadata": {
    "colab": {
      "name": "Neural_Nets_MNIST.ipynb",
      "provenance": [],
      "authorship_tag": "ABX9TyO1mbj+JVh8uW0yBSb+b62l"
    },
    "kernelspec": {
      "name": "python3",
      "display_name": "Python 3"
    },
    "language_info": {
      "name": "python"
    }
  },
  "cells": [
    {
      "cell_type": "code",
      "execution_count": 48,
      "metadata": {
        "id": "kgflteMejoQR"
      },
      "outputs": [],
      "source": [
        "import numpy as np\n",
        "import matplotlib.pyplot as plt\n",
        "import tensorflow as tf\n",
        "from tensorflow import keras\n",
        "from tensorflow.keras.models import Sequential\n",
        "from tensorflow.keras.layers import Dense\n",
        "from tensorflow.keras.utils import to_categorical\n",
        "from sklearn.preprocessing import minmax_scale\n",
        "from sklearn.model_selection import train_test_split"
      ]
    },
    {
      "cell_type": "code",
      "source": [
        "X = np.load('X.npy')\n",
        "Y = np.load('y.npy')"
      ],
      "metadata": {
        "id": "W5xY83Cxjp2h"
      },
      "execution_count": 49,
      "outputs": []
    },
    {
      "cell_type": "code",
      "source": [
        "Y"
      ],
      "metadata": {
        "colab": {
          "base_uri": "https://localhost:8080/"
        },
        "id": "IU5ED0PJiPEl",
        "outputId": "939212c3-b0d4-4dad-f2f7-579353db6780"
      },
      "execution_count": 50,
      "outputs": [
        {
          "output_type": "execute_result",
          "data": {
            "text/plain": [
              "array([[0],\n",
              "       [0],\n",
              "       [0],\n",
              "       ...,\n",
              "       [9],\n",
              "       [9],\n",
              "       [9]], dtype=uint8)"
            ]
          },
          "metadata": {},
          "execution_count": 50
        }
      ]
    },
    {
      "cell_type": "code",
      "source": [
        "Y = to_categorical(Y)"
      ],
      "metadata": {
        "id": "NtHzCIN2jrki"
      },
      "execution_count": 51,
      "outputs": []
    },
    {
      "cell_type": "code",
      "source": [
        "Y"
      ],
      "metadata": {
        "colab": {
          "base_uri": "https://localhost:8080/"
        },
        "id": "T02qeA0biTZn",
        "outputId": "b708318f-a958-4ce6-b7cd-716b757da847"
      },
      "execution_count": 52,
      "outputs": [
        {
          "output_type": "execute_result",
          "data": {
            "text/plain": [
              "array([[1., 0., 0., ..., 0., 0., 0.],\n",
              "       [1., 0., 0., ..., 0., 0., 0.],\n",
              "       [1., 0., 0., ..., 0., 0., 0.],\n",
              "       ...,\n",
              "       [0., 0., 0., ..., 0., 0., 1.],\n",
              "       [0., 0., 0., ..., 0., 0., 1.],\n",
              "       [0., 0., 0., ..., 0., 0., 1.]], dtype=float32)"
            ]
          },
          "metadata": {},
          "execution_count": 52
        }
      ]
    },
    {
      "cell_type": "code",
      "source": [
        "X = minmax_scale(X)"
      ],
      "metadata": {
        "id": "PPbESh1fj141"
      },
      "execution_count": 53,
      "outputs": []
    },
    {
      "cell_type": "code",
      "source": [
        "X_train,X_test,Y_train,Y_test = train_test_split(X,Y)"
      ],
      "metadata": {
        "id": "Cf2mu3xpj6MW"
      },
      "execution_count": 54,
      "outputs": []
    },
    {
      "cell_type": "code",
      "source": [
        "model = keras.Sequential()\n",
        "\n",
        "for i in range(8):\n",
        "  model.add(Dense(32,activation='relu'))\n",
        "\n",
        "model.add(Dense(10,activation='softmax'))\n",
        "model.compile(loss='categorical_crossentropy',optimizer='adam',metrics=['accuracy'])"
      ],
      "metadata": {
        "id": "_Asj9XWfkJb_"
      },
      "execution_count": 55,
      "outputs": []
    },
    {
      "cell_type": "code",
      "source": [
        "model.fit(X_train,Y_train,epochs=100)"
      ],
      "metadata": {
        "colab": {
          "base_uri": "https://localhost:8080/"
        },
        "id": "wOos6ypVkqeB",
        "outputId": "a96810ad-f083-4abc-d5a1-b622a8f7a1d7"
      },
      "execution_count": 43,
      "outputs": [
        {
          "output_type": "stream",
          "name": "stdout",
          "text": [
            "Epoch 1/100\n",
            "118/118 [==============================] - 1s 3ms/step - loss: 1.7948 - accuracy: 0.3512\n",
            "Epoch 2/100\n",
            "118/118 [==============================] - 0s 2ms/step - loss: 0.8137 - accuracy: 0.7432\n",
            "Epoch 3/100\n",
            "118/118 [==============================] - 0s 2ms/step - loss: 0.5540 - accuracy: 0.8291\n",
            "Epoch 4/100\n",
            "118/118 [==============================] - 0s 3ms/step - loss: 0.4443 - accuracy: 0.8605\n",
            "Epoch 5/100\n",
            "118/118 [==============================] - 0s 2ms/step - loss: 0.3834 - accuracy: 0.8789\n",
            "Epoch 6/100\n",
            "118/118 [==============================] - 0s 2ms/step - loss: 0.3524 - accuracy: 0.8923\n",
            "Epoch 7/100\n",
            "118/118 [==============================] - 0s 2ms/step - loss: 0.3336 - accuracy: 0.9008\n",
            "Epoch 8/100\n",
            "118/118 [==============================] - 0s 2ms/step - loss: 0.2853 - accuracy: 0.9128\n",
            "Epoch 9/100\n",
            "118/118 [==============================] - 0s 2ms/step - loss: 0.2613 - accuracy: 0.9184\n",
            "Epoch 10/100\n",
            "118/118 [==============================] - 0s 3ms/step - loss: 0.2337 - accuracy: 0.9293\n",
            "Epoch 11/100\n",
            "118/118 [==============================] - 0s 3ms/step - loss: 0.2317 - accuracy: 0.9341\n",
            "Epoch 12/100\n",
            "118/118 [==============================] - 0s 3ms/step - loss: 0.1857 - accuracy: 0.9464\n",
            "Epoch 13/100\n",
            "118/118 [==============================] - 0s 3ms/step - loss: 0.2154 - accuracy: 0.9317\n",
            "Epoch 14/100\n",
            "118/118 [==============================] - 0s 3ms/step - loss: 0.1886 - accuracy: 0.9456\n",
            "Epoch 15/100\n",
            "118/118 [==============================] - 0s 3ms/step - loss: 0.1548 - accuracy: 0.9565\n",
            "Epoch 16/100\n",
            "118/118 [==============================] - 0s 3ms/step - loss: 0.1354 - accuracy: 0.9640\n",
            "Epoch 17/100\n",
            "118/118 [==============================] - 0s 3ms/step - loss: 0.1549 - accuracy: 0.9523\n",
            "Epoch 18/100\n",
            "118/118 [==============================] - 0s 3ms/step - loss: 0.1306 - accuracy: 0.9627\n",
            "Epoch 19/100\n",
            "118/118 [==============================] - 0s 3ms/step - loss: 0.1380 - accuracy: 0.9552\n",
            "Epoch 20/100\n",
            "118/118 [==============================] - 1s 5ms/step - loss: 0.1234 - accuracy: 0.9587\n",
            "Epoch 21/100\n",
            "118/118 [==============================] - 1s 5ms/step - loss: 0.1286 - accuracy: 0.9592\n",
            "Epoch 22/100\n",
            "118/118 [==============================] - 1s 5ms/step - loss: 0.1041 - accuracy: 0.9683\n",
            "Epoch 23/100\n",
            "118/118 [==============================] - 0s 4ms/step - loss: 0.0871 - accuracy: 0.9728\n",
            "Epoch 24/100\n",
            "118/118 [==============================] - 0s 3ms/step - loss: 0.0834 - accuracy: 0.9717\n",
            "Epoch 25/100\n",
            "118/118 [==============================] - 0s 2ms/step - loss: 0.0931 - accuracy: 0.9683\n",
            "Epoch 26/100\n",
            "118/118 [==============================] - 0s 3ms/step - loss: 0.1264 - accuracy: 0.9603\n",
            "Epoch 27/100\n",
            "118/118 [==============================] - 0s 3ms/step - loss: 0.0824 - accuracy: 0.9755\n",
            "Epoch 28/100\n",
            "118/118 [==============================] - 0s 4ms/step - loss: 0.0684 - accuracy: 0.9787\n",
            "Epoch 29/100\n",
            "118/118 [==============================] - 1s 4ms/step - loss: 0.0582 - accuracy: 0.9829\n",
            "Epoch 30/100\n",
            "118/118 [==============================] - 0s 4ms/step - loss: 0.0597 - accuracy: 0.9816\n",
            "Epoch 31/100\n",
            "118/118 [==============================] - 0s 4ms/step - loss: 0.0609 - accuracy: 0.9797\n",
            "Epoch 32/100\n",
            "118/118 [==============================] - 0s 3ms/step - loss: 0.1183 - accuracy: 0.9621\n",
            "Epoch 33/100\n",
            "118/118 [==============================] - 0s 3ms/step - loss: 0.0587 - accuracy: 0.9816\n",
            "Epoch 34/100\n",
            "118/118 [==============================] - 0s 3ms/step - loss: 0.0582 - accuracy: 0.9813\n",
            "Epoch 35/100\n",
            "118/118 [==============================] - 0s 2ms/step - loss: 0.0429 - accuracy: 0.9861\n",
            "Epoch 36/100\n",
            "118/118 [==============================] - 0s 2ms/step - loss: 0.0304 - accuracy: 0.9904\n",
            "Epoch 37/100\n",
            "118/118 [==============================] - 0s 3ms/step - loss: 0.0504 - accuracy: 0.9821\n",
            "Epoch 38/100\n",
            "118/118 [==============================] - 0s 3ms/step - loss: 0.0347 - accuracy: 0.9883\n",
            "Epoch 39/100\n",
            "118/118 [==============================] - 0s 3ms/step - loss: 0.0393 - accuracy: 0.9872\n",
            "Epoch 40/100\n",
            "118/118 [==============================] - 0s 3ms/step - loss: 0.0928 - accuracy: 0.9712\n",
            "Epoch 41/100\n",
            "118/118 [==============================] - 0s 2ms/step - loss: 0.0339 - accuracy: 0.9912\n",
            "Epoch 42/100\n",
            "118/118 [==============================] - 0s 3ms/step - loss: 0.1007 - accuracy: 0.9685\n",
            "Epoch 43/100\n",
            "118/118 [==============================] - 0s 3ms/step - loss: 0.0412 - accuracy: 0.9869\n",
            "Epoch 44/100\n",
            "118/118 [==============================] - 0s 3ms/step - loss: 0.0260 - accuracy: 0.9920\n",
            "Epoch 45/100\n",
            "118/118 [==============================] - 0s 3ms/step - loss: 0.0164 - accuracy: 0.9955\n",
            "Epoch 46/100\n",
            "118/118 [==============================] - 0s 3ms/step - loss: 0.0412 - accuracy: 0.9864\n",
            "Epoch 47/100\n",
            "118/118 [==============================] - 0s 3ms/step - loss: 0.0405 - accuracy: 0.9877\n",
            "Epoch 48/100\n",
            "118/118 [==============================] - 0s 2ms/step - loss: 0.0575 - accuracy: 0.9819\n",
            "Epoch 49/100\n",
            "118/118 [==============================] - 0s 2ms/step - loss: 0.0211 - accuracy: 0.9931\n",
            "Epoch 50/100\n",
            "118/118 [==============================] - 0s 3ms/step - loss: 0.0275 - accuracy: 0.9909\n",
            "Epoch 51/100\n",
            "118/118 [==============================] - 0s 3ms/step - loss: 0.0216 - accuracy: 0.9933\n",
            "Epoch 52/100\n",
            "118/118 [==============================] - 0s 3ms/step - loss: 0.0316 - accuracy: 0.9899\n",
            "Epoch 53/100\n",
            "118/118 [==============================] - 0s 3ms/step - loss: 0.0328 - accuracy: 0.9909\n",
            "Epoch 54/100\n",
            "118/118 [==============================] - 0s 3ms/step - loss: 0.0672 - accuracy: 0.9760\n",
            "Epoch 55/100\n",
            "118/118 [==============================] - 0s 2ms/step - loss: 0.0480 - accuracy: 0.9861\n",
            "Epoch 56/100\n",
            "118/118 [==============================] - 0s 2ms/step - loss: 0.0498 - accuracy: 0.9845\n",
            "Epoch 57/100\n",
            "118/118 [==============================] - 0s 3ms/step - loss: 0.0274 - accuracy: 0.9899\n",
            "Epoch 58/100\n",
            "118/118 [==============================] - 0s 2ms/step - loss: 0.0180 - accuracy: 0.9941\n",
            "Epoch 59/100\n",
            "118/118 [==============================] - 0s 3ms/step - loss: 0.0091 - accuracy: 0.9973\n",
            "Epoch 60/100\n",
            "118/118 [==============================] - 0s 2ms/step - loss: 0.0127 - accuracy: 0.9965\n",
            "Epoch 61/100\n",
            "118/118 [==============================] - 0s 3ms/step - loss: 0.0436 - accuracy: 0.9853\n",
            "Epoch 62/100\n",
            "118/118 [==============================] - 0s 2ms/step - loss: 0.0499 - accuracy: 0.9837\n",
            "Epoch 63/100\n",
            "118/118 [==============================] - 0s 2ms/step - loss: 0.0677 - accuracy: 0.9803\n",
            "Epoch 64/100\n",
            "118/118 [==============================] - 0s 2ms/step - loss: 0.0186 - accuracy: 0.9931\n",
            "Epoch 65/100\n",
            "118/118 [==============================] - 0s 3ms/step - loss: 0.0112 - accuracy: 0.9973\n",
            "Epoch 66/100\n",
            "118/118 [==============================] - 0s 2ms/step - loss: 0.0051 - accuracy: 0.9989\n",
            "Epoch 67/100\n",
            "118/118 [==============================] - 0s 2ms/step - loss: 0.0033 - accuracy: 0.9997\n",
            "Epoch 68/100\n",
            "118/118 [==============================] - 0s 2ms/step - loss: 0.0028 - accuracy: 0.9997\n",
            "Epoch 69/100\n",
            "118/118 [==============================] - 0s 2ms/step - loss: 0.0479 - accuracy: 0.9829\n",
            "Epoch 70/100\n",
            "118/118 [==============================] - 0s 2ms/step - loss: 0.0585 - accuracy: 0.9813\n",
            "Epoch 71/100\n",
            "118/118 [==============================] - 0s 3ms/step - loss: 0.0122 - accuracy: 0.9971\n",
            "Epoch 72/100\n",
            "118/118 [==============================] - 0s 3ms/step - loss: 0.0261 - accuracy: 0.9907\n",
            "Epoch 73/100\n",
            "118/118 [==============================] - 0s 2ms/step - loss: 0.0280 - accuracy: 0.9917\n",
            "Epoch 74/100\n",
            "118/118 [==============================] - 0s 2ms/step - loss: 0.0100 - accuracy: 0.9971\n",
            "Epoch 75/100\n",
            "118/118 [==============================] - 0s 2ms/step - loss: 0.0416 - accuracy: 0.9864\n",
            "Epoch 76/100\n",
            "118/118 [==============================] - 0s 2ms/step - loss: 0.0792 - accuracy: 0.9795\n",
            "Epoch 77/100\n",
            "118/118 [==============================] - 0s 2ms/step - loss: 0.0263 - accuracy: 0.9907\n",
            "Epoch 78/100\n",
            "118/118 [==============================] - 0s 3ms/step - loss: 0.0146 - accuracy: 0.9957\n",
            "Epoch 79/100\n",
            "118/118 [==============================] - 0s 2ms/step - loss: 0.0268 - accuracy: 0.9920\n",
            "Epoch 80/100\n",
            "118/118 [==============================] - 0s 2ms/step - loss: 0.0567 - accuracy: 0.9837\n",
            "Epoch 81/100\n",
            "118/118 [==============================] - 0s 3ms/step - loss: 0.0270 - accuracy: 0.9912\n",
            "Epoch 82/100\n",
            "118/118 [==============================] - 0s 2ms/step - loss: 0.0102 - accuracy: 0.9973\n",
            "Epoch 83/100\n",
            "118/118 [==============================] - 0s 2ms/step - loss: 0.0068 - accuracy: 0.9976\n",
            "Epoch 84/100\n",
            "118/118 [==============================] - 0s 2ms/step - loss: 0.0230 - accuracy: 0.9920\n",
            "Epoch 85/100\n",
            "118/118 [==============================] - 0s 2ms/step - loss: 0.0144 - accuracy: 0.9955\n",
            "Epoch 86/100\n",
            "118/118 [==============================] - 0s 2ms/step - loss: 0.0109 - accuracy: 0.9960\n",
            "Epoch 87/100\n",
            "118/118 [==============================] - 0s 3ms/step - loss: 0.0208 - accuracy: 0.9941\n",
            "Epoch 88/100\n",
            "118/118 [==============================] - 0s 2ms/step - loss: 0.0578 - accuracy: 0.9811\n",
            "Epoch 89/100\n",
            "118/118 [==============================] - 0s 2ms/step - loss: 0.0056 - accuracy: 0.9987\n",
            "Epoch 90/100\n",
            "118/118 [==============================] - 0s 2ms/step - loss: 0.0018 - accuracy: 0.9997\n",
            "Epoch 91/100\n",
            "118/118 [==============================] - 0s 2ms/step - loss: 0.0013 - accuracy: 0.9997\n",
            "Epoch 92/100\n",
            "118/118 [==============================] - 0s 3ms/step - loss: 0.0017 - accuracy: 0.9995\n",
            "Epoch 93/100\n",
            "118/118 [==============================] - 0s 2ms/step - loss: 0.0012 - accuracy: 0.9997\n",
            "Epoch 94/100\n",
            "118/118 [==============================] - 0s 3ms/step - loss: 9.2072e-04 - accuracy: 0.9997\n",
            "Epoch 95/100\n",
            "118/118 [==============================] - 0s 3ms/step - loss: 0.0518 - accuracy: 0.9856\n",
            "Epoch 96/100\n",
            "118/118 [==============================] - 0s 3ms/step - loss: 0.0564 - accuracy: 0.9851\n",
            "Epoch 97/100\n",
            "118/118 [==============================] - 0s 3ms/step - loss: 0.0881 - accuracy: 0.9741\n",
            "Epoch 98/100\n",
            "118/118 [==============================] - 0s 2ms/step - loss: 0.0187 - accuracy: 0.9947\n",
            "Epoch 99/100\n",
            "118/118 [==============================] - 0s 3ms/step - loss: 0.0050 - accuracy: 0.9992\n",
            "Epoch 100/100\n",
            "118/118 [==============================] - 0s 2ms/step - loss: 0.0097 - accuracy: 0.9971\n"
          ]
        },
        {
          "output_type": "execute_result",
          "data": {
            "text/plain": [
              "<keras.callbacks.History at 0x7f3d40481e10>"
            ]
          },
          "metadata": {},
          "execution_count": 43
        }
      ]
    },
    {
      "cell_type": "code",
      "source": [
        "print(model.metrics_names)"
      ],
      "metadata": {
        "colab": {
          "base_uri": "https://localhost:8080/"
        },
        "id": "EdDmaR1tk2t6",
        "outputId": "4ce43f26-cba3-4282-fbc2-e9eee84f1676"
      },
      "execution_count": 44,
      "outputs": [
        {
          "output_type": "stream",
          "name": "stdout",
          "text": [
            "['loss', 'accuracy']\n"
          ]
        }
      ]
    },
    {
      "cell_type": "code",
      "source": [
        "model.evaluate(X_test,Y_test)"
      ],
      "metadata": {
        "colab": {
          "base_uri": "https://localhost:8080/"
        },
        "id": "9Yn8sHIUk5Hx",
        "outputId": "028dbf1c-0335-4b90-b985-baaf2d92666f"
      },
      "execution_count": 45,
      "outputs": [
        {
          "output_type": "stream",
          "name": "stdout",
          "text": [
            "40/40 [==============================] - 0s 2ms/step - loss: 0.5476 - accuracy: 0.9152\n"
          ]
        },
        {
          "output_type": "execute_result",
          "data": {
            "text/plain": [
              "[0.547555685043335, 0.9151999950408936]"
            ]
          },
          "metadata": {},
          "execution_count": 45
        }
      ]
    },
    {
      "cell_type": "code",
      "source": [
        "original_Y = np.load('y.npy')\n",
        "X = X.reshape(X.shape[0],20,20)\n",
        "print(X.shape)\n",
        "n = 4\n",
        "'''\n",
        "for i in range(len(original_Y)):\n",
        "  print(np.argmax(model.predict(np.array([X[3].reshape(400)]))[0]))\n",
        "  plt.imshow(X[3].transpose(),cmap='gray')\n",
        "  break\n",
        "'''"
      ],
      "metadata": {
        "colab": {
          "base_uri": "https://localhost:8080/",
          "height": 53
        },
        "id": "0GLrEqAIk8t-",
        "outputId": "c47c5cc7-3cd4-4578-e789-22ce1f12b0fc"
      },
      "execution_count": 46,
      "outputs": [
        {
          "output_type": "stream",
          "name": "stdout",
          "text": [
            "(5000, 20, 20)\n"
          ]
        },
        {
          "output_type": "execute_result",
          "data": {
            "text/plain": [
              "\"\\nfor i in range(len(original_Y)):\\n  print(np.argmax(model.predict(np.array([X[3].reshape(400)]))[0]))\\n  plt.imshow(X[3].transpose(),cmap='gray')\\n  break\\n\""
            ],
            "application/vnd.google.colaboratory.intrinsic+json": {
              "type": "string"
            }
          },
          "metadata": {},
          "execution_count": 46
        }
      ]
    },
    {
      "cell_type": "code",
      "source": [
        "import random\n",
        "num = random.randrange(0,5000)\n",
        "print(np.argmax(model.predict(np.array([X[num].reshape(400)]))[0]))\n",
        "plt.imshow(X[num].transpose(),cmap='gray')"
      ],
      "metadata": {
        "colab": {
          "base_uri": "https://localhost:8080/",
          "height": 300
        },
        "id": "G5tMzSVqhfU9",
        "outputId": "41f29291-b930-4d0f-99cc-f31ca51b14ea"
      },
      "execution_count": 47,
      "outputs": [
        {
          "output_type": "stream",
          "name": "stdout",
          "text": [
            "9\n"
          ]
        },
        {
          "output_type": "execute_result",
          "data": {
            "text/plain": [
              "<matplotlib.image.AxesImage at 0x7f3d40015b50>"
            ]
          },
          "metadata": {},
          "execution_count": 47
        },
        {
          "output_type": "display_data",
          "data": {
            "text/plain": [
              "<Figure size 432x288 with 1 Axes>"
            ],
            "image/png": "[encoded data removed]"
          },
          "metadata": {
            "needs_background": "light"
          }
        }
      ]
    }
  ]
}