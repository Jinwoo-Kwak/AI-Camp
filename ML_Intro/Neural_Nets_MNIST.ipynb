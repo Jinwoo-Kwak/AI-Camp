{
  "nbformat": 4,
  "nbformat_minor": 0,
  "metadata": {
    "colab": {
      "name": "Neural_Nets_MNIST.ipynb",
      "provenance": [],
      "authorship_tag": "ABX9TyO725lOhQ6tMhiH5MGdabxi"
    },
    "kernelspec": {
      "name": "python3",
      "display_name": "Python 3"
    },
    "language_info": {
      "name": "python"
    }
  },
  "cells": [
    {
      "cell_type": "code",
      "execution_count": null,
      "metadata": {
        "id": "kgflteMejoQR"
      },
      "outputs": [],
      "source": [
        "import numpy as np\n",
        "import matplotlib.pyplot as plt\n",
        "import tensorflow as tf\n",
        "from tensorflow import keras\n",
        "from tensorflow.keras.models import Sequential\n",
        "from tensorflow.keras.layers import Dense\n",
        "from tensorflow.keras.utils import to_categorical\n",
        "from sklearn.preprocessing import minmax_scale\n",
        "from sklearn.model_selection import train_test_split"
      ]
    },
    {
      "cell_type": "code",
      "source": [
        "X = np.load('X.npy')\n",
        "Y = np.load('y.npy')"
      ],
      "metadata": {
        "id": "W5xY83Cxjp2h"
      },
      "execution_count": null,
      "outputs": []
    },
    {
      "cell_type": "code",
      "source": [
        "Y = to_categorical(Y)"
      ],
      "metadata": {
        "id": "NtHzCIN2jrki"
      },
      "execution_count": null,
      "outputs": []
    },
    {
      "cell_type": "code",
      "source": [
        "X = minmax_scale(X)"
      ],
      "metadata": {
        "id": "PPbESh1fj141"
      },
      "execution_count": null,
      "outputs": []
    },
    {
      "cell_type": "code",
      "source": [
        "X_train,X_test,Y_train,Y_test = train_test_split(X,Y)"
      ],
      "metadata": {
        "id": "Cf2mu3xpj6MW"
      },
      "execution_count": null,
      "outputs": []
    },
    {
      "cell_type": "code",
      "source": [
        "model = keras.Sequential()\n",
        "\n",
        "for i in range(8):\n",
        "  model.add(Dense(32,activation='relu'))\n",
        "\n",
        "model.add(Dense(10,activation='softmax'))\n",
        "model.compile(loss='categorical_crossentropy',optimizer='adam',metrics=['accuracy'])"
      ],
      "metadata": {
        "id": "_Asj9XWfkJb_"
      },
      "execution_count": null,
      "outputs": []
    },
    {
      "cell_type": "code",
      "source": [
        "model.fit(X_train,Y_train,epochs=100)"
      ],
      "metadata": {
        "colab": {
          "base_uri": "https://localhost:8080/"
        },
        "id": "wOos6ypVkqeB",
        "outputId": "0e0de6ec-1209-4c49-e396-9243db978d00"
      },
      "execution_count": null,
      "outputs": [
        {
          "output_type": "stream",
          "name": "stdout",
          "text": [
            "Epoch 1/100\n",
            "118/118 [==============================] - 1s 3ms/step - loss: 1.9219 - accuracy: 0.2995\n",
            "Epoch 2/100\n",
            "118/118 [==============================] - 0s 3ms/step - loss: 0.8873 - accuracy: 0.6920\n",
            "Epoch 3/100\n",
            "118/118 [==============================] - 0s 3ms/step - loss: 0.6247 - accuracy: 0.7957\n",
            "Epoch 4/100\n",
            "118/118 [==============================] - 0s 3ms/step - loss: 0.5129 - accuracy: 0.8365\n",
            "Epoch 5/100\n",
            "118/118 [==============================] - 0s 3ms/step - loss: 0.4503 - accuracy: 0.8557\n",
            "Epoch 6/100\n",
            "118/118 [==============================] - 0s 3ms/step - loss: 0.3481 - accuracy: 0.8973\n",
            "Epoch 7/100\n",
            "118/118 [==============================] - 0s 3ms/step - loss: 0.3144 - accuracy: 0.9037\n",
            "Epoch 8/100\n",
            "118/118 [==============================] - 0s 3ms/step - loss: 0.2761 - accuracy: 0.9155\n",
            "Epoch 9/100\n",
            "118/118 [==============================] - 0s 3ms/step - loss: 0.2597 - accuracy: 0.9221\n",
            "Epoch 10/100\n",
            "118/118 [==============================] - 0s 3ms/step - loss: 0.2044 - accuracy: 0.9365\n",
            "Epoch 11/100\n",
            "118/118 [==============================] - 0s 3ms/step - loss: 0.1994 - accuracy: 0.9416\n",
            "Epoch 12/100\n",
            "118/118 [==============================] - 0s 3ms/step - loss: 0.1885 - accuracy: 0.9459\n",
            "Epoch 13/100\n",
            "118/118 [==============================] - 0s 3ms/step - loss: 0.1995 - accuracy: 0.9376\n",
            "Epoch 14/100\n",
            "118/118 [==============================] - 0s 3ms/step - loss: 0.1666 - accuracy: 0.9499\n",
            "Epoch 15/100\n",
            "118/118 [==============================] - 0s 3ms/step - loss: 0.1398 - accuracy: 0.9587\n",
            "Epoch 16/100\n",
            "118/118 [==============================] - 0s 3ms/step - loss: 0.1306 - accuracy: 0.9611\n",
            "Epoch 17/100\n",
            "118/118 [==============================] - 0s 3ms/step - loss: 0.1187 - accuracy: 0.9627\n",
            "Epoch 18/100\n",
            "118/118 [==============================] - 0s 3ms/step - loss: 0.1371 - accuracy: 0.9536\n",
            "Epoch 19/100\n",
            "118/118 [==============================] - 0s 3ms/step - loss: 0.1231 - accuracy: 0.9579\n",
            "Epoch 20/100\n",
            "118/118 [==============================] - 0s 3ms/step - loss: 0.1240 - accuracy: 0.9600\n",
            "Epoch 21/100\n",
            "118/118 [==============================] - 0s 3ms/step - loss: 0.0892 - accuracy: 0.9731\n",
            "Epoch 22/100\n",
            "118/118 [==============================] - 0s 3ms/step - loss: 0.0761 - accuracy: 0.9765\n",
            "Epoch 23/100\n",
            "118/118 [==============================] - 0s 3ms/step - loss: 0.0859 - accuracy: 0.9709\n",
            "Epoch 24/100\n",
            "118/118 [==============================] - 0s 3ms/step - loss: 0.0833 - accuracy: 0.9741\n",
            "Epoch 25/100\n",
            "118/118 [==============================] - 0s 3ms/step - loss: 0.0753 - accuracy: 0.9744\n",
            "Epoch 26/100\n",
            "118/118 [==============================] - 0s 3ms/step - loss: 0.0607 - accuracy: 0.9811\n",
            "Epoch 27/100\n",
            "118/118 [==============================] - 0s 3ms/step - loss: 0.0560 - accuracy: 0.9835\n",
            "Epoch 28/100\n",
            "118/118 [==============================] - 0s 3ms/step - loss: 0.0736 - accuracy: 0.9749\n",
            "Epoch 29/100\n",
            "118/118 [==============================] - 0s 3ms/step - loss: 0.0868 - accuracy: 0.9755\n",
            "Epoch 30/100\n",
            "118/118 [==============================] - 0s 3ms/step - loss: 0.0550 - accuracy: 0.9819\n",
            "Epoch 31/100\n",
            "118/118 [==============================] - 0s 3ms/step - loss: 0.0856 - accuracy: 0.9747\n",
            "Epoch 32/100\n",
            "118/118 [==============================] - 0s 3ms/step - loss: 0.0993 - accuracy: 0.9685\n",
            "Epoch 33/100\n",
            "118/118 [==============================] - 0s 3ms/step - loss: 0.0541 - accuracy: 0.9816\n",
            "Epoch 34/100\n",
            "118/118 [==============================] - 0s 3ms/step - loss: 0.0578 - accuracy: 0.9789\n",
            "Epoch 35/100\n",
            "118/118 [==============================] - 0s 3ms/step - loss: 0.0637 - accuracy: 0.9797\n",
            "Epoch 36/100\n",
            "118/118 [==============================] - 0s 3ms/step - loss: 0.0449 - accuracy: 0.9853\n",
            "Epoch 37/100\n",
            "118/118 [==============================] - 0s 3ms/step - loss: 0.0312 - accuracy: 0.9904\n",
            "Epoch 38/100\n",
            "118/118 [==============================] - 0s 3ms/step - loss: 0.0175 - accuracy: 0.9949\n",
            "Epoch 39/100\n",
            "118/118 [==============================] - 0s 3ms/step - loss: 0.0523 - accuracy: 0.9837\n",
            "Epoch 40/100\n",
            "118/118 [==============================] - 0s 3ms/step - loss: 0.0989 - accuracy: 0.9664\n",
            "Epoch 41/100\n",
            "118/118 [==============================] - 0s 3ms/step - loss: 0.0321 - accuracy: 0.9893\n",
            "Epoch 42/100\n",
            "118/118 [==============================] - 0s 3ms/step - loss: 0.0155 - accuracy: 0.9939\n",
            "Epoch 43/100\n",
            "118/118 [==============================] - 0s 3ms/step - loss: 0.0571 - accuracy: 0.9808\n",
            "Epoch 44/100\n",
            "118/118 [==============================] - 0s 3ms/step - loss: 0.0431 - accuracy: 0.9848\n",
            "Epoch 45/100\n",
            "118/118 [==============================] - 0s 3ms/step - loss: 0.0387 - accuracy: 0.9872\n",
            "Epoch 46/100\n",
            "118/118 [==============================] - 0s 3ms/step - loss: 0.0220 - accuracy: 0.9931\n",
            "Epoch 47/100\n",
            "118/118 [==============================] - 0s 3ms/step - loss: 0.0188 - accuracy: 0.9936\n",
            "Epoch 48/100\n",
            "118/118 [==============================] - 0s 3ms/step - loss: 0.0395 - accuracy: 0.9861\n",
            "Epoch 49/100\n",
            "118/118 [==============================] - 0s 3ms/step - loss: 0.0562 - accuracy: 0.9824\n",
            "Epoch 50/100\n",
            "118/118 [==============================] - 0s 3ms/step - loss: 0.0504 - accuracy: 0.9832\n",
            "Epoch 51/100\n",
            "118/118 [==============================] - 0s 3ms/step - loss: 0.0297 - accuracy: 0.9899\n",
            "Epoch 52/100\n",
            "118/118 [==============================] - 0s 3ms/step - loss: 0.0176 - accuracy: 0.9939\n",
            "Epoch 53/100\n",
            "118/118 [==============================] - 0s 3ms/step - loss: 0.0278 - accuracy: 0.9904\n",
            "Epoch 54/100\n",
            "118/118 [==============================] - 0s 3ms/step - loss: 0.0512 - accuracy: 0.9848\n",
            "Epoch 55/100\n",
            "118/118 [==============================] - 0s 3ms/step - loss: 0.0647 - accuracy: 0.9808\n",
            "Epoch 56/100\n",
            "118/118 [==============================] - 0s 3ms/step - loss: 0.0231 - accuracy: 0.9920\n",
            "Epoch 57/100\n",
            "118/118 [==============================] - 0s 3ms/step - loss: 0.0220 - accuracy: 0.9928\n",
            "Epoch 58/100\n",
            "118/118 [==============================] - 0s 3ms/step - loss: 0.0682 - accuracy: 0.9789\n",
            "Epoch 59/100\n",
            "118/118 [==============================] - 0s 3ms/step - loss: 0.0226 - accuracy: 0.9931\n",
            "Epoch 60/100\n",
            "118/118 [==============================] - 0s 3ms/step - loss: 0.0098 - accuracy: 0.9965\n",
            "Epoch 61/100\n",
            "118/118 [==============================] - 0s 3ms/step - loss: 0.0190 - accuracy: 0.9931\n",
            "Epoch 62/100\n",
            "118/118 [==============================] - 0s 3ms/step - loss: 0.0421 - accuracy: 0.9883\n",
            "Epoch 63/100\n",
            "118/118 [==============================] - 0s 3ms/step - loss: 0.0195 - accuracy: 0.9949\n",
            "Epoch 64/100\n",
            "118/118 [==============================] - 0s 3ms/step - loss: 0.0533 - accuracy: 0.9821\n",
            "Epoch 65/100\n",
            "118/118 [==============================] - 0s 3ms/step - loss: 0.0137 - accuracy: 0.9955\n",
            "Epoch 66/100\n",
            "118/118 [==============================] - 0s 3ms/step - loss: 0.0135 - accuracy: 0.9955\n",
            "Epoch 67/100\n",
            "118/118 [==============================] - 0s 3ms/step - loss: 0.0043 - accuracy: 0.9992\n",
            "Epoch 68/100\n",
            "118/118 [==============================] - 0s 3ms/step - loss: 0.0023 - accuracy: 0.9995\n",
            "Epoch 69/100\n",
            "118/118 [==============================] - 0s 3ms/step - loss: 0.0015 - accuracy: 0.9997\n",
            "Epoch 70/100\n",
            "118/118 [==============================] - 0s 3ms/step - loss: 0.0012 - accuracy: 1.0000\n",
            "Epoch 71/100\n",
            "118/118 [==============================] - 0s 3ms/step - loss: 0.0011 - accuracy: 1.0000\n",
            "Epoch 72/100\n",
            "118/118 [==============================] - 0s 3ms/step - loss: 0.0015 - accuracy: 0.9995\n",
            "Epoch 73/100\n",
            "118/118 [==============================] - 0s 3ms/step - loss: 0.0126 - accuracy: 0.9971\n",
            "Epoch 74/100\n",
            "118/118 [==============================] - 0s 3ms/step - loss: 0.1526 - accuracy: 0.9592\n",
            "Epoch 75/100\n",
            "118/118 [==============================] - 0s 3ms/step - loss: 0.0401 - accuracy: 0.9875\n",
            "Epoch 76/100\n",
            "118/118 [==============================] - 0s 2ms/step - loss: 0.0121 - accuracy: 0.9973\n",
            "Epoch 77/100\n",
            "118/118 [==============================] - 0s 3ms/step - loss: 0.0095 - accuracy: 0.9965\n",
            "Epoch 78/100\n",
            "118/118 [==============================] - 0s 3ms/step - loss: 0.0501 - accuracy: 0.9848\n",
            "Epoch 79/100\n",
            "118/118 [==============================] - 0s 3ms/step - loss: 0.0266 - accuracy: 0.9933\n",
            "Epoch 80/100\n",
            "118/118 [==============================] - 0s 3ms/step - loss: 0.0084 - accuracy: 0.9981\n",
            "Epoch 81/100\n",
            "118/118 [==============================] - 0s 3ms/step - loss: 0.0435 - accuracy: 0.9877\n",
            "Epoch 82/100\n",
            "118/118 [==============================] - 0s 3ms/step - loss: 0.0152 - accuracy: 0.9965\n",
            "Epoch 83/100\n",
            "118/118 [==============================] - 0s 3ms/step - loss: 0.0034 - accuracy: 0.9997\n",
            "Epoch 84/100\n",
            "118/118 [==============================] - 0s 3ms/step - loss: 0.0012 - accuracy: 1.0000\n",
            "Epoch 85/100\n",
            "118/118 [==============================] - 0s 3ms/step - loss: 8.1964e-04 - accuracy: 1.0000\n",
            "Epoch 86/100\n",
            "118/118 [==============================] - 0s 3ms/step - loss: 6.6047e-04 - accuracy: 1.0000\n",
            "Epoch 87/100\n",
            "118/118 [==============================] - 0s 3ms/step - loss: 5.5044e-04 - accuracy: 1.0000\n",
            "Epoch 88/100\n",
            "118/118 [==============================] - 0s 3ms/step - loss: 4.9178e-04 - accuracy: 1.0000\n",
            "Epoch 89/100\n",
            "118/118 [==============================] - 0s 3ms/step - loss: 3.9204e-04 - accuracy: 1.0000\n",
            "Epoch 90/100\n",
            "118/118 [==============================] - 0s 3ms/step - loss: 3.2357e-04 - accuracy: 1.0000\n",
            "Epoch 91/100\n",
            "118/118 [==============================] - 0s 3ms/step - loss: 2.7473e-04 - accuracy: 1.0000\n",
            "Epoch 92/100\n",
            "118/118 [==============================] - 0s 3ms/step - loss: 2.3924e-04 - accuracy: 1.0000\n",
            "Epoch 93/100\n",
            "118/118 [==============================] - 0s 2ms/step - loss: 2.1985e-04 - accuracy: 1.0000\n",
            "Epoch 94/100\n",
            "118/118 [==============================] - 0s 3ms/step - loss: 3.2888e-04 - accuracy: 1.0000\n",
            "Epoch 95/100\n",
            "118/118 [==============================] - 0s 2ms/step - loss: 0.0039 - accuracy: 0.9981\n",
            "Epoch 96/100\n",
            "118/118 [==============================] - 0s 3ms/step - loss: 0.1536 - accuracy: 0.9613\n",
            "Epoch 97/100\n",
            "118/118 [==============================] - 0s 3ms/step - loss: 0.0334 - accuracy: 0.9907\n",
            "Epoch 98/100\n",
            "118/118 [==============================] - 0s 2ms/step - loss: 0.0449 - accuracy: 0.9851\n",
            "Epoch 99/100\n",
            "118/118 [==============================] - 0s 3ms/step - loss: 0.0336 - accuracy: 0.9893\n",
            "Epoch 100/100\n",
            "118/118 [==============================] - 0s 3ms/step - loss: 0.0813 - accuracy: 0.9763\n"
          ]
        },
        {
          "output_type": "execute_result",
          "data": {
            "text/plain": [
              "<keras.callbacks.History at 0x7fd1b4cb1150>"
            ]
          },
          "metadata": {},
          "execution_count": 7
        }
      ]
    },
    {
      "cell_type": "code",
      "source": [
        "print(model.metrics_names)"
      ],
      "metadata": {
        "colab": {
          "base_uri": "https://localhost:8080/"
        },
        "id": "EdDmaR1tk2t6",
        "outputId": "9d677e5f-1ee0-4bd6-8d8e-c14eddcfe983"
      },
      "execution_count": null,
      "outputs": [
        {
          "output_type": "stream",
          "name": "stdout",
          "text": [
            "['loss', 'accuracy']\n"
          ]
        }
      ]
    },
    {
      "cell_type": "code",
      "source": [
        "model.evaluate(X_test,Y_test)"
      ],
      "metadata": {
        "colab": {
          "base_uri": "https://localhost:8080/"
        },
        "id": "9Yn8sHIUk5Hx",
        "outputId": "3874b951-fea2-4b39-f36b-7c78129f9b92"
      },
      "execution_count": null,
      "outputs": [
        {
          "output_type": "stream",
          "name": "stdout",
          "text": [
            "40/40 [==============================] - 0s 2ms/step - loss: 0.3820 - accuracy: 0.9224\n"
          ]
        },
        {
          "output_type": "execute_result",
          "data": {
            "text/plain": [
              "[0.3820360004901886, 0.9223999977111816]"
            ]
          },
          "metadata": {},
          "execution_count": 8
        }
      ]
    },
    {
      "cell_type": "code",
      "source": [
        "original_Y = np.load('y.npy')\n",
        "X = X.reshape(X.shape[0],20,20)\n",
        "print(X.shape)\n",
        "n = 4\n",
        "\n",
        "for i in range(len(original_Y)):\n",
        "  print(np.argmax(model.predict(np.array([X[i].reshape(400)]))[0]))\n",
        "  plt.imshow(X[i].transpose(),cmap='gray')\n",
        "  break"
      ],
      "metadata": {
        "colab": {
          "base_uri": "https://localhost:8080/",
          "height": 300
        },
        "id": "0GLrEqAIk8t-",
        "outputId": "3d73b779-62ce-49bf-a127-6cad39360e0b"
      },
      "execution_count": null,
      "outputs": [
        {
          "output_type": "stream",
          "name": "stdout",
          "text": [
            "(5000, 20, 20)\n",
            "0\n"
          ]
        },
        {
          "output_type": "display_data",
          "data": {
            "text/plain": [
              "<Figure size 432x288 with 1 Axes>"
            ],
            "image/png": "[encoded data removed]"
          },
          "metadata": {
            "needs_background": "light"
          }
        }
      ]
    }
  ]
}