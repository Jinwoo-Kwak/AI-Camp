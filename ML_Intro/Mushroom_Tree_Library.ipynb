{
  "nbformat": 4,
  "nbformat_minor": 0,
  "metadata": {
    "colab": {
      "name": "Mushroom_Tree_Library.ipynb",
      "provenance": [],
      "authorship_tag": "ABX9TyN28XaEjMg4+TvX63Haotb1",
      "include_colab_link": true
    },
    "kernelspec": {
      "name": "python3",
      "display_name": "Python 3"
    },
    "language_info": {
      "name": "python"
    }
  },
  "cells": [
    {
      "cell_type": "markdown",
      "metadata": {
        "id": "view-in-github",
        "colab_type": "text"
      },
      "source": [
        "<a href=\"https://colab.research.google.com/github/conuwoo/AI-Camp-Summer-2022/blob/main/ML_Intro/Mushroom_Tree_Library.ipynb\" target=\"_parent\"><img src=\"https://colab.research.google.com/assets/colab-badge.svg\" alt=\"Open In Colab\"/></a>"
      ]
    },
    {
      "cell_type": "code",
      "execution_count": 95,
      "metadata": {
        "id": "DLf8StWq3cdm"
      },
      "outputs": [],
      "source": [
        "import pandas as pd\n",
        "import numpy as np\n",
        "import math"
      ]
    },
    {
      "cell_type": "code",
      "source": [
        "mush_train = pd.read_csv(\"mush_train.data\", header = None)\n",
        "mush_train = mush_train.to_numpy()\n",
        "\n",
        "mush_test = pd.read_csv(\"mush_test.data\", header = None)\n",
        "mush_test = mush_test.to_numpy()"
      ],
      "metadata": {
        "id": "E0MlYaSLX_un"
      },
      "execution_count": 96,
      "outputs": []
    },
    {
      "cell_type": "code",
      "source": [
        "X_train = mush_train[:,1:]\n",
        "Y_train = mush_train[:,0]\n",
        "\n",
        "X_test = mush_test[:,1:]\n",
        "Y_test = mush_test[:,0]"
      ],
      "metadata": {
        "id": "IZ_6gy7OYHGe"
      },
      "execution_count": 97,
      "outputs": []
    },
    {
      "cell_type": "markdown",
      "source": [
        "Train data"
      ],
      "metadata": {
        "id": "NcDm_12gih-3"
      }
    },
    {
      "cell_type": "code",
      "source": [
        "print(X_train.shape)\n",
        "print(Y_train.shape)"
      ],
      "metadata": {
        "colab": {
          "base_uri": "https://localhost:8080/"
        },
        "id": "X0oFY4hRiDyq",
        "outputId": "320c4726-3777-4680-cb79-85a9654997f9"
      },
      "execution_count": 98,
      "outputs": [
        {
          "output_type": "stream",
          "name": "stdout",
          "text": [
            "(4712, 22)\n",
            "(4712,)\n"
          ]
        }
      ]
    },
    {
      "cell_type": "code",
      "source": [
        "from sklearn import tree"
      ],
      "metadata": {
        "id": "cpBhkAj5YI4V"
      },
      "execution_count": 99,
      "outputs": []
    },
    {
      "cell_type": "code",
      "source": [
        "X_train = X_train.flatten()\n",
        "Y_train = Y_train.flatten()"
      ],
      "metadata": {
        "id": "9MG4TWRXbyAr"
      },
      "execution_count": 100,
      "outputs": []
    },
    {
      "cell_type": "code",
      "source": [
        "X_train.shape"
      ],
      "metadata": {
        "colab": {
          "base_uri": "https://localhost:8080/"
        },
        "id": "pcGS3t2Ie6oz",
        "outputId": "35732cdc-d453-42d0-ed40-950e3e0458be"
      },
      "execution_count": 101,
      "outputs": [
        {
          "output_type": "execute_result",
          "data": {
            "text/plain": [
              "(103664,)"
            ]
          },
          "metadata": {},
          "execution_count": 101
        }
      ]
    },
    {
      "cell_type": "code",
      "source": [
        "from sklearn import preprocessing\n",
        "label_encoder = preprocessing.LabelEncoder()\n",
        "X_train = label_encoder.fit_transform(X_train)\n",
        "Y_train = label_encoder.fit_transform(Y_train)"
      ],
      "metadata": {
        "id": "CdVpBsQkdYcS"
      },
      "execution_count": 102,
      "outputs": []
    },
    {
      "cell_type": "code",
      "source": [
        "X_train = X_train.reshape(4712,22)\n",
        "Y_train = Y_train.reshape(4712,)"
      ],
      "metadata": {
        "id": "WFeAS6Jrfz39"
      },
      "execution_count": 103,
      "outputs": []
    },
    {
      "cell_type": "code",
      "source": [
        "from sklearn import tree\n",
        "clf = tree.DecisionTreeRegressor()\n",
        "clf = clf.fit(X_train, Y_train)"
      ],
      "metadata": {
        "id": "I976AypEfjR5"
      },
      "execution_count": 104,
      "outputs": []
    },
    {
      "cell_type": "markdown",
      "source": [
        "Test data"
      ],
      "metadata": {
        "id": "6I5sLPK4if6n"
      }
    },
    {
      "cell_type": "code",
      "source": [
        "print(X_test.shape)\n",
        "print(Y_test.shape)"
      ],
      "metadata": {
        "colab": {
          "base_uri": "https://localhost:8080/"
        },
        "id": "vwmNRsjsifgb",
        "outputId": "90d79de5-89e4-438e-8d8b-d133941e2426"
      },
      "execution_count": 105,
      "outputs": [
        {
          "output_type": "stream",
          "name": "stdout",
          "text": [
            "(3412, 22)\n",
            "(3412,)\n"
          ]
        }
      ]
    },
    {
      "cell_type": "code",
      "source": [
        "X_test = X_test.flatten()\n",
        "Y_test = Y_test.flatten()"
      ],
      "metadata": {
        "id": "AMgrxAU9iv7E"
      },
      "execution_count": 106,
      "outputs": []
    },
    {
      "cell_type": "code",
      "source": [
        "from sklearn import preprocessing\n",
        "label_encoder = preprocessing.LabelEncoder()\n",
        "X_test = label_encoder.fit_transform(X_test)\n",
        "Y_test = label_encoder.fit_transform(Y_test)"
      ],
      "metadata": {
        "id": "fcB32_czi2yP"
      },
      "execution_count": 107,
      "outputs": []
    },
    {
      "cell_type": "code",
      "source": [
        "X_test = X_test.reshape(3412,22)\n",
        "Y_test = Y_test.reshape(3412,)"
      ],
      "metadata": {
        "id": "OxFkgP4-i4ga"
      },
      "execution_count": 108,
      "outputs": []
    },
    {
      "cell_type": "markdown",
      "source": [
        "Predicting"
      ],
      "metadata": {
        "id": "94XFvJm6jIsj"
      }
    },
    {
      "cell_type": "code",
      "source": [
        "clf.score(X_test,Y_test)"
      ],
      "metadata": {
        "colab": {
          "base_uri": "https://localhost:8080/"
        },
        "id": "dKhKkc4CjIUa",
        "outputId": "7461949c-7148-4aaf-c610-7b6f1feceed1"
      },
      "execution_count": 110,
      "outputs": [
        {
          "output_type": "execute_result",
          "data": {
            "text/plain": [
              "1.0"
            ]
          },
          "metadata": {},
          "execution_count": 110
        }
      ]
    }
  ]
}