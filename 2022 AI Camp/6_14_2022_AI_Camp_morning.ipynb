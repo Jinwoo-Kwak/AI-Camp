{
  "nbformat": 4,
  "nbformat_minor": 0,
  "metadata": {
    "colab": {
      "name": "6/14/2022 AI Camp morning",
      "provenance": [],
      "authorship_tag": "ABX9TyPLILiG78VH8vY6tz5ijqkR",
      "include_colab_link": true
    },
    "kernelspec": {
      "name": "python3",
      "display_name": "Python 3"
    },
    "language_info": {
      "name": "python"
    }
  },
  "cells": [
    {
      "cell_type": "markdown",
      "metadata": {
        "id": "view-in-github",
        "colab_type": "text"
      },
      "source": [
        "<a href=\"https://colab.research.google.com/github/Jinwoo-Kwak/Data-visualization-project/blob/main/6_14_2022_AI_Camp_morning.ipynb\" target=\"_parent\"><img src=\"https://colab.research.google.com/assets/colab-badge.svg\" alt=\"Open In Colab\"/></a>"
      ]
    },
    {
      "cell_type": "markdown",
      "source": [
        "Find the sum and difference\n"
      ],
      "metadata": {
        "id": "Ln8PCwyK0O8w"
      }
    },
    {
      "cell_type": "code",
      "execution_count": 6,
      "metadata": {
        "colab": {
          "base_uri": "https://localhost:8080/"
        },
        "id": "uBCrX-BHwHAN",
        "outputId": "d9790d5d-eaf7-4c2e-aed8-aabcbce87291"
      },
      "outputs": [
        {
          "output_type": "stream",
          "name": "stdout",
          "text": [
            "Input your first number: 4\n",
            "Input your second number: 5\n",
            "Sum: 9\n",
            "Difference: 1\n"
          ]
        }
      ],
      "source": [
        "msg1 = int(input(\"Input your first number: \"))\n",
        "msg2 = int(input(\"Input your second number: \"))\n",
        "sum = msg1 + msg2\n",
        "difference = abs(msg1-msg2)\n",
        "print(\"Sum: \" + str(sum))\n",
        "print(\"Difference: \" + str(difference))"
      ]
    },
    {
      "cell_type": "markdown",
      "source": [
        "List"
      ],
      "metadata": {
        "id": "y1zX5ktL1Hs6"
      }
    },
    {
      "cell_type": "code",
      "source": [
        "l1 = []\n",
        "l2 = list()\n",
        "\n",
        "l3 = [1,2,3,3.4,'str']\n",
        "print(l3[4])\n",
        "print(l3[-1])\n",
        "print(l3[0:5])\n",
        "print(l3[2:4])\n",
        "print(l3[:])"
      ],
      "metadata": {
        "colab": {
          "base_uri": "https://localhost:8080/"
        },
        "id": "8HDGqSDR1JIJ",
        "outputId": "206d6938-912d-4ca3-e31f-602dd07f5989"
      },
      "execution_count": 11,
      "outputs": [
        {
          "output_type": "stream",
          "name": "stdout",
          "text": [
            "str\n",
            "str\n",
            "[1, 2, 3, 3.4, 'str']\n",
            "[3, 3.4]\n",
            "[1, 2, 3, 3.4, 'str']\n"
          ]
        }
      ]
    },
    {
      "cell_type": "code",
      "source": [
        "msg = \"David\"\n",
        "print(msg[0])\n",
        "\n",
        "print(l3)\n",
        "l3[0] = -1\n",
        "print(l3)"
      ],
      "metadata": {
        "colab": {
          "base_uri": "https://localhost:8080/"
        },
        "id": "-4H2eLTp3gcZ",
        "outputId": "5e53a717-d27a-4a71-eca3-404f4db8654e"
      },
      "execution_count": 12,
      "outputs": [
        {
          "output_type": "stream",
          "name": "stdout",
          "text": [
            "D\n",
            "[1, 2, 3, 3.4, 'str']\n",
            "[-1, 2, 3, 3.4, 'str']\n"
          ]
        }
      ]
    },
    {
      "cell_type": "code",
      "source": [
        "print(l3)\n",
        "print(len(l3))\n",
        "print(len([]))\n",
        "\n",
        "#Add elements to the list\n",
        "lt = []\n",
        "print(lt)\n",
        "lt.append(2)\n",
        "print(lt)"
      ],
      "metadata": {
        "colab": {
          "base_uri": "https://localhost:8080/"
        },
        "id": "xNyWR6DV4EO3",
        "outputId": "878e01df-a8f6-43ac-c7df-9c72090f3566"
      },
      "execution_count": 16,
      "outputs": [
        {
          "output_type": "stream",
          "name": "stdout",
          "text": [
            "[-1, 2, 3, 3.4, 'str']\n",
            "5\n",
            "0\n",
            "[]\n",
            "[2]\n"
          ]
        }
      ]
    },
    {
      "cell_type": "code",
      "source": [
        "lt.append([1,2,3])\n",
        "print(lt)\n",
        "\n",
        "#how to remove\n",
        "lt.remove(2)"
      ],
      "metadata": {
        "colab": {
          "base_uri": "https://localhost:8080/"
        },
        "id": "UM1nKlTx5CbU",
        "outputId": "272f4f49-9450-4a23-a913-8f025c23d337"
      },
      "execution_count": 20,
      "outputs": [
        {
          "output_type": "stream",
          "name": "stdout",
          "text": [
            "[2, [1, 2, 3], [1, 2, 3], [1, 2, 3], [1, 2, 3]]\n"
          ]
        }
      ]
    },
    {
      "cell_type": "code",
      "source": [
        "#range(5) -> sequence 0,1,2,3,4\n",
        "li = list(range(5))\n",
        "print(li)\n",
        "\n",
        "list1 = list(range(1,5))\n",
        "print(li)\n",
        "\n",
        "#for loop\n",
        "for i in list1:\n",
        "  print(i)"
      ],
      "metadata": {
        "colab": {
          "base_uri": "https://localhost:8080/"
        },
        "id": "LVw6G0eB5uk6",
        "outputId": "5ebac9fa-846b-4bfd-e1bc-41f3490a245d"
      },
      "execution_count": 23,
      "outputs": [
        {
          "output_type": "stream",
          "name": "stdout",
          "text": [
            "[0, 1, 2, 3, 4]\n",
            "[0, 1, 2, 3, 4]\n",
            "1\n",
            "2\n",
            "3\n",
            "4\n"
          ]
        }
      ]
    },
    {
      "cell_type": "code",
      "source": [
        "import random\n",
        "num = int(input())\n",
        "for i in range(1,num+1):\n",
        "  print(i)\n",
        "\n",
        "sum = 0\n",
        "for i in range(1,num+1):\n",
        "  sum += i\n",
        "print(sum)\n",
        "\n",
        "randomlist = random.sample(range(10,80),5)\n",
        "\n",
        "print(sum(randomlist))\n",
        "print(min(randomlist))\n",
        "print(max(randomlist))"
      ],
      "metadata": {
        "colab": {
          "base_uri": "https://localhost:8080/",
          "height": 339
        },
        "id": "pYenavk39kbV",
        "outputId": "8eaada14-3e3c-4e26-8444-0b4cf385a0ac"
      },
      "execution_count": 46,
      "outputs": [
        {
          "output_type": "stream",
          "name": "stdout",
          "text": [
            "4\n",
            "1\n",
            "2\n",
            "3\n",
            "4\n",
            "10\n"
          ]
        },
        {
          "output_type": "error",
          "ename": "TypeError",
          "evalue": "ignored",
          "traceback": [
            "\u001b[0;31m---------------------------------------------------------------------------\u001b[0m",
            "\u001b[0;31mTypeError\u001b[0m                                 Traceback (most recent call last)",
            "\u001b[0;32m<ipython-input-46-81dfdaa6b27a>\u001b[0m in \u001b[0;36m<module>\u001b[0;34m()\u001b[0m\n\u001b[1;32m     11\u001b[0m \u001b[0mrandomlist\u001b[0m \u001b[0;34m=\u001b[0m \u001b[0mrandom\u001b[0m\u001b[0;34m.\u001b[0m\u001b[0msample\u001b[0m\u001b[0;34m(\u001b[0m\u001b[0mrange\u001b[0m\u001b[0;34m(\u001b[0m\u001b[0;36m10\u001b[0m\u001b[0;34m,\u001b[0m\u001b[0;36m80\u001b[0m\u001b[0;34m)\u001b[0m\u001b[0;34m,\u001b[0m\u001b[0;36m5\u001b[0m\u001b[0;34m)\u001b[0m\u001b[0;34m\u001b[0m\u001b[0;34m\u001b[0m\u001b[0m\n\u001b[1;32m     12\u001b[0m \u001b[0;34m\u001b[0m\u001b[0m\n\u001b[0;32m---> 13\u001b[0;31m \u001b[0mprint\u001b[0m\u001b[0;34m(\u001b[0m\u001b[0msum\u001b[0m\u001b[0;34m(\u001b[0m\u001b[0mrandomlist\u001b[0m\u001b[0;34m)\u001b[0m\u001b[0;34m)\u001b[0m\u001b[0;34m\u001b[0m\u001b[0;34m\u001b[0m\u001b[0m\n\u001b[0m\u001b[1;32m     14\u001b[0m \u001b[0mprint\u001b[0m\u001b[0;34m(\u001b[0m\u001b[0mmin\u001b[0m\u001b[0;34m(\u001b[0m\u001b[0mrandomlist\u001b[0m\u001b[0;34m)\u001b[0m\u001b[0;34m)\u001b[0m\u001b[0;34m\u001b[0m\u001b[0;34m\u001b[0m\u001b[0m\n\u001b[1;32m     15\u001b[0m \u001b[0mprint\u001b[0m\u001b[0;34m(\u001b[0m\u001b[0mmax\u001b[0m\u001b[0;34m(\u001b[0m\u001b[0mrandomlist\u001b[0m\u001b[0;34m)\u001b[0m\u001b[0;34m)\u001b[0m\u001b[0;34m\u001b[0m\u001b[0;34m\u001b[0m\u001b[0m\n",
            "\u001b[0;31mTypeError\u001b[0m: 'int' object is not callable"
          ]
        }
      ]
    },
    {
      "cell_type": "markdown",
      "source": [
        "rock paper scissors"
      ],
      "metadata": {
        "id": "of8B0ti5_v-5"
      }
    },
    {
      "cell_type": "code",
      "source": [
        "import random\n",
        "#0 is rock, 1 is paper, 2 is scissors\n",
        "bot = random.randint(0,2)\n",
        "user_choice = int(input(\"0 is rock, 1 is paper, 2 is scissors, What's your move? \"))\n",
        "\n",
        "#decision\n",
        "if(bot==0 and user_choice==1):\n",
        "  print(\"You won!\")\n",
        "elif(bot==0 and user_choice==2):\n",
        "  print(\"Bot won!\")\n",
        "elif(bot==1 and user_choice==0):\n",
        "  print(\"Bot won!\")\n",
        "elif(bot==1 and user_choice==2):\n",
        "  print(\"You won!\")\n",
        "elif(bot==2 and user_choice==0):\n",
        "  print(\"You won!\")\n",
        "elif(bot==2 and user_choice==1):\n",
        "  print(\"Bot won!\")\n",
        "else:\n",
        "  print(\"It's a draw!\")\n"
      ],
      "metadata": {
        "colab": {
          "base_uri": "https://localhost:8080/"
        },
        "id": "1rvAiQgk_zvA",
        "outputId": "1ebcdc5a-c3fb-41da-8e29-c78cf910fcfa"
      },
      "execution_count": 47,
      "outputs": [
        {
          "output_type": "stream",
          "name": "stdout",
          "text": [
            "0 is rock, 1 is paper, 2 is scissors, What's your move? 3\n",
            "It's a draw!\n"
          ]
        }
      ]
    },
    {
      "cell_type": "code",
      "source": [
        "#List within a list\n",
        "\n",
        "l1 = [1,2,3]\n",
        "l1[2]\n",
        "\n",
        "ll2 = [[1,2],[3,4]]\n",
        "print(ll2)\n",
        "ll2[0][1]\n",
        "\n",
        "print(ll2[:][1])\n",
        "print(ll2[:][0])\n",
        "\n",
        "#matrix\n",
        "# add, sub, multiply\n",
        "\n"
      ],
      "metadata": {
        "colab": {
          "base_uri": "https://localhost:8080/"
        },
        "id": "p4mWhkPNE0jE",
        "outputId": "c2d837c1-af66-49d2-e47d-079248270f51"
      },
      "execution_count": 92,
      "outputs": [
        {
          "output_type": "stream",
          "name": "stdout",
          "text": [
            "[[1, 2], [3, 4]]\n",
            "[3, 4]\n",
            "[1, 2]\n"
          ]
        }
      ]
    },
    {
      "cell_type": "code",
      "source": [
        "#Functions\n",
        "a = 10\n",
        "print(\"Hello! \", a)\n",
        "\n",
        "def myPrint(msg):\n",
        "  print(msg)"
      ],
      "metadata": {
        "id": "j8l2puwsVEu7"
      },
      "execution_count": null,
      "outputs": []
    },
    {
      "cell_type": "code",
      "source": [
        "#Fibonacci nth number\n",
        "def fibonacci(n):\n",
        "  #base case\n",
        "  if(n==1):\n",
        "    return 1\n",
        "  if(n==2):\n",
        "    return 1\n",
        "  #recursive case\n",
        "  else:\n",
        "    return fibonacci(n-1) + fibonacci(n-2) # for example, 2nd term will be 1(2-1) + 2(2-2)\n",
        "\n",
        "\n"
      ],
      "metadata": {
        "id": "GR0gY0_IXxas"
      },
      "execution_count": 78,
      "outputs": []
    },
    {
      "cell_type": "code",
      "source": [
        "import time \n",
        "start = time.time()\n",
        "fibonacci(1)\n",
        "end = time.time()\n",
        "print(\"time: \",end-start)"
      ],
      "metadata": {
        "colab": {
          "base_uri": "https://localhost:8080/"
        },
        "id": "SH6Ucf7Feg6r",
        "outputId": "e0298646-08d9-497c-e83f-2c1d682ab54e"
      },
      "execution_count": 81,
      "outputs": [
        {
          "output_type": "stream",
          "name": "stdout",
          "text": [
            "time:  5.173683166503906e-05\n"
          ]
        }
      ]
    },
    {
      "cell_type": "code",
      "source": [
        "import numpy as np\n",
        "from IPython.display import clear_output\n",
        "\n",
        "def play():\n",
        "  g_row = np.array([['','',''] ,['','',''] ,['','','']])\n",
        "  count = 0\n",
        "  #0 meaning it's not their turn, 1 meaning it's their turn\n",
        "  won = False\n",
        "  X_player = 0\n",
        "  Y_player = 1\n",
        "  while(won==False):\n",
        "    clear_output(wait=True)\n",
        "    print(g_row)\n",
        "  \n",
        "    if(X_player==1):\n",
        "      print(\"Player X turn\")\n",
        "      row = int(input(\"what row would you like to place?\"))\n",
        "      col = int(input(\"what column would you like to place?\"))\n",
        "      while(row<0 or row>2):\n",
        "        row = int(input(\"Out of index: pick 0-2\"))\n",
        "        col = int(input(\"Out of index: pick 0-2\"))\n",
        "      while(g_row[row][col]!=''):\n",
        "        row = int(input(\"That row is filled: pick a different number\"))\n",
        "        col = int(input(\"That column is filled: pick a different number\"))\n",
        "      g_row[row][col] += 'X'\n",
        "      count += 1\n",
        "      X_player = 0\n",
        "      Y_player = 1\n",
        "\n",
        "    else:\n",
        "      print(\"Player Y turn\")\n",
        "      row = int(input(\"what row would you like to place?\"))\n",
        "      col = int(input(\"what column would you like to place?\"))\n",
        "      while(row<0 or row>2):\n",
        "        row = int(input(\"Out of index: pick 0-2\"))\n",
        "        col = int(input(\"Out of index: pick 0-2\"))\n",
        "      while(g_row[row][col]!=''):\n",
        "        row = int(input(\"That row is filled: pick a different number\"))\n",
        "        col = int(input(\"That column is filled: pick a different number\"))\n",
        "      g_row[row][col] += 'Y'\n",
        "      count += 1\n",
        "      X_player = 1\n",
        "      Y_player = 0\n",
        "\n",
        "    #cases\n",
        "    if(g_row[0][0]==g_row[0][1]==g_row[0][2] and g_row[0][0]!=''and g_row[0][1]!=''and g_row[0][2]!=''):\n",
        "      won = True\n",
        "    elif(g_row[1][0]==g_row[1][1]==g_row[1][2]and g_row[1][0]!=''and g_row[1][1]!=''and g_row[1][0]!=''):\n",
        "      won = True\n",
        "    elif(g_row[2][0]==g_row[2][1]==g_row[2][2]and g_row[2][0]!=''and g_row[2][1]!=''and g_row[2][2]!=''):\n",
        "      won = True\n",
        "    elif(g_row[0][0]==g_row[1][0]==g_row[2][0]and g_row[0][0]!=''and g_row[1][0]!=''and g_row[2][0]!=''):\n",
        "      won = True\n",
        "    elif(g_row[0][1]==g_row[1][1]==g_row[2][1]and g_row[0][1]!=''and g_row[1][1]!=''and g_row[2][1]!=''):\n",
        "      won= True\n",
        "    elif(g_row[0][2]==g_row[1][2]==g_row[2][2]and g_row[0][2]!=''and g_row[1][2]!=''and g_row[2][2]!=''):\n",
        "      won = True\n",
        "    elif(g_row[0][0]==g_row[1][1]==g_row[2][2]and g_row[0][0]!=''and g_row[1][1]!=''and g_row[2][2]!=''):\n",
        "      won = True\n",
        "    elif(g_row[2][0]==g_row[1][1]==g_row[0][2]and g_row[2][0]!=''and g_row[1][1]!=''and g_row[2][0]!=''):\n",
        "      won = True\n",
        "    else:\n",
        "      won = False\n",
        "  print(g_row)\n",
        "  if(X_player==0):\n",
        "    print(\"X_player won!\")\n",
        "  if(Y_player==0):\n",
        "    print(\"Y_player won!\")\n",
        "  if(count==9):\n",
        "    print(\"Draw!\")\n",
        "    \n",
        "  "
      ],
      "metadata": {
        "id": "OhUF4QsSfQDk"
      },
      "execution_count": 222,
      "outputs": []
    },
    {
      "cell_type": "code",
      "source": [
        "import numpy as np\n",
        "from IPython.display import clear_output\n",
        "\n",
        "def play():\n",
        "  row = int(input(\"How many rows?\"))\n",
        "  col = int(input(\"How many columns?\"))\n",
        "  \n",
        "  g_row = np.full((row,col), '')\n",
        "  count = 0\n",
        "  #0 meaning it's not their turn, 1 meaning it's their turn\n",
        "  won = False\n",
        "  X_player = 0\n",
        "  Y_player = 1\n",
        "  while(won==False):\n",
        "    clear_output(wait=True)\n",
        "    print(g_row)\n",
        "  \n",
        "    if(X_player==1):\n",
        "      print(\"Player X turn\")\n",
        "      row = int(input(\"what row would you like to place?\"))\n",
        "      col = int(input(\"what column would you like to place?\"))\n",
        "      while(row<0 or row>2):\n",
        "        row = int(input(\"Out of index: pick 0-\"+row))\n",
        "        col = int(input(\"Out of index: pick 0-2\"+col))\n",
        "      while(g_row[row][col]!=''):\n",
        "        row = int(input(\"That row is filled: pick a different number\"))\n",
        "        col = int(input(\"That column is filled: pick a different number\"))\n",
        "      g_row[row][col] += 'X'\n",
        "      count += 1\n",
        "      X_player = 0\n",
        "      Y_player = 1\n",
        "\n",
        "    else:\n",
        "      print(\"Player Y turn\")\n",
        "      row = int(input(\"what row would you like to place?\"))\n",
        "      col = int(input(\"what column would you like to place?\"))\n",
        "      while(row<0 or row>2):\n",
        "        row = int(input(\"Out of index: pick 0-\"+row))\n",
        "        col = int(input(\"Out of index: pick 0-\"+col))\n",
        "      while(g_row[row][col]!=''):\n",
        "        row = int(input(\"That row is filled: pick a different number\"))\n",
        "        col = int(input(\"That column is filled: pick a different number\"))\n",
        "      g_row[row][col] += 'Y'\n",
        "      count += 1\n",
        "      X_player = 1\n",
        "      Y_player = 0\n",
        "\n",
        "    #cases\n",
        "    if(g_row[0][0]==g_row[0][1]==g_row[0][2] and g_row[0][0]!=''and g_row[0][1]!=''and g_row[0][2]!=''):\n",
        "      won = True\n",
        "    elif(g_row[1][0]==g_row[1][1]==g_row[1][2]and g_row[1][0]!=''and g_row[1][1]!=''and g_row[1][0]!=''):\n",
        "      won = True\n",
        "    elif(g_row[2][0]==g_row[2][1]==g_row[2][2]and g_row[2][0]!=''and g_row[2][1]!=''and g_row[2][2]!=''):\n",
        "      won = True\n",
        "    elif(g_row[0][0]==g_row[1][0]==g_row[2][0]and g_row[0][0]!=''and g_row[1][0]!=''and g_row[2][0]!=''):\n",
        "      won = True\n",
        "    elif(g_row[0][1]==g_row[1][1]==g_row[2][1]and g_row[0][1]!=''and g_row[1][1]!=''and g_row[2][1]!=''):\n",
        "      won= True\n",
        "    elif(g_row[0][2]==g_row[1][2]==g_row[2][2]and g_row[0][2]!=''and g_row[1][2]!=''and g_row[2][2]!=''):\n",
        "      won = True\n",
        "    elif(g_row[0][0]==g_row[1][1]==g_row[2][2]and g_row[0][0]!=''and g_row[1][1]!=''and g_row[2][2]!=''):\n",
        "      won = True\n",
        "    elif(g_row[2][0]==g_row[1][1]==g_row[0][2]and g_row[2][0]!=''and g_row[1][1]!=''and g_row[2][0]!=''):\n",
        "      won = True\n",
        "    else:\n",
        "      won = False\n",
        "  print(g_row)\n",
        "  if(X_player==0):\n",
        "    print(\"X_player won!\")\n",
        "  if(Y_player==0):\n",
        "    print(\"Y_player won!\")\n",
        "  if(row 9):\n",
        "    print(\"Draw!\")"
      ],
      "metadata": {
        "id": "ASYDYzFv-IRH"
      },
      "execution_count": 228,
      "outputs": []
    },
    {
      "cell_type": "code",
      "source": [
        "play()"
      ],
      "metadata": {
        "colab": {
          "base_uri": "https://localhost:8080/",
          "height": 322
        },
        "id": "WqkVQ-uuuldj",
        "outputId": "cf3643c2-8643-4d19-dc7f-acbbdefe907c"
      },
      "execution_count": 229,
      "outputs": [
        {
          "name": "stdout",
          "output_type": "stream",
          "text": [
            "How many rows?1\n",
            "How many columns?1\n"
          ]
        },
        {
          "output_type": "error",
          "ename": "IndexError",
          "evalue": "ignored",
          "traceback": [
            "\u001b[0;31m---------------------------------------------------------------------------\u001b[0m",
            "\u001b[0;31mIndexError\u001b[0m                                Traceback (most recent call last)",
            "\u001b[0;32m<ipython-input-229-425fd712de3c>\u001b[0m in \u001b[0;36m<module>\u001b[0;34m()\u001b[0m\n\u001b[0;32m----> 1\u001b[0;31m \u001b[0mplay\u001b[0m\u001b[0;34m(\u001b[0m\u001b[0;34m)\u001b[0m\u001b[0;34m\u001b[0m\u001b[0;34m\u001b[0m\u001b[0m\n\u001b[0m",
            "\u001b[0;32m<ipython-input-228-32cf34addd0c>\u001b[0m in \u001b[0;36mplay\u001b[0;34m()\u001b[0m\n\u001b[1;32m      6\u001b[0m   \u001b[0minit_col\u001b[0m \u001b[0;34m=\u001b[0m \u001b[0mint\u001b[0m\u001b[0;34m(\u001b[0m\u001b[0minput\u001b[0m\u001b[0;34m(\u001b[0m\u001b[0;34m\"How many columns?\"\u001b[0m\u001b[0;34m)\u001b[0m\u001b[0;34m)\u001b[0m\u001b[0;34m\u001b[0m\u001b[0;34m\u001b[0m\u001b[0m\n\u001b[1;32m      7\u001b[0m \u001b[0;34m\u001b[0m\u001b[0m\n\u001b[0;32m----> 8\u001b[0;31m   \u001b[0mg_row\u001b[0m \u001b[0;34m=\u001b[0m \u001b[0mnp\u001b[0m\u001b[0;34m.\u001b[0m\u001b[0marray\u001b[0m\u001b[0;34m(\u001b[0m\u001b[0;34m[\u001b[0m\u001b[0minit_row\u001b[0m\u001b[0;34m]\u001b[0m\u001b[0;34m[\u001b[0m\u001b[0minit_col\u001b[0m\u001b[0;34m]\u001b[0m\u001b[0;34m)\u001b[0m\u001b[0;34m\u001b[0m\u001b[0;34m\u001b[0m\u001b[0m\n\u001b[0m\u001b[1;32m      9\u001b[0m   \u001b[0mcount\u001b[0m \u001b[0;34m=\u001b[0m \u001b[0;36m0\u001b[0m\u001b[0;34m\u001b[0m\u001b[0;34m\u001b[0m\u001b[0m\n\u001b[1;32m     10\u001b[0m   \u001b[0;31m#0 meaning it's not their turn, 1 meaning it's their turn\u001b[0m\u001b[0;34m\u001b[0m\u001b[0;34m\u001b[0m\u001b[0;34m\u001b[0m\u001b[0m\n",
            "\u001b[0;31mIndexError\u001b[0m: list index out of range"
          ]
        }
      ]
    }
  ]
}